{
 "cells": [
  {
   "cell_type": "markdown",
   "id": "cb288679",
   "metadata": {},
   "source": [
    "## Why do we build Recommender Systems?\n",
    "\n",
    "Recommender Systems are part of almost every web platform offering items to users. These systems are build to help people find items they like but might not discover on their own, such as movies, products, or articles. Recommenders analyze patterns of user behavior to suggest items similar to what users have liked in the past or what similar users have enjoyed. Evidence supporting the effectiveness of recommender systems includes increased sales, higher user satisfaction, and improved engagement on platforms like Amazon, Netflix, and Spotify, where personalized recommendations significantly contribute to user experience and business success."
   ]
  },
  {
   "cell_type": "markdown",
   "id": "52e94889",
   "metadata": {},
   "source": [
    "Below we will show how to build a very simple recommender system that will provide news articles to users. The system consists of two parts:\n",
    "    \n",
    "   1. a content-based recommender - the model operates via item similarity, meaning that only items similar to the context item are recommended. The recommended list would be shown to the user under the title \"Similar Articles\", and the objective is to motivate the readers to read more content.\n",
    "   2. a collaborative-filtering recommender - in this case the user's past interactions are taken into account. The model first identifies users who have similar interaction history with the current user, and then collects items seen by these similar users, which where not yet seen by the current user. The recommended list would be shown under the tile \"Others also read\" or \"Personalized Recommendations\" to indicate that this list is specifically generated for this particular user. The objective is obviously to keep the users engaged with the platform\n",
    "    \n",
    "   The dataset below can be downloaded [here](https://www.kaggle.com/datasets/yazansalameh/news-category-dataset-v2). It is a news dataset, using which we will build the recommenders. We will provide user-article interaction data later, once we move on to the collaborative-filtering model."
   ]
  },
  {
   "cell_type": "code",
   "execution_count": 1,
   "id": "96e12935",
   "metadata": {},
   "outputs": [],
   "source": [
    "import numpy as np\n",
    "import pandas as pd\n",
    "\n",
    "from sklearn.metrics.pairwise import cosine_similarity  "
   ]
  },
  {
   "cell_type": "code",
   "execution_count": 2,
   "id": "63b2b12d",
   "metadata": {},
   "outputs": [],
   "source": [
    "pd.options.display.max_columns = None"
   ]
  },
  {
   "cell_type": "code",
   "execution_count": 3,
   "id": "8f8bcee0",
   "metadata": {},
   "outputs": [
    {
     "name": "stderr",
     "output_type": "stream",
     "text": [
      "/home/mirza/miniconda3/envs/stockfink-env/lib/python3.9/site-packages/tqdm/auto.py:21: TqdmWarning: IProgress not found. Please update jupyter and ipywidgets. See https://ipywidgets.readthedocs.io/en/stable/user_install.html\n",
      "  from .autonotebook import tqdm as notebook_tqdm\n"
     ]
    }
   ],
   "source": [
    "from sentence_transformers import SentenceTransformer"
   ]
  },
  {
   "cell_type": "code",
   "execution_count": 4,
   "id": "7f896228",
   "metadata": {},
   "outputs": [],
   "source": [
    "BERT_SENT = 'sentence-transformers/distiluse-base-multilingual-cased-v1'"
   ]
  },
  {
   "cell_type": "code",
   "execution_count": 5,
   "id": "cc63f36c",
   "metadata": {},
   "outputs": [],
   "source": [
    "news_articles = pd.read_json(\"News_Category_Dataset_v2.json\", lines = True)"
   ]
  },
  {
   "cell_type": "code",
   "execution_count": 6,
   "id": "b52ae010",
   "metadata": {},
   "outputs": [
    {
     "data": {
      "text/html": [
       "<div>\n",
       "<style scoped>\n",
       "    .dataframe tbody tr th:only-of-type {\n",
       "        vertical-align: middle;\n",
       "    }\n",
       "\n",
       "    .dataframe tbody tr th {\n",
       "        vertical-align: top;\n",
       "    }\n",
       "\n",
       "    .dataframe thead th {\n",
       "        text-align: right;\n",
       "    }\n",
       "</style>\n",
       "<table border=\"1\" class=\"dataframe\">\n",
       "  <thead>\n",
       "    <tr style=\"text-align: right;\">\n",
       "      <th></th>\n",
       "      <th>category</th>\n",
       "      <th>headline</th>\n",
       "      <th>authors</th>\n",
       "      <th>link</th>\n",
       "      <th>short_description</th>\n",
       "      <th>date</th>\n",
       "    </tr>\n",
       "  </thead>\n",
       "  <tbody>\n",
       "    <tr>\n",
       "      <th>0</th>\n",
       "      <td>CRIME</td>\n",
       "      <td>There Were 2 Mass Shootings In Texas Last Week...</td>\n",
       "      <td>Melissa Jeltsen</td>\n",
       "      <td>https://www.huffingtonpost.com/entry/texas-ama...</td>\n",
       "      <td>She left her husband. He killed their children...</td>\n",
       "      <td>2018-05-26</td>\n",
       "    </tr>\n",
       "    <tr>\n",
       "      <th>1</th>\n",
       "      <td>ENTERTAINMENT</td>\n",
       "      <td>Will Smith Joins Diplo And Nicky Jam For The 2...</td>\n",
       "      <td>Andy McDonald</td>\n",
       "      <td>https://www.huffingtonpost.com/entry/will-smit...</td>\n",
       "      <td>Of course it has a song.</td>\n",
       "      <td>2018-05-26</td>\n",
       "    </tr>\n",
       "    <tr>\n",
       "      <th>2</th>\n",
       "      <td>ENTERTAINMENT</td>\n",
       "      <td>Hugh Grant Marries For The First Time At Age 57</td>\n",
       "      <td>Ron Dicker</td>\n",
       "      <td>https://www.huffingtonpost.com/entry/hugh-gran...</td>\n",
       "      <td>The actor and his longtime girlfriend Anna Ebe...</td>\n",
       "      <td>2018-05-26</td>\n",
       "    </tr>\n",
       "    <tr>\n",
       "      <th>3</th>\n",
       "      <td>ENTERTAINMENT</td>\n",
       "      <td>Jim Carrey Blasts 'Castrato' Adam Schiff And D...</td>\n",
       "      <td>Ron Dicker</td>\n",
       "      <td>https://www.huffingtonpost.com/entry/jim-carre...</td>\n",
       "      <td>The actor gives Dems an ass-kicking for not fi...</td>\n",
       "      <td>2018-05-26</td>\n",
       "    </tr>\n",
       "    <tr>\n",
       "      <th>4</th>\n",
       "      <td>ENTERTAINMENT</td>\n",
       "      <td>Julianna Margulies Uses Donald Trump Poop Bags...</td>\n",
       "      <td>Ron Dicker</td>\n",
       "      <td>https://www.huffingtonpost.com/entry/julianna-...</td>\n",
       "      <td>The \"Dietland\" actress said using the bags is ...</td>\n",
       "      <td>2018-05-26</td>\n",
       "    </tr>\n",
       "  </tbody>\n",
       "</table>\n",
       "</div>"
      ],
      "text/plain": [
       "        category                                           headline  \\\n",
       "0          CRIME  There Were 2 Mass Shootings In Texas Last Week...   \n",
       "1  ENTERTAINMENT  Will Smith Joins Diplo And Nicky Jam For The 2...   \n",
       "2  ENTERTAINMENT    Hugh Grant Marries For The First Time At Age 57   \n",
       "3  ENTERTAINMENT  Jim Carrey Blasts 'Castrato' Adam Schiff And D...   \n",
       "4  ENTERTAINMENT  Julianna Margulies Uses Donald Trump Poop Bags...   \n",
       "\n",
       "           authors                                               link  \\\n",
       "0  Melissa Jeltsen  https://www.huffingtonpost.com/entry/texas-ama...   \n",
       "1    Andy McDonald  https://www.huffingtonpost.com/entry/will-smit...   \n",
       "2       Ron Dicker  https://www.huffingtonpost.com/entry/hugh-gran...   \n",
       "3       Ron Dicker  https://www.huffingtonpost.com/entry/jim-carre...   \n",
       "4       Ron Dicker  https://www.huffingtonpost.com/entry/julianna-...   \n",
       "\n",
       "                                   short_description       date  \n",
       "0  She left her husband. He killed their children... 2018-05-26  \n",
       "1                           Of course it has a song. 2018-05-26  \n",
       "2  The actor and his longtime girlfriend Anna Ebe... 2018-05-26  \n",
       "3  The actor gives Dems an ass-kicking for not fi... 2018-05-26  \n",
       "4  The \"Dietland\" actress said using the bags is ... 2018-05-26  "
      ]
     },
     "execution_count": 6,
     "metadata": {},
     "output_type": "execute_result"
    }
   ],
   "source": [
    "news_articles.head()"
   ]
  },
  {
   "cell_type": "markdown",
   "id": "76c85ada",
   "metadata": {},
   "source": [
    "We see that the dataset has columns such as `category`, `headline`, `short_description`, `date`. We will extract \n",
    "instances that were published after 2018-01-01."
   ]
  },
  {
   "cell_type": "code",
   "execution_count": 7,
   "id": "8738776f",
   "metadata": {},
   "outputs": [
    {
     "data": {
      "text/plain": [
       "(200853, 6)"
      ]
     },
     "execution_count": 7,
     "metadata": {},
     "output_type": "execute_result"
    }
   ],
   "source": [
    "news_articles.shape"
   ]
  },
  {
   "cell_type": "code",
   "execution_count": 8,
   "id": "d245d3be",
   "metadata": {},
   "outputs": [],
   "source": [
    "news_articles = news_articles[news_articles['date'] >= pd.Timestamp(2018, 1, 1)]"
   ]
  },
  {
   "cell_type": "code",
   "execution_count": 9,
   "id": "953ee2e3",
   "metadata": {},
   "outputs": [
    {
     "data": {
      "text/plain": [
       "(8583, 6)"
      ]
     },
     "execution_count": 9,
     "metadata": {},
     "output_type": "execute_result"
    }
   ],
   "source": [
    "news_articles.shape"
   ]
  },
  {
   "cell_type": "markdown",
   "id": "d2f48988",
   "metadata": {},
   "source": [
    "We will also remove news with short headlines (shorter than 7 words)."
   ]
  },
  {
   "cell_type": "code",
   "execution_count": 10,
   "id": "405843be",
   "metadata": {},
   "outputs": [
    {
     "data": {
      "text/plain": [
       "8429"
      ]
     },
     "execution_count": 10,
     "metadata": {},
     "output_type": "execute_result"
    }
   ],
   "source": [
    "news_articles = news_articles[news_articles['headline'].apply(lambda x: len(x.split()) > 6)]\n",
    "news_articles.shape[0]"
   ]
  },
  {
   "cell_type": "code",
   "execution_count": 11,
   "id": "fa28b0ac",
   "metadata": {},
   "outputs": [
    {
     "name": "stdout",
     "output_type": "stream",
     "text": [
      "Total number of articles after removing duplicates: 8384\n"
     ]
    }
   ],
   "source": [
    "# drop duplicates\n",
    "news_articles = news_articles.sort_values('headline', ascending=False).drop_duplicates('headline', keep=False)\n",
    "print(f\"Total number of articles after removing duplicates: {news_articles.shape[0]}\")"
   ]
  },
  {
   "cell_type": "code",
   "execution_count": 12,
   "id": "a613d5d9",
   "metadata": {},
   "outputs": [
    {
     "name": "stdout",
     "output_type": "stream",
     "text": [
      "Total number of articles :  8384\n",
      "Total number of authors :  876\n",
      "Total number of categories :  26\n"
     ]
    }
   ],
   "source": [
    "print(\"Total number of articles : \", news_articles.shape[0])\n",
    "print(\"Total number of authors : \", news_articles[\"authors\"].nunique())\n",
    "print(\"Total number of categories : \", news_articles[\"category\"].nunique())"
   ]
  },
  {
   "cell_type": "markdown",
   "id": "d4fa9174",
   "metadata": {},
   "source": [
    "## 1. Content-based recommender\n",
    "\n",
    "Below we will implement our content-based recommended. The recommended list would be same for all users, and would be displayed under the title \"Similar Articles\"."
   ]
  },
  {
   "cell_type": "markdown",
   "id": "d6ac9462",
   "metadata": {},
   "source": [
    "To identify which news articles are similar to a given article, we will obtain embedding of the text associated \n",
    "with all articles. Once we have the embeddings, we will use cosine similarity to retrieve the most similar\n",
    "articles. The model we chose is from the Sentence Transformers family, often used for text-embedding tasks."
   ]
  },
  {
   "cell_type": "code",
   "execution_count": 13,
   "id": "f08657bc",
   "metadata": {},
   "outputs": [],
   "source": [
    "def get_text_and_mappings(df):\n",
    "\n",
    "    corpus = df['headline_description'].tolist()\n",
    "    \n",
    "    # generate mappings\n",
    "    ids_count_map = {row_id: index for index, row_id in enumerate(df['article_id'])}\n",
    "    count_ids_map = {index: row_id for index, row_id in enumerate(df['article_id'])}\n",
    "    \n",
    "    return corpus, ids_count_map, count_ids_map"
   ]
  },
  {
   "cell_type": "code",
   "execution_count": 14,
   "id": "ab941871",
   "metadata": {},
   "outputs": [],
   "source": [
    "def compute_vectors(corpus, model):\n",
    "\n",
    "    print('Calculating Embeddings of articles...')\n",
    "    vectors = model.encode(corpus)\n",
    "    print('Embeddings calculated!')\n",
    "    \n",
    "    return vectors"
   ]
  },
  {
   "cell_type": "markdown",
   "id": "bc653063",
   "metadata": {},
   "source": [
    "We will add one more column to the dataset, the values of which would be a concatenation of the headline and the \n",
    "news article description. We intend to use the text corpus of this column for embedding, i.e., calculating vector\n",
    "representation of the articles"
   ]
  },
  {
   "cell_type": "code",
   "execution_count": 15,
   "id": "bceeddae",
   "metadata": {},
   "outputs": [
    {
     "data": {
      "text/html": [
       "<div>\n",
       "<style scoped>\n",
       "    .dataframe tbody tr th:only-of-type {\n",
       "        vertical-align: middle;\n",
       "    }\n",
       "\n",
       "    .dataframe tbody tr th {\n",
       "        vertical-align: top;\n",
       "    }\n",
       "\n",
       "    .dataframe thead th {\n",
       "        text-align: right;\n",
       "    }\n",
       "</style>\n",
       "<table border=\"1\" class=\"dataframe\">\n",
       "  <thead>\n",
       "    <tr style=\"text-align: right;\">\n",
       "      <th></th>\n",
       "      <th>category</th>\n",
       "      <th>headline</th>\n",
       "      <th>authors</th>\n",
       "      <th>link</th>\n",
       "      <th>short_description</th>\n",
       "      <th>date</th>\n",
       "      <th>headline_description</th>\n",
       "    </tr>\n",
       "  </thead>\n",
       "  <tbody>\n",
       "    <tr>\n",
       "      <th>2932</th>\n",
       "      <td>QUEER VOICES</td>\n",
       "      <td>‘Will &amp; Grace’ Creator To Donate Gay Bunny Boo...</td>\n",
       "      <td>Elyse Wanshel</td>\n",
       "      <td>https://www.huffingtonpost.com/entry/will-grac...</td>\n",
       "      <td>It's about to be a lot easier for kids in Mike...</td>\n",
       "      <td>2018-04-02</td>\n",
       "      <td>‘Will &amp; Grace’ Creator To Donate Gay Bunny Boo...</td>\n",
       "    </tr>\n",
       "    <tr>\n",
       "      <th>4487</th>\n",
       "      <td>QUEER VOICES</td>\n",
       "      <td>‘The Voice’ Blind Auditions Make History With ...</td>\n",
       "      <td>Lyndsey Parker, Yahoo Entertainment</td>\n",
       "      <td>https://www.huffingtonpost.com/entry/the-voice...</td>\n",
       "      <td>Austin Giorgio, 21: “How Sweet It Is (To Be Lo...</td>\n",
       "      <td>2018-03-06</td>\n",
       "      <td>‘The Voice’ Blind Auditions Make History With ...</td>\n",
       "    </tr>\n",
       "    <tr>\n",
       "      <th>8255</th>\n",
       "      <td>QUEER VOICES</td>\n",
       "      <td>‘The Penumbra’ Is The Queer Audio Drama You Di...</td>\n",
       "      <td>Sarah Emily Baum, ContributorFreelance Writer</td>\n",
       "      <td>https://www.huffingtonpost.com/entry/the-penum...</td>\n",
       "      <td>Young, fun, fantastical and, most notably, inc...</td>\n",
       "      <td>2018-01-05</td>\n",
       "      <td>‘The Penumbra’ Is The Queer Audio Drama You Di...</td>\n",
       "    </tr>\n",
       "    <tr>\n",
       "      <th>744</th>\n",
       "      <td>COMEDY</td>\n",
       "      <td>‘The Opposition’ Gives Trump A Hot Lawyer Of H...</td>\n",
       "      <td>Ed Mazza</td>\n",
       "      <td>https://www.huffingtonpost.com/entry/trump-hot...</td>\n",
       "      <td>He's here to make a \"strong case\" for the pres...</td>\n",
       "      <td>2018-05-11</td>\n",
       "      <td>‘The Opposition’ Gives Trump A Hot Lawyer Of H...</td>\n",
       "    </tr>\n",
       "    <tr>\n",
       "      <th>2893</th>\n",
       "      <td>ENTERTAINMENT</td>\n",
       "      <td>‘Stranger Things’ Fans Will Be Able To Visit T...</td>\n",
       "      <td>Elyse Wanshel</td>\n",
       "      <td>https://www.huffingtonpost.com/entry/stranger-...</td>\n",
       "      <td>Hawkins is headed to Hollywood, Orlando and Si...</td>\n",
       "      <td>2018-04-03</td>\n",
       "      <td>‘Stranger Things’ Fans Will Be Able To Visit T...</td>\n",
       "    </tr>\n",
       "  </tbody>\n",
       "</table>\n",
       "</div>"
      ],
      "text/plain": [
       "           category                                           headline  \\\n",
       "2932   QUEER VOICES  ‘Will & Grace’ Creator To Donate Gay Bunny Boo...   \n",
       "4487   QUEER VOICES  ‘The Voice’ Blind Auditions Make History With ...   \n",
       "8255   QUEER VOICES  ‘The Penumbra’ Is The Queer Audio Drama You Di...   \n",
       "744          COMEDY  ‘The Opposition’ Gives Trump A Hot Lawyer Of H...   \n",
       "2893  ENTERTAINMENT  ‘Stranger Things’ Fans Will Be Able To Visit T...   \n",
       "\n",
       "                                            authors  \\\n",
       "2932                                  Elyse Wanshel   \n",
       "4487            Lyndsey Parker, Yahoo Entertainment   \n",
       "8255  Sarah Emily Baum, ContributorFreelance Writer   \n",
       "744                                        Ed Mazza   \n",
       "2893                                  Elyse Wanshel   \n",
       "\n",
       "                                                   link  \\\n",
       "2932  https://www.huffingtonpost.com/entry/will-grac...   \n",
       "4487  https://www.huffingtonpost.com/entry/the-voice...   \n",
       "8255  https://www.huffingtonpost.com/entry/the-penum...   \n",
       "744   https://www.huffingtonpost.com/entry/trump-hot...   \n",
       "2893  https://www.huffingtonpost.com/entry/stranger-...   \n",
       "\n",
       "                                      short_description       date  \\\n",
       "2932  It's about to be a lot easier for kids in Mike... 2018-04-02   \n",
       "4487  Austin Giorgio, 21: “How Sweet It Is (To Be Lo... 2018-03-06   \n",
       "8255  Young, fun, fantastical and, most notably, inc... 2018-01-05   \n",
       "744   He's here to make a \"strong case\" for the pres... 2018-05-11   \n",
       "2893  Hawkins is headed to Hollywood, Orlando and Si... 2018-04-03   \n",
       "\n",
       "                                   headline_description  \n",
       "2932  ‘Will & Grace’ Creator To Donate Gay Bunny Boo...  \n",
       "4487  ‘The Voice’ Blind Auditions Make History With ...  \n",
       "8255  ‘The Penumbra’ Is The Queer Audio Drama You Di...  \n",
       "744   ‘The Opposition’ Gives Trump A Hot Lawyer Of H...  \n",
       "2893  ‘Stranger Things’ Fans Will Be Able To Visit T...  "
      ]
     },
     "execution_count": 15,
     "metadata": {},
     "output_type": "execute_result"
    }
   ],
   "source": [
    "news_articles[\"headline_description\"] = news_articles['headline'] + ' ' + news_articles['short_description']\n",
    "news_articles.head()"
   ]
  },
  {
   "cell_type": "code",
   "execution_count": 16,
   "id": "dc63f04f",
   "metadata": {},
   "outputs": [
    {
     "data": {
      "text/html": [
       "<div>\n",
       "<style scoped>\n",
       "    .dataframe tbody tr th:only-of-type {\n",
       "        vertical-align: middle;\n",
       "    }\n",
       "\n",
       "    .dataframe tbody tr th {\n",
       "        vertical-align: top;\n",
       "    }\n",
       "\n",
       "    .dataframe thead th {\n",
       "        text-align: right;\n",
       "    }\n",
       "</style>\n",
       "<table border=\"1\" class=\"dataframe\">\n",
       "  <thead>\n",
       "    <tr style=\"text-align: right;\">\n",
       "      <th></th>\n",
       "      <th>category</th>\n",
       "      <th>headline</th>\n",
       "      <th>authors</th>\n",
       "      <th>link</th>\n",
       "      <th>short_description</th>\n",
       "      <th>date</th>\n",
       "      <th>headline_description</th>\n",
       "      <th>article_id</th>\n",
       "    </tr>\n",
       "  </thead>\n",
       "  <tbody>\n",
       "    <tr>\n",
       "      <th>2932</th>\n",
       "      <td>QUEER VOICES</td>\n",
       "      <td>‘Will &amp; Grace’ Creator To Donate Gay Bunny Boo...</td>\n",
       "      <td>Elyse Wanshel</td>\n",
       "      <td>https://www.huffingtonpost.com/entry/will-grac...</td>\n",
       "      <td>It's about to be a lot easier for kids in Mike...</td>\n",
       "      <td>2018-04-02</td>\n",
       "      <td>‘Will &amp; Grace’ Creator To Donate Gay Bunny Boo...</td>\n",
       "      <td>2932</td>\n",
       "    </tr>\n",
       "    <tr>\n",
       "      <th>4487</th>\n",
       "      <td>QUEER VOICES</td>\n",
       "      <td>‘The Voice’ Blind Auditions Make History With ...</td>\n",
       "      <td>Lyndsey Parker, Yahoo Entertainment</td>\n",
       "      <td>https://www.huffingtonpost.com/entry/the-voice...</td>\n",
       "      <td>Austin Giorgio, 21: “How Sweet It Is (To Be Lo...</td>\n",
       "      <td>2018-03-06</td>\n",
       "      <td>‘The Voice’ Blind Auditions Make History With ...</td>\n",
       "      <td>4487</td>\n",
       "    </tr>\n",
       "    <tr>\n",
       "      <th>8255</th>\n",
       "      <td>QUEER VOICES</td>\n",
       "      <td>‘The Penumbra’ Is The Queer Audio Drama You Di...</td>\n",
       "      <td>Sarah Emily Baum, ContributorFreelance Writer</td>\n",
       "      <td>https://www.huffingtonpost.com/entry/the-penum...</td>\n",
       "      <td>Young, fun, fantastical and, most notably, inc...</td>\n",
       "      <td>2018-01-05</td>\n",
       "      <td>‘The Penumbra’ Is The Queer Audio Drama You Di...</td>\n",
       "      <td>8255</td>\n",
       "    </tr>\n",
       "    <tr>\n",
       "      <th>744</th>\n",
       "      <td>COMEDY</td>\n",
       "      <td>‘The Opposition’ Gives Trump A Hot Lawyer Of H...</td>\n",
       "      <td>Ed Mazza</td>\n",
       "      <td>https://www.huffingtonpost.com/entry/trump-hot...</td>\n",
       "      <td>He's here to make a \"strong case\" for the pres...</td>\n",
       "      <td>2018-05-11</td>\n",
       "      <td>‘The Opposition’ Gives Trump A Hot Lawyer Of H...</td>\n",
       "      <td>744</td>\n",
       "    </tr>\n",
       "    <tr>\n",
       "      <th>2893</th>\n",
       "      <td>ENTERTAINMENT</td>\n",
       "      <td>‘Stranger Things’ Fans Will Be Able To Visit T...</td>\n",
       "      <td>Elyse Wanshel</td>\n",
       "      <td>https://www.huffingtonpost.com/entry/stranger-...</td>\n",
       "      <td>Hawkins is headed to Hollywood, Orlando and Si...</td>\n",
       "      <td>2018-04-03</td>\n",
       "      <td>‘Stranger Things’ Fans Will Be Able To Visit T...</td>\n",
       "      <td>2893</td>\n",
       "    </tr>\n",
       "  </tbody>\n",
       "</table>\n",
       "</div>"
      ],
      "text/plain": [
       "           category                                           headline  \\\n",
       "2932   QUEER VOICES  ‘Will & Grace’ Creator To Donate Gay Bunny Boo...   \n",
       "4487   QUEER VOICES  ‘The Voice’ Blind Auditions Make History With ...   \n",
       "8255   QUEER VOICES  ‘The Penumbra’ Is The Queer Audio Drama You Di...   \n",
       "744          COMEDY  ‘The Opposition’ Gives Trump A Hot Lawyer Of H...   \n",
       "2893  ENTERTAINMENT  ‘Stranger Things’ Fans Will Be Able To Visit T...   \n",
       "\n",
       "                                            authors  \\\n",
       "2932                                  Elyse Wanshel   \n",
       "4487            Lyndsey Parker, Yahoo Entertainment   \n",
       "8255  Sarah Emily Baum, ContributorFreelance Writer   \n",
       "744                                        Ed Mazza   \n",
       "2893                                  Elyse Wanshel   \n",
       "\n",
       "                                                   link  \\\n",
       "2932  https://www.huffingtonpost.com/entry/will-grac...   \n",
       "4487  https://www.huffingtonpost.com/entry/the-voice...   \n",
       "8255  https://www.huffingtonpost.com/entry/the-penum...   \n",
       "744   https://www.huffingtonpost.com/entry/trump-hot...   \n",
       "2893  https://www.huffingtonpost.com/entry/stranger-...   \n",
       "\n",
       "                                      short_description       date  \\\n",
       "2932  It's about to be a lot easier for kids in Mike... 2018-04-02   \n",
       "4487  Austin Giorgio, 21: “How Sweet It Is (To Be Lo... 2018-03-06   \n",
       "8255  Young, fun, fantastical and, most notably, inc... 2018-01-05   \n",
       "744   He's here to make a \"strong case\" for the pres... 2018-05-11   \n",
       "2893  Hawkins is headed to Hollywood, Orlando and Si... 2018-04-03   \n",
       "\n",
       "                                   headline_description  article_id  \n",
       "2932  ‘Will & Grace’ Creator To Donate Gay Bunny Boo...        2932  \n",
       "4487  ‘The Voice’ Blind Auditions Make History With ...        4487  \n",
       "8255  ‘The Penumbra’ Is The Queer Audio Drama You Di...        8255  \n",
       "744   ‘The Opposition’ Gives Trump A Hot Lawyer Of H...         744  \n",
       "2893  ‘Stranger Things’ Fans Will Be Able To Visit T...        2893  "
      ]
     },
     "execution_count": 16,
     "metadata": {},
     "output_type": "execute_result"
    }
   ],
   "source": [
    "news_articles['article_id'] = news_articles.index\n",
    "#news_articles.reset_index(drop=True)\n",
    "news_articles.head()"
   ]
  },
  {
   "cell_type": "code",
   "execution_count": 17,
   "id": "4ada696f",
   "metadata": {},
   "outputs": [
    {
     "data": {
      "text/html": [
       "<div>\n",
       "<style scoped>\n",
       "    .dataframe tbody tr th:only-of-type {\n",
       "        vertical-align: middle;\n",
       "    }\n",
       "\n",
       "    .dataframe tbody tr th {\n",
       "        vertical-align: top;\n",
       "    }\n",
       "\n",
       "    .dataframe thead th {\n",
       "        text-align: right;\n",
       "    }\n",
       "</style>\n",
       "<table border=\"1\" class=\"dataframe\">\n",
       "  <thead>\n",
       "    <tr style=\"text-align: right;\">\n",
       "      <th></th>\n",
       "      <th>article_id</th>\n",
       "      <th>headline_description</th>\n",
       "    </tr>\n",
       "  </thead>\n",
       "  <tbody>\n",
       "    <tr>\n",
       "      <th>2932</th>\n",
       "      <td>2932</td>\n",
       "      <td>‘Will &amp; Grace’ Creator To Donate Gay Bunny Boo...</td>\n",
       "    </tr>\n",
       "    <tr>\n",
       "      <th>4487</th>\n",
       "      <td>4487</td>\n",
       "      <td>‘The Voice’ Blind Auditions Make History With ...</td>\n",
       "    </tr>\n",
       "    <tr>\n",
       "      <th>8255</th>\n",
       "      <td>8255</td>\n",
       "      <td>‘The Penumbra’ Is The Queer Audio Drama You Di...</td>\n",
       "    </tr>\n",
       "    <tr>\n",
       "      <th>744</th>\n",
       "      <td>744</td>\n",
       "      <td>‘The Opposition’ Gives Trump A Hot Lawyer Of H...</td>\n",
       "    </tr>\n",
       "    <tr>\n",
       "      <th>2893</th>\n",
       "      <td>2893</td>\n",
       "      <td>‘Stranger Things’ Fans Will Be Able To Visit T...</td>\n",
       "    </tr>\n",
       "  </tbody>\n",
       "</table>\n",
       "</div>"
      ],
      "text/plain": [
       "      article_id                               headline_description\n",
       "2932        2932  ‘Will & Grace’ Creator To Donate Gay Bunny Boo...\n",
       "4487        4487  ‘The Voice’ Blind Auditions Make History With ...\n",
       "8255        8255  ‘The Penumbra’ Is The Queer Audio Drama You Di...\n",
       "744          744  ‘The Opposition’ Gives Trump A Hot Lawyer Of H...\n",
       "2893        2893  ‘Stranger Things’ Fans Will Be Able To Visit T..."
      ]
     },
     "execution_count": 17,
     "metadata": {},
     "output_type": "execute_result"
    }
   ],
   "source": [
    "articles_simple = news_articles[['article_id', 'headline_description']]\n",
    "articles_simple.head()"
   ]
  },
  {
   "cell_type": "code",
   "execution_count": 18,
   "id": "2be8ba3a",
   "metadata": {},
   "outputs": [],
   "source": [
    "articles_sample = articles_simple.head(500)"
   ]
  },
  {
   "cell_type": "code",
   "execution_count": 19,
   "id": "639e4565",
   "metadata": {},
   "outputs": [],
   "source": [
    "corpus, ids_count_map, count_ids_map = get_text_and_mappings(articles_sample)"
   ]
  },
  {
   "cell_type": "code",
   "execution_count": 20,
   "id": "1bf09b2a",
   "metadata": {},
   "outputs": [
    {
     "name": "stdout",
     "output_type": "stream",
     "text": [
      "Loading the model...\n"
     ]
    },
    {
     "name": "stderr",
     "output_type": "stream",
     "text": [
      "/home/mirza/miniconda3/envs/stockfink-env/lib/python3.9/site-packages/torch/cuda/__init__.py:138: UserWarning: CUDA initialization: CUDA unknown error - this may be due to an incorrectly set up environment, e.g. changing env variable CUDA_VISIBLE_DEVICES after program start. Setting the available devices to be zero. (Triggered internally at ../c10/cuda/CUDAFunctions.cpp:108.)\n",
      "  return torch._C._cuda_getDeviceCount() > 0\n"
     ]
    }
   ],
   "source": [
    "print(\"Loading the model...\")\n",
    "model_bert = SentenceTransformer(BERT_SENT)"
   ]
  },
  {
   "cell_type": "code",
   "execution_count": 21,
   "id": "d8d04128",
   "metadata": {},
   "outputs": [
    {
     "name": "stdout",
     "output_type": "stream",
     "text": [
      "Calculating Embeddings of articles...\n",
      "Embeddings calculated!\n"
     ]
    }
   ],
   "source": [
    "vectors = compute_vectors(corpus, model_bert)"
   ]
  },
  {
   "cell_type": "code",
   "execution_count": 45,
   "id": "79797019",
   "metadata": {},
   "outputs": [],
   "source": [
    "import operator\n",
    "from numpy import dot\n",
    "from numpy.linalg import norm\n",
    "\n",
    "def get_cosine_sim(count_id, a, vectors):\n",
    "    \n",
    "    ids_scores = []\n",
    "    for count in range(len(vectors)):\n",
    "        if count == count_id:\n",
    "            continue\n",
    "        b = vectors[count]\n",
    "        cos_sim = dot(a, b) / (norm(a) * norm(b))\n",
    "        ids_scores.append((count, cos_sim))\n",
    "\n",
    "    ids_scores.sort(key=operator.itemgetter(1), reverse=True)\n",
    "\n",
    "    return ids_scores\n",
    "\n",
    "def get_similar_vectors(count_id, vectors, N):\n",
    "\n",
    "    a = vectors[count_id]\n",
    "    \n",
    "    ids_scores = get_cosine_sim(count_id, a, vectors)\n",
    "    \n",
    "    return ids_scores[:N]\n",
    "\n",
    "def get_similar_articles(count_id, vectors, N, count_ids_map):\n",
    "\n",
    "    ids_scores = get_similar_vectors(count_id, vectors, N)\n",
    "    original_ids = [count_ids_map[a[0]] for a in ids_scores]\n",
    "\n",
    "    return original_ids"
   ]
  },
  {
   "cell_type": "code",
   "execution_count": 24,
   "id": "a4e50d2d",
   "metadata": {},
   "outputs": [],
   "source": [
    "def print_article_text(corpus, ids_count_map, similar_article_ids):\n",
    "    \n",
    "    #print(f'{N} movies/shows similar to\\n {corpus[count_id]}:\\n')\n",
    "    for article_id in similar_article_ids:\n",
    "        print(corpus[article_id])\n",
    "        print('-' * 30)"
   ]
  },
  {
   "cell_type": "markdown",
   "id": "71d2ffc6",
   "metadata": {},
   "source": [
    "Below we will chose a context article, for which we will then search similar articles. We hope that the short artcile description would be enough to evaluate if the recommended similar articles make sense."
   ]
  },
  {
   "cell_type": "code",
   "execution_count": 29,
   "id": "a0054bf8",
   "metadata": {},
   "outputs": [
    {
     "name": "stdout",
     "output_type": "stream",
     "text": [
      "Context Article:  3 ‘The Opposition’ Gives Trump A Hot Lawyer Of His Own He's here to make a \"strong case\" for the president.\n"
     ]
    }
   ],
   "source": [
    "original_id = 744\n",
    "count_id = ids_count_map[original_id]\n",
    "print(\"Context Article: \", count_id, corpus[count_id])"
   ]
  },
  {
   "cell_type": "code",
   "execution_count": 30,
   "id": "505c633c",
   "metadata": {},
   "outputs": [],
   "source": [
    "k = 3 # how many similar articles to retrieve"
   ]
  },
  {
   "cell_type": "code",
   "execution_count": 33,
   "id": "8b163666",
   "metadata": {},
   "outputs": [
    {
     "data": {
      "text/plain": [
       "[3705, 8208, 7878]"
      ]
     },
     "execution_count": 33,
     "metadata": {},
     "output_type": "execute_result"
    }
   ],
   "source": [
    "similar_articles = get_similar_articles(count_id, vectors, k, count_ids_map)\n",
    "similar_articles"
   ]
  },
  {
   "cell_type": "code",
   "execution_count": 34,
   "id": "891e5f74",
   "metadata": {},
   "outputs": [
    {
     "data": {
      "text/plain": [
       "[277, 276, 367]"
      ]
     },
     "execution_count": 34,
     "metadata": {},
     "output_type": "execute_result"
    }
   ],
   "source": [
    "similar_article_ids = [ids_count_map[id_] for id_ in similar_articles]\n",
    "similar_article_ids"
   ]
  },
  {
   "cell_type": "code",
   "execution_count": 35,
   "id": "ffdd8e1c",
   "metadata": {},
   "outputs": [
    {
     "data": {
      "text/plain": [
       "'‘The Opposition’ Gives Trump A Hot Lawyer Of His Own He\\'s here to make a \"strong case\" for the president.'"
      ]
     },
     "execution_count": 35,
     "metadata": {},
     "output_type": "execute_result"
    }
   ],
   "source": [
    "corpus[count_id] # context article"
   ]
  },
  {
   "cell_type": "code",
   "execution_count": 36,
   "id": "91287148",
   "metadata": {},
   "outputs": [
    {
     "name": "stdout",
     "output_type": "stream",
     "text": [
      "White House Lawyer Insists Trump Isn't Considering Firing Mueller Republican lawmakers have insisted that Trump let the special counsel to do his job.\n",
      "------------------------------\n",
      "White House Lawyer Misled Trump To Prevent James Comey's Dismissal: Report The deputy counsel was reportedly trying to prevent an obstruction investigation.\n",
      "------------------------------\n",
      "Wednesday's Morning Email: Judge Halts Trump Administration's Plan To Kill DACA While a lawsuit proceeds.\n",
      "------------------------------\n"
     ]
    }
   ],
   "source": [
    "print_article_text(corpus, ids_count_map, similar_article_ids) # similar articles"
   ]
  },
  {
   "cell_type": "markdown",
   "id": "b07bade3",
   "metadata": {},
   "source": [
    "As we see in the above, the context article was about Donald Trump. Our recommendered articles also mention\n",
    "Mr. Trump - it makes sense to assume that people who read the context article would also be interested in reading\n",
    "our recommendations."
   ]
  },
  {
   "cell_type": "code",
   "execution_count": 72,
   "id": "2c6d5f0d",
   "metadata": {},
   "outputs": [
    {
     "data": {
      "text/html": [
       "<div>\n",
       "<style scoped>\n",
       "    .dataframe tbody tr th:only-of-type {\n",
       "        vertical-align: middle;\n",
       "    }\n",
       "\n",
       "    .dataframe tbody tr th {\n",
       "        vertical-align: top;\n",
       "    }\n",
       "\n",
       "    .dataframe thead th {\n",
       "        text-align: right;\n",
       "    }\n",
       "</style>\n",
       "<table border=\"1\" class=\"dataframe\">\n",
       "  <thead>\n",
       "    <tr style=\"text-align: right;\">\n",
       "      <th></th>\n",
       "      <th>category</th>\n",
       "      <th>headline</th>\n",
       "      <th>authors</th>\n",
       "      <th>link</th>\n",
       "      <th>short_description</th>\n",
       "      <th>date</th>\n",
       "      <th>headline_description</th>\n",
       "      <th>article_id</th>\n",
       "    </tr>\n",
       "  </thead>\n",
       "  <tbody>\n",
       "    <tr>\n",
       "      <th>2932</th>\n",
       "      <td>QUEER VOICES</td>\n",
       "      <td>‘Will &amp; Grace’ Creator To Donate Gay Bunny Boo...</td>\n",
       "      <td>Elyse Wanshel</td>\n",
       "      <td>https://www.huffingtonpost.com/entry/will-grac...</td>\n",
       "      <td>It's about to be a lot easier for kids in Mike...</td>\n",
       "      <td>2018-04-02</td>\n",
       "      <td>‘Will &amp; Grace’ Creator To Donate Gay Bunny Boo...</td>\n",
       "      <td>2932</td>\n",
       "    </tr>\n",
       "    <tr>\n",
       "      <th>4487</th>\n",
       "      <td>QUEER VOICES</td>\n",
       "      <td>‘The Voice’ Blind Auditions Make History With ...</td>\n",
       "      <td>Lyndsey Parker, Yahoo Entertainment</td>\n",
       "      <td>https://www.huffingtonpost.com/entry/the-voice...</td>\n",
       "      <td>Austin Giorgio, 21: “How Sweet It Is (To Be Lo...</td>\n",
       "      <td>2018-03-06</td>\n",
       "      <td>‘The Voice’ Blind Auditions Make History With ...</td>\n",
       "      <td>4487</td>\n",
       "    </tr>\n",
       "    <tr>\n",
       "      <th>8255</th>\n",
       "      <td>QUEER VOICES</td>\n",
       "      <td>‘The Penumbra’ Is The Queer Audio Drama You Di...</td>\n",
       "      <td>Sarah Emily Baum, ContributorFreelance Writer</td>\n",
       "      <td>https://www.huffingtonpost.com/entry/the-penum...</td>\n",
       "      <td>Young, fun, fantastical and, most notably, inc...</td>\n",
       "      <td>2018-01-05</td>\n",
       "      <td>‘The Penumbra’ Is The Queer Audio Drama You Di...</td>\n",
       "      <td>8255</td>\n",
       "    </tr>\n",
       "    <tr>\n",
       "      <th>744</th>\n",
       "      <td>COMEDY</td>\n",
       "      <td>‘The Opposition’ Gives Trump A Hot Lawyer Of H...</td>\n",
       "      <td>Ed Mazza</td>\n",
       "      <td>https://www.huffingtonpost.com/entry/trump-hot...</td>\n",
       "      <td>He's here to make a \"strong case\" for the pres...</td>\n",
       "      <td>2018-05-11</td>\n",
       "      <td>‘The Opposition’ Gives Trump A Hot Lawyer Of H...</td>\n",
       "      <td>744</td>\n",
       "    </tr>\n",
       "    <tr>\n",
       "      <th>2893</th>\n",
       "      <td>ENTERTAINMENT</td>\n",
       "      <td>‘Stranger Things’ Fans Will Be Able To Visit T...</td>\n",
       "      <td>Elyse Wanshel</td>\n",
       "      <td>https://www.huffingtonpost.com/entry/stranger-...</td>\n",
       "      <td>Hawkins is headed to Hollywood, Orlando and Si...</td>\n",
       "      <td>2018-04-03</td>\n",
       "      <td>‘Stranger Things’ Fans Will Be Able To Visit T...</td>\n",
       "      <td>2893</td>\n",
       "    </tr>\n",
       "    <tr>\n",
       "      <th>...</th>\n",
       "      <td>...</td>\n",
       "      <td>...</td>\n",
       "      <td>...</td>\n",
       "      <td>...</td>\n",
       "      <td>...</td>\n",
       "      <td>...</td>\n",
       "      <td>...</td>\n",
       "      <td>...</td>\n",
       "    </tr>\n",
       "    <tr>\n",
       "      <th>5938</th>\n",
       "      <td>ENTERTAINMENT</td>\n",
       "      <td>YouTube Suspends Ads From Logan Paul Videos Af...</td>\n",
       "      <td>Jenna Amatulli</td>\n",
       "      <td>https://www.huffingtonpost.com/entry/youtube-l...</td>\n",
       "      <td>The streaming service says Paul's channel is \"...</td>\n",
       "      <td>2018-02-09</td>\n",
       "      <td>YouTube Suspends Ads From Logan Paul Videos Af...</td>\n",
       "      <td>5938</td>\n",
       "    </tr>\n",
       "    <tr>\n",
       "      <th>8515</th>\n",
       "      <td>ENTERTAINMENT</td>\n",
       "      <td>YouTube Star Logan Paul Sparks Outrage With Di...</td>\n",
       "      <td>Lee Moran</td>\n",
       "      <td>https://www.huffingtonpost.com/entry/logan-pau...</td>\n",
       "      <td>Actors Sophie Turner and Aaron Paul were among...</td>\n",
       "      <td>2018-01-02</td>\n",
       "      <td>YouTube Star Logan Paul Sparks Outrage With Di...</td>\n",
       "      <td>8515</td>\n",
       "    </tr>\n",
       "    <tr>\n",
       "      <th>6180</th>\n",
       "      <td>ENTERTAINMENT</td>\n",
       "      <td>YouTube Star Kian Lawley Fired From 'The Hate ...</td>\n",
       "      <td>Cole Delbyck</td>\n",
       "      <td>https://www.huffingtonpost.com/entry/youtube-s...</td>\n",
       "      <td>The actor has apologized, and said he agrees w...</td>\n",
       "      <td>2018-02-06</td>\n",
       "      <td>YouTube Star Kian Lawley Fired From 'The Hate ...</td>\n",
       "      <td>6180</td>\n",
       "    </tr>\n",
       "    <tr>\n",
       "      <th>2894</th>\n",
       "      <td>CRIME</td>\n",
       "      <td>YouTube Shooter Was 'Upset' With Company, Poli...</td>\n",
       "      <td>Carla Herreria, Nick Visser, and Hayley Miller</td>\n",
       "      <td>https://www.huffingtonpost.com/entry/youtube-o...</td>\n",
       "      <td>Four people were injured in the attack at the ...</td>\n",
       "      <td>2018-04-03</td>\n",
       "      <td>YouTube Shooter Was 'Upset' With Company, Poli...</td>\n",
       "      <td>2894</td>\n",
       "    </tr>\n",
       "    <tr>\n",
       "      <th>3510</th>\n",
       "      <td>BUSINESS</td>\n",
       "      <td>YouTube Quietly Escalates Crackdown On Firearm...</td>\n",
       "      <td>Dominique Mosbergen</td>\n",
       "      <td>https://www.huffingtonpost.com/entry/youtube-g...</td>\n",
       "      <td>The video site is expanding restrictions follo...</td>\n",
       "      <td>2018-03-22</td>\n",
       "      <td>YouTube Quietly Escalates Crackdown On Firearm...</td>\n",
       "      <td>3510</td>\n",
       "    </tr>\n",
       "  </tbody>\n",
       "</table>\n",
       "<p>70 rows × 8 columns</p>\n",
       "</div>"
      ],
      "text/plain": [
       "           category                                           headline  \\\n",
       "2932   QUEER VOICES  ‘Will & Grace’ Creator To Donate Gay Bunny Boo...   \n",
       "4487   QUEER VOICES  ‘The Voice’ Blind Auditions Make History With ...   \n",
       "8255   QUEER VOICES  ‘The Penumbra’ Is The Queer Audio Drama You Di...   \n",
       "744          COMEDY  ‘The Opposition’ Gives Trump A Hot Lawyer Of H...   \n",
       "2893  ENTERTAINMENT  ‘Stranger Things’ Fans Will Be Able To Visit T...   \n",
       "...             ...                                                ...   \n",
       "5938  ENTERTAINMENT  YouTube Suspends Ads From Logan Paul Videos Af...   \n",
       "8515  ENTERTAINMENT  YouTube Star Logan Paul Sparks Outrage With Di...   \n",
       "6180  ENTERTAINMENT  YouTube Star Kian Lawley Fired From 'The Hate ...   \n",
       "2894          CRIME  YouTube Shooter Was 'Upset' With Company, Poli...   \n",
       "3510       BUSINESS  YouTube Quietly Escalates Crackdown On Firearm...   \n",
       "\n",
       "                                             authors  \\\n",
       "2932                                   Elyse Wanshel   \n",
       "4487             Lyndsey Parker, Yahoo Entertainment   \n",
       "8255   Sarah Emily Baum, ContributorFreelance Writer   \n",
       "744                                         Ed Mazza   \n",
       "2893                                   Elyse Wanshel   \n",
       "...                                              ...   \n",
       "5938                                  Jenna Amatulli   \n",
       "8515                                       Lee Moran   \n",
       "6180                                    Cole Delbyck   \n",
       "2894  Carla Herreria, Nick Visser, and Hayley Miller   \n",
       "3510                             Dominique Mosbergen   \n",
       "\n",
       "                                                   link  \\\n",
       "2932  https://www.huffingtonpost.com/entry/will-grac...   \n",
       "4487  https://www.huffingtonpost.com/entry/the-voice...   \n",
       "8255  https://www.huffingtonpost.com/entry/the-penum...   \n",
       "744   https://www.huffingtonpost.com/entry/trump-hot...   \n",
       "2893  https://www.huffingtonpost.com/entry/stranger-...   \n",
       "...                                                 ...   \n",
       "5938  https://www.huffingtonpost.com/entry/youtube-l...   \n",
       "8515  https://www.huffingtonpost.com/entry/logan-pau...   \n",
       "6180  https://www.huffingtonpost.com/entry/youtube-s...   \n",
       "2894  https://www.huffingtonpost.com/entry/youtube-o...   \n",
       "3510  https://www.huffingtonpost.com/entry/youtube-g...   \n",
       "\n",
       "                                      short_description       date  \\\n",
       "2932  It's about to be a lot easier for kids in Mike... 2018-04-02   \n",
       "4487  Austin Giorgio, 21: “How Sweet It Is (To Be Lo... 2018-03-06   \n",
       "8255  Young, fun, fantastical and, most notably, inc... 2018-01-05   \n",
       "744   He's here to make a \"strong case\" for the pres... 2018-05-11   \n",
       "2893  Hawkins is headed to Hollywood, Orlando and Si... 2018-04-03   \n",
       "...                                                 ...        ...   \n",
       "5938  The streaming service says Paul's channel is \"... 2018-02-09   \n",
       "8515  Actors Sophie Turner and Aaron Paul were among... 2018-01-02   \n",
       "6180  The actor has apologized, and said he agrees w... 2018-02-06   \n",
       "2894  Four people were injured in the attack at the ... 2018-04-03   \n",
       "3510  The video site is expanding restrictions follo... 2018-03-22   \n",
       "\n",
       "                                   headline_description  article_id  \n",
       "2932  ‘Will & Grace’ Creator To Donate Gay Bunny Boo...        2932  \n",
       "4487  ‘The Voice’ Blind Auditions Make History With ...        4487  \n",
       "8255  ‘The Penumbra’ Is The Queer Audio Drama You Di...        8255  \n",
       "744   ‘The Opposition’ Gives Trump A Hot Lawyer Of H...         744  \n",
       "2893  ‘Stranger Things’ Fans Will Be Able To Visit T...        2893  \n",
       "...                                                 ...         ...  \n",
       "5938  YouTube Suspends Ads From Logan Paul Videos Af...        5938  \n",
       "8515  YouTube Star Logan Paul Sparks Outrage With Di...        8515  \n",
       "6180  YouTube Star Kian Lawley Fired From 'The Hate ...        6180  \n",
       "2894  YouTube Shooter Was 'Upset' With Company, Poli...        2894  \n",
       "3510  YouTube Quietly Escalates Crackdown On Firearm...        3510  \n",
       "\n",
       "[70 rows x 8 columns]"
      ]
     },
     "execution_count": 72,
     "metadata": {},
     "output_type": "execute_result"
    }
   ],
   "source": [
    "news_articles.head(70)"
   ]
  },
  {
   "cell_type": "markdown",
   "id": "088078b2",
   "metadata": {},
   "source": [
    "We will now try to identify two different articles, and find articles similar/relavent to both. This is done by simple vector averaging before cosine similarity search. We will use articles from Entertainment and Business section."
   ]
  },
  {
   "cell_type": "code",
   "execution_count": 80,
   "id": "137e0908",
   "metadata": {},
   "outputs": [
    {
     "name": "stdout",
     "output_type": "stream",
     "text": [
      "1st Context Article:  4 ‘Stranger Things’ Fans Will Be Able To Visit The Upside Down IRL Hawkins is headed to Hollywood, Orlando and Singapore this fall.\n"
     ]
    }
   ],
   "source": [
    "bv_ind = 2893 # entertainment\n",
    "bv_count_id = ids_count_map[bv_ind]\n",
    "bv_vect = vectors[bv_count_id]\n",
    "\n",
    "print(\"1st Context Article: \", bv_count_id, corpus[bv_count_id])"
   ]
  },
  {
   "cell_type": "code",
   "execution_count": 81,
   "id": "f479b39e",
   "metadata": {},
   "outputs": [
    {
     "name": "stdout",
     "output_type": "stream",
     "text": [
      "2nd Context Article:  69 YouTube Quietly Escalates Crackdown On Firearm Videos The video site is expanding restrictions following the Florida massacre.\n"
     ]
    }
   ],
   "source": [
    "en_ind = 3510 # business\n",
    "en_count_id = ids_count_map[en_ind]\n",
    "en_vect = vectors[en_count_id]\n",
    "\n",
    "print(\"2nd Context Article: \", en_count_id, corpus[en_count_id])"
   ]
  },
  {
   "cell_type": "code",
   "execution_count": 82,
   "id": "bcb72189",
   "metadata": {},
   "outputs": [],
   "source": [
    "avg_vect = average_array = (bv_vect + en_vect) / 2\n",
    "\n",
    "similar_articles_ = get_cosine_sim(count_id, avg_vect, vectors)"
   ]
  },
  {
   "cell_type": "code",
   "execution_count": 83,
   "id": "b7432d30",
   "metadata": {},
   "outputs": [],
   "source": [
    "similar_article_ids_ = [ids_count_map[id_[0]] for id_ in similar_articles_ if id_[0] in ids_count_map][:k]"
   ]
  },
  {
   "cell_type": "code",
   "execution_count": 84,
   "id": "502f3ffb",
   "metadata": {},
   "outputs": [
    {
     "name": "stdout",
     "output_type": "stream",
     "text": [
      "Whistleblower Leaked Michael Cohen's Financials Over Potential Cover-Up: Report The whistleblower said two files about Cohen's business dealings are missing from a government database.\n",
      "------------------------------\n",
      "What You Missed About The Saddest Death In 'Avengers: Infinity War' Directors Joe and Anthony Russo answer our most pressing questions.\n",
      "------------------------------\n",
      "Will Ferrell And Molly Shannon Cover The Royal Wedding As 'Cord And Tish' They should cover everything.\n",
      "------------------------------\n"
     ]
    }
   ],
   "source": [
    "print_article_text(corpus, ids_count_map, similar_article_ids_)"
   ]
  },
  {
   "cell_type": "markdown",
   "id": "24e291e9",
   "metadata": {},
   "source": [
    "#### Evaluation"
   ]
  },
  {
   "cell_type": "markdown",
   "id": "436e68f8",
   "metadata": {},
   "source": [
    "One way to evaluate a content-based recommender system is by 'manual' inspection of results, as we have demonstrated above. In case of a news platform, someone from the editorial team can check if - given a context article - the recommended articles make sense.\n",
    "\n",
    "However, a golden standard in evaluating/comparing impact of two or more recommenders (be it content-based, or with user interactions) is AB-testing. This simply means launching the models, assigning fair amount of traffic \n",
    "to each, then watching how they behave: which one has a higher click-through-rate, basically."
   ]
  },
  {
   "cell_type": "markdown",
   "id": "59d999f7",
   "metadata": {},
   "source": [
    "## 2. Collaborative-filtering\n",
    "\n",
    "Below we will provide implementations of two collaborative filtering approaches that give personalized recommendations to the users. The cold-start problem will also be tackled, and in the end we will implement some basic evaluation metrics that would tell us which model is to be preferred.\n",
    "\n",
    "The list of generated recommendations would be under the title \"Recommendations for you\", \"Others also read\" or \"Personalized Recommendations\"."
   ]
  },
  {
   "cell_type": "markdown",
   "id": "095b4db4",
   "metadata": {},
   "source": [
    "#### Generating user-item interactions\n",
    "\n",
    "We'll create a simulated user-article interaction dataset with the following assumptions for simplicity:\n",
    "\n",
    "Users have specific interests (e.g., \"politics\", \"entertainment\", \"comedy\").\n",
    "Articles are already categorized, so we will simply 'match' the users to their preferred category. \n",
    "We also assign a rating to the interaction: a rating 3-5 would be given in a case of a taste match, 1-2 otherwise.\n",
    "The low ratings will be filtered out, but we leave the option for further exploration/"
   ]
  },
  {
   "cell_type": "code",
   "execution_count": 32,
   "id": "813437b8",
   "metadata": {},
   "outputs": [],
   "source": [
    "import random\n",
    "\n",
    "def create_users(num_users, categories):\n",
    "    interests = categories # + ['other']  # include 'other' for users with general interests\n",
    "    return [{'user_id': i + 1, 'interest': random.choice(interests)} for i in range(num_users)]\n",
    "\n",
    "# generate user-article interactions\n",
    "def generate_interactions(users, articles_df):\n",
    "    interactions = []\n",
    "    for user in users:\n",
    "        user_interest = user['interest']\n",
    "        for _, article in articles_df.iterrows():\n",
    "            # bias: Higher probability of higher rating for interest match\n",
    "            # if article['category'] == user_interest or user_interest == 'other':\n",
    "            if article['category'] == user_interest:\n",
    "                rating = random.randint(3, 5)\n",
    "            else:\n",
    "                rating = random.randint(1, 2) # (1, 3)\n",
    "            interactions.append({\n",
    "                'user_id': user['user_id'],\n",
    "                'article_id': article['article_id'],\n",
    "                'rating': rating\n",
    "            })\n",
    "    return pd.DataFrame(interactions)"
   ]
  },
  {
   "cell_type": "code",
   "execution_count": 33,
   "id": "cc6a2498",
   "metadata": {},
   "outputs": [],
   "source": [
    "articles = news_articles.head(3000)"
   ]
  },
  {
   "cell_type": "code",
   "execution_count": 137,
   "id": "bce54d7f",
   "metadata": {},
   "outputs": [],
   "source": [
    "# create 30 users\n",
    "num_users = 300\n",
    "categories = articles['category'].unique().tolist()\n",
    "users_dynamic = create_users(num_users, categories)"
   ]
  },
  {
   "cell_type": "code",
   "execution_count": 138,
   "id": "1b0f8b16",
   "metadata": {},
   "outputs": [
    {
     "name": "stdout",
     "output_type": "stream",
     "text": [
      "   user_id  article_id  rating\n",
      "0        1        2932       1\n",
      "1        1        4487       1\n",
      "2        1        8255       1\n",
      "3        1         744       1\n",
      "4        1        2893       2\n"
     ]
    }
   ],
   "source": [
    "# cenerate the user-article interactions dataset\n",
    "interactions = generate_interactions(users_dynamic, articles)\n",
    "print(interactions.head())"
   ]
  },
  {
   "cell_type": "code",
   "execution_count": 139,
   "id": "5b73648c",
   "metadata": {},
   "outputs": [
    {
     "data": {
      "text/plain": [
       "(900000, 3)"
      ]
     },
     "execution_count": 139,
     "metadata": {},
     "output_type": "execute_result"
    }
   ],
   "source": [
    "interactions.shape"
   ]
  },
  {
   "cell_type": "code",
   "execution_count": 140,
   "id": "4c0f04cc",
   "metadata": {},
   "outputs": [
    {
     "data": {
      "text/plain": [
       "[{'user_id': 1, 'interest': 'LATINO VOICES'},\n",
       " {'user_id': 2, 'interest': 'ARTS & CULTURE'},\n",
       " {'user_id': 3, 'interest': 'WORLD NEWS'},\n",
       " {'user_id': 4, 'interest': 'LATINO VOICES'},\n",
       " {'user_id': 5, 'interest': 'TRAVEL'},\n",
       " {'user_id': 6, 'interest': 'STYLE'},\n",
       " {'user_id': 7, 'interest': 'WOMEN'},\n",
       " {'user_id': 8, 'interest': 'RELIGION'},\n",
       " {'user_id': 9, 'interest': 'QUEER VOICES'},\n",
       " {'user_id': 10, 'interest': 'TRAVEL'},\n",
       " {'user_id': 11, 'interest': 'TECH'},\n",
       " {'user_id': 12, 'interest': 'WEIRD NEWS'},\n",
       " {'user_id': 13, 'interest': 'GREEN'},\n",
       " {'user_id': 14, 'interest': 'LATINO VOICES'},\n",
       " {'user_id': 15, 'interest': 'EDUCATION'},\n",
       " {'user_id': 16, 'interest': 'BLACK VOICES'},\n",
       " {'user_id': 17, 'interest': 'GREEN'},\n",
       " {'user_id': 18, 'interest': 'CRIME'},\n",
       " {'user_id': 19, 'interest': 'LATINO VOICES'},\n",
       " {'user_id': 20, 'interest': 'ENTERTAINMENT'},\n",
       " {'user_id': 21, 'interest': 'RELIGION'},\n",
       " {'user_id': 22, 'interest': 'STYLE'},\n",
       " {'user_id': 23, 'interest': 'RELIGION'},\n",
       " {'user_id': 24, 'interest': 'ARTS & CULTURE'},\n",
       " {'user_id': 25, 'interest': 'MEDIA'},\n",
       " {'user_id': 26, 'interest': 'WEIRD NEWS'},\n",
       " {'user_id': 27, 'interest': 'WORLD NEWS'},\n",
       " {'user_id': 28, 'interest': 'IMPACT'},\n",
       " {'user_id': 29, 'interest': 'IMPACT'},\n",
       " {'user_id': 30, 'interest': 'SPORTS'},\n",
       " {'user_id': 31, 'interest': 'QUEER VOICES'},\n",
       " {'user_id': 32, 'interest': 'GREEN'},\n",
       " {'user_id': 33, 'interest': 'COMEDY'},\n",
       " {'user_id': 34, 'interest': 'TECH'},\n",
       " {'user_id': 35, 'interest': 'TECH'},\n",
       " {'user_id': 36, 'interest': 'RELIGION'},\n",
       " {'user_id': 37, 'interest': 'LATINO VOICES'},\n",
       " {'user_id': 38, 'interest': 'WOMEN'},\n",
       " {'user_id': 39, 'interest': 'BLACK VOICES'},\n",
       " {'user_id': 40, 'interest': 'QUEER VOICES'},\n",
       " {'user_id': 41, 'interest': 'CRIME'},\n",
       " {'user_id': 42, 'interest': 'MEDIA'},\n",
       " {'user_id': 43, 'interest': 'QUEER VOICES'},\n",
       " {'user_id': 44, 'interest': 'TRAVEL'},\n",
       " {'user_id': 45, 'interest': 'TECH'},\n",
       " {'user_id': 46, 'interest': 'IMPACT'},\n",
       " {'user_id': 47, 'interest': 'HEALTHY LIVING'},\n",
       " {'user_id': 48, 'interest': 'BUSINESS'},\n",
       " {'user_id': 49, 'interest': 'MEDIA'},\n",
       " {'user_id': 50, 'interest': 'LATINO VOICES'},\n",
       " {'user_id': 51, 'interest': 'LATINO VOICES'},\n",
       " {'user_id': 52, 'interest': 'SPORTS'},\n",
       " {'user_id': 53, 'interest': 'WORLD NEWS'},\n",
       " {'user_id': 54, 'interest': 'TECH'},\n",
       " {'user_id': 55, 'interest': 'STYLE'},\n",
       " {'user_id': 56, 'interest': 'COMEDY'},\n",
       " {'user_id': 57, 'interest': 'BUSINESS'},\n",
       " {'user_id': 58, 'interest': 'TECH'},\n",
       " {'user_id': 59, 'interest': 'LATINO VOICES'},\n",
       " {'user_id': 60, 'interest': 'TECH'},\n",
       " {'user_id': 61, 'interest': 'STYLE'},\n",
       " {'user_id': 62, 'interest': 'SCIENCE'},\n",
       " {'user_id': 63, 'interest': 'LATINO VOICES'},\n",
       " {'user_id': 64, 'interest': 'ARTS & CULTURE'},\n",
       " {'user_id': 65, 'interest': 'RELIGION'},\n",
       " {'user_id': 66, 'interest': 'HEALTHY LIVING'},\n",
       " {'user_id': 67, 'interest': 'CRIME'},\n",
       " {'user_id': 68, 'interest': 'IMPACT'},\n",
       " {'user_id': 69, 'interest': 'BLACK VOICES'},\n",
       " {'user_id': 70, 'interest': 'WEIRD NEWS'},\n",
       " {'user_id': 71, 'interest': 'ENTERTAINMENT'},\n",
       " {'user_id': 72, 'interest': 'TECH'},\n",
       " {'user_id': 73, 'interest': 'WEIRD NEWS'},\n",
       " {'user_id': 74, 'interest': 'TRAVEL'},\n",
       " {'user_id': 75, 'interest': 'PARENTS'},\n",
       " {'user_id': 76, 'interest': 'RELIGION'},\n",
       " {'user_id': 77, 'interest': 'STYLE'},\n",
       " {'user_id': 78, 'interest': 'HEALTHY LIVING'},\n",
       " {'user_id': 79, 'interest': 'SPORTS'},\n",
       " {'user_id': 80, 'interest': 'EDUCATION'},\n",
       " {'user_id': 81, 'interest': 'HEALTHY LIVING'},\n",
       " {'user_id': 82, 'interest': 'TASTE'},\n",
       " {'user_id': 83, 'interest': 'PARENTS'},\n",
       " {'user_id': 84, 'interest': 'COMEDY'},\n",
       " {'user_id': 85, 'interest': 'SCIENCE'},\n",
       " {'user_id': 86, 'interest': 'GREEN'},\n",
       " {'user_id': 87, 'interest': 'EDUCATION'},\n",
       " {'user_id': 88, 'interest': 'PARENTS'},\n",
       " {'user_id': 89, 'interest': 'COMEDY'},\n",
       " {'user_id': 90, 'interest': 'SCIENCE'},\n",
       " {'user_id': 91, 'interest': 'WORLD NEWS'},\n",
       " {'user_id': 92, 'interest': 'STYLE'},\n",
       " {'user_id': 93, 'interest': 'LATINO VOICES'},\n",
       " {'user_id': 94, 'interest': 'SCIENCE'},\n",
       " {'user_id': 95, 'interest': 'TRAVEL'},\n",
       " {'user_id': 96, 'interest': 'TRAVEL'},\n",
       " {'user_id': 97, 'interest': 'STYLE'},\n",
       " {'user_id': 98, 'interest': 'SCIENCE'},\n",
       " {'user_id': 99, 'interest': 'EDUCATION'},\n",
       " {'user_id': 100, 'interest': 'CRIME'},\n",
       " {'user_id': 101, 'interest': 'STYLE'},\n",
       " {'user_id': 102, 'interest': 'EDUCATION'},\n",
       " {'user_id': 103, 'interest': 'LATINO VOICES'},\n",
       " {'user_id': 104, 'interest': 'TRAVEL'},\n",
       " {'user_id': 105, 'interest': 'TRAVEL'},\n",
       " {'user_id': 106, 'interest': 'SCIENCE'},\n",
       " {'user_id': 107, 'interest': 'ARTS & CULTURE'},\n",
       " {'user_id': 108, 'interest': 'BLACK VOICES'},\n",
       " {'user_id': 109, 'interest': 'WEIRD NEWS'},\n",
       " {'user_id': 110, 'interest': 'TRAVEL'},\n",
       " {'user_id': 111, 'interest': 'EDUCATION'},\n",
       " {'user_id': 112, 'interest': 'EDUCATION'},\n",
       " {'user_id': 113, 'interest': 'LATINO VOICES'},\n",
       " {'user_id': 114, 'interest': 'ENTERTAINMENT'},\n",
       " {'user_id': 115, 'interest': 'QUEER VOICES'},\n",
       " {'user_id': 116, 'interest': 'PARENTS'},\n",
       " {'user_id': 117, 'interest': 'STYLE'},\n",
       " {'user_id': 118, 'interest': 'WOMEN'},\n",
       " {'user_id': 119, 'interest': 'BLACK VOICES'},\n",
       " {'user_id': 120, 'interest': 'PARENTS'},\n",
       " {'user_id': 121, 'interest': 'WEIRD NEWS'},\n",
       " {'user_id': 122, 'interest': 'WEIRD NEWS'},\n",
       " {'user_id': 123, 'interest': 'SCIENCE'},\n",
       " {'user_id': 124, 'interest': 'SPORTS'},\n",
       " {'user_id': 125, 'interest': 'PARENTS'},\n",
       " {'user_id': 126, 'interest': 'PARENTS'},\n",
       " {'user_id': 127, 'interest': 'QUEER VOICES'},\n",
       " {'user_id': 128, 'interest': 'WEIRD NEWS'},\n",
       " {'user_id': 129, 'interest': 'SPORTS'},\n",
       " {'user_id': 130, 'interest': 'TASTE'},\n",
       " {'user_id': 131, 'interest': 'WEIRD NEWS'},\n",
       " {'user_id': 132, 'interest': 'IMPACT'},\n",
       " {'user_id': 133, 'interest': 'RELIGION'},\n",
       " {'user_id': 134, 'interest': 'EDUCATION'},\n",
       " {'user_id': 135, 'interest': 'STYLE'},\n",
       " {'user_id': 136, 'interest': 'POLITICS'},\n",
       " {'user_id': 137, 'interest': 'TRAVEL'},\n",
       " {'user_id': 138, 'interest': 'QUEER VOICES'},\n",
       " {'user_id': 139, 'interest': 'BLACK VOICES'},\n",
       " {'user_id': 140, 'interest': 'COMEDY'},\n",
       " {'user_id': 141, 'interest': 'HEALTHY LIVING'},\n",
       " {'user_id': 142, 'interest': 'CRIME'},\n",
       " {'user_id': 143, 'interest': 'BUSINESS'},\n",
       " {'user_id': 144, 'interest': 'BUSINESS'},\n",
       " {'user_id': 145, 'interest': 'ENTERTAINMENT'},\n",
       " {'user_id': 146, 'interest': 'EDUCATION'},\n",
       " {'user_id': 147, 'interest': 'BUSINESS'},\n",
       " {'user_id': 148, 'interest': 'ENTERTAINMENT'},\n",
       " {'user_id': 149, 'interest': 'BLACK VOICES'},\n",
       " {'user_id': 150, 'interest': 'HEALTHY LIVING'},\n",
       " {'user_id': 151, 'interest': 'WOMEN'},\n",
       " {'user_id': 152, 'interest': 'IMPACT'},\n",
       " {'user_id': 153, 'interest': 'HEALTHY LIVING'},\n",
       " {'user_id': 154, 'interest': 'RELIGION'},\n",
       " {'user_id': 155, 'interest': 'TASTE'},\n",
       " {'user_id': 156, 'interest': 'TRAVEL'},\n",
       " {'user_id': 157, 'interest': 'RELIGION'},\n",
       " {'user_id': 158, 'interest': 'TECH'},\n",
       " {'user_id': 159, 'interest': 'HEALTHY LIVING'},\n",
       " {'user_id': 160, 'interest': 'POLITICS'},\n",
       " {'user_id': 161, 'interest': 'WORLD NEWS'},\n",
       " {'user_id': 162, 'interest': 'WORLD NEWS'},\n",
       " {'user_id': 163, 'interest': 'QUEER VOICES'},\n",
       " {'user_id': 164, 'interest': 'GREEN'},\n",
       " {'user_id': 165, 'interest': 'SPORTS'},\n",
       " {'user_id': 166, 'interest': 'IMPACT'},\n",
       " {'user_id': 167, 'interest': 'PARENTS'},\n",
       " {'user_id': 168, 'interest': 'POLITICS'},\n",
       " {'user_id': 169, 'interest': 'RELIGION'},\n",
       " {'user_id': 170, 'interest': 'SPORTS'},\n",
       " {'user_id': 171, 'interest': 'WORLD NEWS'},\n",
       " {'user_id': 172, 'interest': 'GREEN'},\n",
       " {'user_id': 173, 'interest': 'POLITICS'},\n",
       " {'user_id': 174, 'interest': 'MEDIA'},\n",
       " {'user_id': 175, 'interest': 'STYLE'},\n",
       " {'user_id': 176, 'interest': 'SCIENCE'},\n",
       " {'user_id': 177, 'interest': 'WEIRD NEWS'},\n",
       " {'user_id': 178, 'interest': 'ENTERTAINMENT'},\n",
       " {'user_id': 179, 'interest': 'IMPACT'},\n",
       " {'user_id': 180, 'interest': 'TECH'},\n",
       " {'user_id': 181, 'interest': 'CRIME'},\n",
       " {'user_id': 182, 'interest': 'BUSINESS'},\n",
       " {'user_id': 183, 'interest': 'SCIENCE'},\n",
       " {'user_id': 184, 'interest': 'TECH'},\n",
       " {'user_id': 185, 'interest': 'TRAVEL'},\n",
       " {'user_id': 186, 'interest': 'IMPACT'},\n",
       " {'user_id': 187, 'interest': 'HEALTHY LIVING'},\n",
       " {'user_id': 188, 'interest': 'ARTS & CULTURE'},\n",
       " {'user_id': 189, 'interest': 'SCIENCE'},\n",
       " {'user_id': 190, 'interest': 'QUEER VOICES'},\n",
       " {'user_id': 191, 'interest': 'SCIENCE'},\n",
       " {'user_id': 192, 'interest': 'COMEDY'},\n",
       " {'user_id': 193, 'interest': 'ARTS & CULTURE'},\n",
       " {'user_id': 194, 'interest': 'ARTS & CULTURE'},\n",
       " {'user_id': 195, 'interest': 'BUSINESS'},\n",
       " {'user_id': 196, 'interest': 'WOMEN'},\n",
       " {'user_id': 197, 'interest': 'WORLD NEWS'},\n",
       " {'user_id': 198, 'interest': 'BUSINESS'},\n",
       " {'user_id': 199, 'interest': 'LATINO VOICES'},\n",
       " {'user_id': 200, 'interest': 'ENTERTAINMENT'},\n",
       " {'user_id': 201, 'interest': 'GREEN'},\n",
       " {'user_id': 202, 'interest': 'RELIGION'},\n",
       " {'user_id': 203, 'interest': 'HEALTHY LIVING'},\n",
       " {'user_id': 204, 'interest': 'LATINO VOICES'},\n",
       " {'user_id': 205, 'interest': 'COMEDY'},\n",
       " {'user_id': 206, 'interest': 'LATINO VOICES'},\n",
       " {'user_id': 207, 'interest': 'BUSINESS'},\n",
       " {'user_id': 208, 'interest': 'WORLD NEWS'},\n",
       " {'user_id': 209, 'interest': 'BLACK VOICES'},\n",
       " {'user_id': 210, 'interest': 'BUSINESS'},\n",
       " {'user_id': 211, 'interest': 'GREEN'},\n",
       " {'user_id': 212, 'interest': 'GREEN'},\n",
       " {'user_id': 213, 'interest': 'COMEDY'},\n",
       " {'user_id': 214, 'interest': 'WOMEN'},\n",
       " {'user_id': 215, 'interest': 'WORLD NEWS'},\n",
       " {'user_id': 216, 'interest': 'LATINO VOICES'},\n",
       " {'user_id': 217, 'interest': 'TRAVEL'},\n",
       " {'user_id': 218, 'interest': 'COMEDY'},\n",
       " {'user_id': 219, 'interest': 'EDUCATION'},\n",
       " {'user_id': 220, 'interest': 'TASTE'},\n",
       " {'user_id': 221, 'interest': 'WORLD NEWS'},\n",
       " {'user_id': 222, 'interest': 'WEIRD NEWS'},\n",
       " {'user_id': 223, 'interest': 'LATINO VOICES'},\n",
       " {'user_id': 224, 'interest': 'WEIRD NEWS'},\n",
       " {'user_id': 225, 'interest': 'TASTE'},\n",
       " {'user_id': 226, 'interest': 'TRAVEL'},\n",
       " {'user_id': 227, 'interest': 'TASTE'},\n",
       " {'user_id': 228, 'interest': 'BLACK VOICES'},\n",
       " {'user_id': 229, 'interest': 'POLITICS'},\n",
       " {'user_id': 230, 'interest': 'TRAVEL'},\n",
       " {'user_id': 231, 'interest': 'CRIME'},\n",
       " {'user_id': 232, 'interest': 'RELIGION'},\n",
       " {'user_id': 233, 'interest': 'SCIENCE'},\n",
       " {'user_id': 234, 'interest': 'STYLE'},\n",
       " {'user_id': 235, 'interest': 'BUSINESS'},\n",
       " {'user_id': 236, 'interest': 'IMPACT'},\n",
       " {'user_id': 237, 'interest': 'QUEER VOICES'},\n",
       " {'user_id': 238, 'interest': 'POLITICS'},\n",
       " {'user_id': 239, 'interest': 'TECH'},\n",
       " {'user_id': 240, 'interest': 'WOMEN'},\n",
       " {'user_id': 241, 'interest': 'TECH'},\n",
       " {'user_id': 242, 'interest': 'TRAVEL'},\n",
       " {'user_id': 243, 'interest': 'BLACK VOICES'},\n",
       " {'user_id': 244, 'interest': 'EDUCATION'},\n",
       " {'user_id': 245, 'interest': 'HEALTHY LIVING'},\n",
       " {'user_id': 246, 'interest': 'TECH'},\n",
       " {'user_id': 247, 'interest': 'LATINO VOICES'},\n",
       " {'user_id': 248, 'interest': 'RELIGION'},\n",
       " {'user_id': 249, 'interest': 'TECH'},\n",
       " {'user_id': 250, 'interest': 'ENTERTAINMENT'},\n",
       " {'user_id': 251, 'interest': 'QUEER VOICES'},\n",
       " {'user_id': 252, 'interest': 'IMPACT'},\n",
       " {'user_id': 253, 'interest': 'TECH'},\n",
       " {'user_id': 254, 'interest': 'SCIENCE'},\n",
       " {'user_id': 255, 'interest': 'PARENTS'},\n",
       " {'user_id': 256, 'interest': 'BUSINESS'},\n",
       " {'user_id': 257, 'interest': 'MEDIA'},\n",
       " {'user_id': 258, 'interest': 'ARTS & CULTURE'},\n",
       " {'user_id': 259, 'interest': 'WEIRD NEWS'},\n",
       " {'user_id': 260, 'interest': 'PARENTS'},\n",
       " {'user_id': 261, 'interest': 'TASTE'},\n",
       " {'user_id': 262, 'interest': 'LATINO VOICES'},\n",
       " {'user_id': 263, 'interest': 'QUEER VOICES'},\n",
       " {'user_id': 264, 'interest': 'TECH'},\n",
       " {'user_id': 265, 'interest': 'TECH'},\n",
       " {'user_id': 266, 'interest': 'STYLE'},\n",
       " {'user_id': 267, 'interest': 'EDUCATION'},\n",
       " {'user_id': 268, 'interest': 'ARTS & CULTURE'},\n",
       " {'user_id': 269, 'interest': 'BUSINESS'},\n",
       " {'user_id': 270, 'interest': 'IMPACT'},\n",
       " {'user_id': 271, 'interest': 'SPORTS'},\n",
       " {'user_id': 272, 'interest': 'HEALTHY LIVING'},\n",
       " {'user_id': 273, 'interest': 'WEIRD NEWS'},\n",
       " {'user_id': 274, 'interest': 'GREEN'},\n",
       " {'user_id': 275, 'interest': 'PARENTS'},\n",
       " {'user_id': 276, 'interest': 'PARENTS'},\n",
       " {'user_id': 277, 'interest': 'HEALTHY LIVING'},\n",
       " {'user_id': 278, 'interest': 'BUSINESS'},\n",
       " {'user_id': 279, 'interest': 'BUSINESS'},\n",
       " {'user_id': 280, 'interest': 'QUEER VOICES'},\n",
       " {'user_id': 281, 'interest': 'TRAVEL'},\n",
       " {'user_id': 282, 'interest': 'LATINO VOICES'},\n",
       " {'user_id': 283, 'interest': 'WORLD NEWS'},\n",
       " {'user_id': 284, 'interest': 'BUSINESS'},\n",
       " {'user_id': 285, 'interest': 'BLACK VOICES'},\n",
       " {'user_id': 286, 'interest': 'SCIENCE'},\n",
       " {'user_id': 287, 'interest': 'STYLE'},\n",
       " {'user_id': 288, 'interest': 'TASTE'},\n",
       " {'user_id': 289, 'interest': 'TRAVEL'},\n",
       " {'user_id': 290, 'interest': 'SCIENCE'},\n",
       " {'user_id': 291, 'interest': 'WOMEN'},\n",
       " {'user_id': 292, 'interest': 'SCIENCE'},\n",
       " {'user_id': 293, 'interest': 'ENTERTAINMENT'},\n",
       " {'user_id': 294, 'interest': 'TECH'},\n",
       " {'user_id': 295, 'interest': 'STYLE'},\n",
       " {'user_id': 296, 'interest': 'ARTS & CULTURE'},\n",
       " {'user_id': 297, 'interest': 'GREEN'},\n",
       " {'user_id': 298, 'interest': 'TASTE'},\n",
       " {'user_id': 299, 'interest': 'COMEDY'},\n",
       " {'user_id': 300, 'interest': 'IMPACT'}]"
      ]
     },
     "execution_count": 140,
     "metadata": {},
     "output_type": "execute_result"
    }
   ],
   "source": [
    "users_dynamic"
   ]
  },
  {
   "cell_type": "code",
   "execution_count": 141,
   "id": "e926b8e4",
   "metadata": {},
   "outputs": [
    {
     "name": "stdout",
     "output_type": "stream",
     "text": [
      "(25768, 3)\n"
     ]
    }
   ],
   "source": [
    "# collecting interactions with ratings greater than or equal to 3\n",
    "interactions = interactions[interactions['rating'] >= 3]\n",
    "print(interactions.shape)"
   ]
  },
  {
   "cell_type": "code",
   "execution_count": 142,
   "id": "fca16dae",
   "metadata": {},
   "outputs": [],
   "source": [
    "interactions = interactions.sample(frac=1)\n",
    "interactions.to_csv('interactions_02-01-12-34.csv')"
   ]
  },
  {
   "cell_type": "code",
   "execution_count": null,
   "id": "f63169a1",
   "metadata": {},
   "outputs": [],
   "source": [
    "interactions = pd.read_csv('interactions_02-01-12-34.csv')"
   ]
  },
  {
   "cell_type": "code",
   "execution_count": 143,
   "id": "9f99431a",
   "metadata": {},
   "outputs": [],
   "source": [
    "user_id = 74"
   ]
  },
  {
   "cell_type": "markdown",
   "id": "72f5bb29",
   "metadata": {},
   "source": [
    "We see above that the user number 18 has interests in sports. Let's see if we have matched him with\n",
    "appropriate articles."
   ]
  },
  {
   "cell_type": "code",
   "execution_count": 144,
   "id": "10a71fc0",
   "metadata": {},
   "outputs": [],
   "source": [
    "specific_articles = interactions[interactions['user_id'] == user_id]['article_id'].unique().tolist()"
   ]
  },
  {
   "cell_type": "code",
   "execution_count": 145,
   "id": "b4f1cb42",
   "metadata": {},
   "outputs": [],
   "source": [
    "def print_articles_from_list(articles):\n",
    "    \n",
    "    for id_ in articles:\n",
    "        print(news_articles.loc[id_]['headline_description'] + \"\\n\")"
   ]
  },
  {
   "cell_type": "code",
   "execution_count": 146,
   "id": "89daba97",
   "metadata": {},
   "outputs": [
    {
     "name": "stdout",
     "output_type": "stream",
     "text": [
      "United Airlines Mistakenly Flies Family's Dog To Japan Instead Of Kansas City The mix-up came just a day after a puppy died aboard a United flight.\n",
      "\n",
      "The 10 Best Hotels In The US In 2018, Revealed BRB, booking a trip to San Antonio immediately ✈️\n",
      "\n",
      "Rogue Cat Rescued After Hiding Out In New York Airport For Over A Week Pepper is safe and sound!\n",
      "\n",
      "Yelp Users Are Dragging Trump Hotels By Leaving ‘S**thole’ Reviews “Perhaps the Trump brand could take some lessons from Norway, where they have the BEST hotels.\"\n",
      "\n",
      "You Can Fly Around The World For Less Than $1,200 See four cities across four continents in 16 days ✈️\n",
      "\n",
      "Take A Virtual Disney Vacation With Stunning New Google Street View Maps Visit Disneyland and Disney World on the same day without leaving home.\n",
      "\n",
      "These Gorgeous Secret Lagoons Exist For Only Three Months A Year Lençóis might give off Saharan vibes, but the park is not technically a desert.\n",
      "\n",
      "The 5 Best (And Most Affordable) Places To Travel In April If you’re smart about where you place that pin on the map, you can even trade some rainy days for sunshine.\n",
      "\n",
      "The World's Best Food Cities, According To TripAdvisor Will travel for food 🍜\n",
      "\n",
      "The Most Popular U.S. Destinations Of 2018, According To TripAdvisor Get inspired for your next getaway.\n",
      "\n",
      "These Rainbow Mountains In Peru Look Like They’re Straight Out Of A Dr. Seuss Book Sometimes we can’t help but wonder if Mother Nature specifically designed some places just for Instagram.\n",
      "\n",
      "The Most Popular Destinations In The World, According To TripAdvisor And where to stay in these spots when you visit.\n",
      "\n",
      "Why People Like To Stay In Places Where Celebrities Have Died Inside the world of dark tourism.\n",
      "\n",
      "The 5 Best (And Most Affordable) Places To Travel in March 1. Miami, Florida\n",
      "\n",
      "United Airlines Temporarily Suspends Cargo Travel For Pets The decision follows multiple pet-related mishaps, including the death of a puppy.\n",
      "\n",
      "The One Thing You’re Forgetting In Your Carry-On While you can’t bring that liter of SmartWater through TSA, you absolutely can bring the empty bottle to refill at a water fountain once you’re past security.\n",
      "\n",
      "What The Southwest Flight Can Teach Us About Oxygen Masks A former flight attendant called out passengers for wearing their masks incorrectly.\n",
      "\n",
      "Your Emotional Support Spider And Goat Are Now Banned On American Airlines The airline released a list of prohibited animals after seeing a 40 percent rise in onboard companions.\n",
      "\n",
      "Space Mountain With The Lights On Is A Freaky Experience See Disney's most famous coaster in a whole new light.\n",
      "\n",
      "Wild Brawls Turn Carnival Ship Into 'Cruise From Hell' Twenty-three passengers were removed for \"disruptive and violent acts.”\n",
      "\n",
      "What Flight Attendants Really Wish You'd Do On Your Next Flight Take. off. your. headphones.\n",
      "\n",
      "United Bans Many Popular Dog And Cat Breeds From Cargo Holds After Pet Deaths The airline unveiled new restrictions in its pet transportation policy.\n",
      "\n",
      "Why There Are Tiny Holes At The Bottom Of Windows On Planes If you’ve ever been on a plane, chances are, you’ve probably looked out your window, only to notice a tiny hole at the bottom\n",
      "\n",
      "These Are The Most Expensive Travel Days Of The Year We all love a good travel deal, so avoid these two days. There are two days of the year that are the absolute most expensive\n",
      "\n",
      "Roller Coaster Riders Suspended 100 Feet In The Air, Facing Down, After Malfunction An \"abnormality\" halted the coaster at the worst possible time.\n",
      "\n"
     ]
    }
   ],
   "source": [
    "print_articles_from_list(specific_articles)"
   ]
  },
  {
   "cell_type": "code",
   "execution_count": 147,
   "id": "e685700a",
   "metadata": {},
   "outputs": [
    {
     "data": {
      "text/plain": [
       "{'TRAVEL'}"
      ]
     },
     "execution_count": 147,
     "metadata": {},
     "output_type": "execute_result"
    }
   ],
   "source": [
    "set([news_articles.loc[id_]['category'] for id_ in specific_articles])"
   ]
  },
  {
   "cell_type": "markdown",
   "id": "d87030b4",
   "metadata": {},
   "source": [
    "It seems we have done it correctly."
   ]
  },
  {
   "cell_type": "code",
   "execution_count": 45,
   "id": "36a3d016",
   "metadata": {},
   "outputs": [],
   "source": [
    "#interactions = interactions.sample(n=600)\n",
    "#interactions.shape"
   ]
  },
  {
   "cell_type": "code",
   "execution_count": 46,
   "id": "6dbe6c1f",
   "metadata": {},
   "outputs": [],
   "source": [
    "#interactions.head()"
   ]
  },
  {
   "cell_type": "markdown",
   "id": "8c6b5986",
   "metadata": {},
   "source": [
    "Let's create train and test data. The train data would be used for models training. \n",
    "\n",
    "We will provide two models. For the first, the train data would be \n",
    "used to create a vector, for each user, where this vector would be populated by ratings given to news articles.\n",
    "Once we have created the user vectors, we can retrieve the most similar users via, e.g., cosine similarity. \n",
    "And once similar users are identified, we can easily collect items they have seen that the context users has not\n",
    "yet seen. Let's call the first model \"Similar Vectors\".\n",
    "\n",
    "The second model is a Matrix Factorization model presented in [this paper](http://yifanhu.net/PUB/cf.pdf), with an efficient implementation in `implicit` package available [here](https://github.com/benfred/implicit)."
   ]
  },
  {
   "cell_type": "markdown",
   "id": "406ecb4e",
   "metadata": {},
   "source": [
    "### Cold-start problem\n",
    "\n",
    "The models can recommend items only to users that were part of training. This means that for new users for whom we don't have any interactions yet, we have to recommend items via a different strategy. One common way is to present these users with a list of most popular items."
   ]
  },
  {
   "cell_type": "code",
   "execution_count": 148,
   "id": "cd925e67",
   "metadata": {},
   "outputs": [
    {
     "data": {
      "text/plain": [
       "[6622, 1005, 2561, 3622, 1861]"
      ]
     },
     "execution_count": 148,
     "metadata": {},
     "output_type": "execute_result"
    }
   ],
   "source": [
    "most_popular_articles = train['article_id'].value_counts().index.tolist()[:5]\n",
    "most_popular_articles"
   ]
  },
  {
   "cell_type": "code",
   "execution_count": 149,
   "id": "a8d35454",
   "metadata": {},
   "outputs": [
    {
     "name": "stdout",
     "output_type": "stream",
     "text": [
      "These 'No Promo Homo' Laws Are Hurting LGBTQ Students Across America Seven states still have laws that specifically target gay students.\n",
      "\n",
      "Trump Defends Gina Haspel, His Nominee For CIA Director, And Her Record Of Torture “We have the most qualified person, a woman, who Democrats want Out because she is too tough on terror,” Trump tweeted Monday.\n",
      "\n",
      "Trump Condemns 'Sick' Syria Disaster Yet Slams The Door On Countless Refugees The U.S. has resettled only 44 Syrian refugees since October.\n",
      "\n",
      "Trump Congratulates Putin On Totally Expected Victory In Russian Election It seems the U.S. president at least has no hard feelings toward Russia.\n",
      "\n",
      "Trump Considering 'Full Pardon' Of Late Boxing Champion Jack Johnson Johnson, the first black heavyweight champion, was arrested for driving his girlfriend across state lines.\n",
      "\n"
     ]
    }
   ],
   "source": [
    "print_articles_from_list(most_popular_articles)"
   ]
  },
  {
   "cell_type": "markdown",
   "id": "2d6351a5",
   "metadata": {},
   "source": [
    "In general, below is the recipe on which type of recommendations to provide to a particular user-type (where user-type is determined by user activity on the platform):\n",
    "\n",
    "- no interactions -> most popular items\n",
    "- some interactions -> content-based items\n",
    "- more interactions -> collaborative filtering"
   ]
  },
  {
   "cell_type": "markdown",
   "id": "9c71a947",
   "metadata": {},
   "source": [
    "#### Train-test split"
   ]
  },
  {
   "cell_type": "code",
   "execution_count": 150,
   "id": "ad88470f",
   "metadata": {},
   "outputs": [],
   "source": [
    "train = interactions.head(20000)\n",
    "test = interactions.tail(interactions.shape[0] - train.shape[0])"
   ]
  },
  {
   "cell_type": "markdown",
   "id": "c8fdd4e6",
   "metadata": {},
   "source": [
    "#### Similar Vectors model"
   ]
  },
  {
   "cell_type": "code",
   "execution_count": 151,
   "id": "4337f2bf",
   "metadata": {},
   "outputs": [],
   "source": [
    "# function to recommend articles for a given user\n",
    "def recommend_articles_sv(user_id, user_article_matrix, user_similarity_df, top_n=5):\n",
    "    \n",
    "    # identify similar users\n",
    "    n_similar_users = 3\n",
    "    similar_users = user_similarity_df[user_id].sort_values(ascending=False)[1:n_similar_users+1].index\n",
    "    \n",
    "    # get articles interacted by similar users with ratings > 0\n",
    "    articles_seen_by_similar = user_article_matrix.loc[similar_users]\n",
    "    articles_seen_by_similar = articles_seen_by_similar[articles_seen_by_similar > 0].stack().index.tolist()\n",
    "    \n",
    "    # get articles interacted by the target user with ratings > 0\n",
    "    articles_seen_by_user = user_article_matrix.loc[user_id]\n",
    "    articles_seen_by_user = articles_seen_by_user[articles_seen_by_user > 0].index.tolist()\n",
    "    \n",
    "    #print(len(articles_seen_by_similar), len(articles_seen_by_user))\n",
    "    # filter out articles the user has already seen\n",
    "    recommended_articles = [article for user, article in articles_seen_by_similar if article not in articles_seen_by_user]\n",
    "    \n",
    "    # select unique articles and limit the number of recommendations\n",
    "    recommended_articles = list(set(recommended_articles))[:top_n]\n",
    "    \n",
    "    return recommended_articles"
   ]
  },
  {
   "cell_type": "code",
   "execution_count": 152,
   "id": "6dc6ee52",
   "metadata": {},
   "outputs": [],
   "source": [
    "user_article_matrix = train.pivot_table(index='user_id', columns='article_id', values='rating', fill_value=0)\n",
    "\n",
    "# compute cosine similarity between users\n",
    "user_similarity = cosine_similarity(user_article_matrix)\n",
    "user_similarity_df = pd.DataFrame(user_similarity, index=user_article_matrix.index, columns=user_article_matrix.index)"
   ]
  },
  {
   "cell_type": "code",
   "execution_count": 153,
   "id": "f2f58089",
   "metadata": {},
   "outputs": [],
   "source": [
    "user_id = 74"
   ]
  },
  {
   "cell_type": "code",
   "execution_count": 154,
   "id": "3fef3295",
   "metadata": {},
   "outputs": [
    {
     "name": "stdout",
     "output_type": "stream",
     "text": [
      "63 18\n"
     ]
    },
    {
     "data": {
      "text/plain": [
       "[5129, 5199, 4146, 5395, 1299]"
      ]
     },
     "execution_count": 154,
     "metadata": {},
     "output_type": "execute_result"
    }
   ],
   "source": [
    "recommended_articles_sv = recommend_articles_sv(user_id, user_article_matrix, user_similarity_df, top_n=5)\n",
    "recommended_articles_sv"
   ]
  },
  {
   "cell_type": "markdown",
   "id": "250f20fe",
   "metadata": {},
   "source": [
    "#### Matrix Factorization\n",
    "\n",
    "A general MF model takes a list of triplets (user, item, rating), and then tries to create vector representaitons for both users and items, such that the inner product of user-vector and item-vector is as close to the rating as possible. \n",
    "\n",
    "The specific model we use actually integrates a weight component to the innner product, and restricts the ratings to a constant value of 1."
   ]
  },
  {
   "cell_type": "code",
   "execution_count": 155,
   "id": "4c915402",
   "metadata": {},
   "outputs": [
    {
     "data": {
      "text/plain": [
       "<threadpoolctl.threadpool_limits at 0x7f905564f400>"
      ]
     },
     "execution_count": 155,
     "metadata": {},
     "output_type": "execute_result"
    }
   ],
   "source": [
    "from typing import Iterable\n",
    "\n",
    "import itertools\n",
    "import os\n",
    "import threadpoolctl\n",
    "import implicit\n",
    "\n",
    "from tqdm import tqdm\n",
    "from scipy.sparse import csr_matrix\n",
    "\n",
    "# as recommended by the implicit package warning\n",
    "threadpoolctl.threadpool_limits(1, \"blas\")"
   ]
  },
  {
   "cell_type": "code",
   "execution_count": 156,
   "id": "24406c87",
   "metadata": {},
   "outputs": [],
   "source": [
    "def build_user_and_item_mappings(users, items):\n",
    "    users_map = {user: idx for idx, user in enumerate(users)}\n",
    "    items_map = {game: idx for idx, game in enumerate(items)}\n",
    "    return users_map, items_map"
   ]
  },
  {
   "cell_type": "code",
   "execution_count": 157,
   "id": "90545863",
   "metadata": {},
   "outputs": [],
   "source": [
    "def build_matrix(data, rating_col, users_map, items_map,\n",
    "    user_col = \"user_id\",\n",
    "    item_col= \"article_id\"):\n",
    "    \n",
    "    records = (\n",
    "        data\n",
    "        .loc[:, [user_col, item_col, rating_col]]\n",
    "        .groupby(by=[user_col, item_col])\n",
    "        .agg({rating_col: \"sum\"})\n",
    "        .reset_index()\n",
    "        .assign(**{\n",
    "            user_col: lambda x: x[user_col].map(users_map),\n",
    "            item_col: lambda x: x[item_col].map(items_map),\n",
    "        })\n",
    "    )\n",
    "    return csr_matrix(\n",
    "        (records[rating_col], (records[user_col], records[item_col])),\n",
    "        shape=(len(users_map), len(items_map))\n",
    "    )"
   ]
  },
  {
   "cell_type": "markdown",
   "id": "6282aa73",
   "metadata": {},
   "source": [
    "#### Model parameters\n",
    "\n",
    "The MF model has several parameters:\n",
    "\n",
    "- alpha: a float the magnitude of which basically indicates the separation of the items the users have interactions with versus those with which they haven't\n",
    "- factors: this is the lenght (dimensionality) of the vectors generated, both for users and for items\n",
    "- iterations: the number of iterations involved in numerical optimization"
   ]
  },
  {
   "cell_type": "code",
   "execution_count": 158,
   "id": "bff553da",
   "metadata": {},
   "outputs": [],
   "source": [
    "def train_model(\n",
    "    train_matrix,\n",
    "    test_matrix,\n",
    "    alpha: float = 40,\n",
    "    factors: int = 50,\n",
    "    iterations: int = 30,\n",
    "    show_progress: bool = False\n",
    "):\n",
    "    model = implicit.als.AlternatingLeastSquares(\n",
    "        alpha=alpha,\n",
    "        factors=factors,\n",
    "        iterations=iterations,\n",
    "    )\n",
    "    model.fit(train_matrix, show_progress=show_progress)\n",
    "    \n",
    "    return model"
   ]
  },
  {
   "cell_type": "code",
   "execution_count": 159,
   "id": "df6db310",
   "metadata": {},
   "outputs": [
    {
     "data": {
      "text/html": [
       "<div>\n",
       "<style scoped>\n",
       "    .dataframe tbody tr th:only-of-type {\n",
       "        vertical-align: middle;\n",
       "    }\n",
       "\n",
       "    .dataframe tbody tr th {\n",
       "        vertical-align: top;\n",
       "    }\n",
       "\n",
       "    .dataframe thead th {\n",
       "        text-align: right;\n",
       "    }\n",
       "</style>\n",
       "<table border=\"1\" class=\"dataframe\">\n",
       "  <thead>\n",
       "    <tr style=\"text-align: right;\">\n",
       "      <th></th>\n",
       "      <th>user_id</th>\n",
       "      <th>article_id</th>\n",
       "      <th>rating</th>\n",
       "    </tr>\n",
       "  </thead>\n",
       "  <tbody>\n",
       "    <tr>\n",
       "      <th>379822</th>\n",
       "      <td>127</td>\n",
       "      <td>1047</td>\n",
       "      <td>3</td>\n",
       "    </tr>\n",
       "    <tr>\n",
       "      <th>621877</th>\n",
       "      <td>208</td>\n",
       "      <td>57</td>\n",
       "      <td>5</td>\n",
       "    </tr>\n",
       "    <tr>\n",
       "      <th>857185</th>\n",
       "      <td>286</td>\n",
       "      <td>1958</td>\n",
       "      <td>5</td>\n",
       "    </tr>\n",
       "    <tr>\n",
       "      <th>894788</th>\n",
       "      <td>299</td>\n",
       "      <td>37</td>\n",
       "      <td>5</td>\n",
       "    </tr>\n",
       "    <tr>\n",
       "      <th>255164</th>\n",
       "      <td>86</td>\n",
       "      <td>8436</td>\n",
       "      <td>5</td>\n",
       "    </tr>\n",
       "  </tbody>\n",
       "</table>\n",
       "</div>"
      ],
      "text/plain": [
       "        user_id  article_id  rating\n",
       "379822      127        1047       3\n",
       "621877      208          57       5\n",
       "857185      286        1958       5\n",
       "894788      299          37       5\n",
       "255164       86        8436       5"
      ]
     },
     "execution_count": 159,
     "metadata": {},
     "output_type": "execute_result"
    }
   ],
   "source": [
    "train.head()"
   ]
  },
  {
   "cell_type": "code",
   "execution_count": 160,
   "id": "63049d0d",
   "metadata": {},
   "outputs": [],
   "source": [
    "train_data = train.groupby(by=[\"user_id\", \"article_id\"]).agg(\"sum\").reset_index()"
   ]
  },
  {
   "cell_type": "code",
   "execution_count": 161,
   "id": "6ac4f457",
   "metadata": {},
   "outputs": [
    {
     "name": "stdout",
     "output_type": "stream",
     "text": [
      "Number of users: 299\n",
      "Number of articles: 3000\n"
     ]
    }
   ],
   "source": [
    "# building player and bet mappings\n",
    "users_map, items_map = build_user_and_item_mappings(train_data[\"user_id\"].unique(), train_data[\"article_id\"].unique())\n",
    "print(f\"Number of users: {len(users_map)}\")\n",
    "print(f\"Number of articles: {len(items_map)}\")"
   ]
  },
  {
   "cell_type": "code",
   "execution_count": 162,
   "id": "9d781a3d",
   "metadata": {},
   "outputs": [],
   "source": [
    "model = implicit.als.AlternatingLeastSquares()"
   ]
  },
  {
   "cell_type": "code",
   "execution_count": 163,
   "id": "758daaa2",
   "metadata": {},
   "outputs": [],
   "source": [
    "train_matrix = build_matrix(train_data, rating_col='rating', users_map=users_map, items_map=items_map)"
   ]
  },
  {
   "cell_type": "code",
   "execution_count": 164,
   "id": "d8a9fde7",
   "metadata": {},
   "outputs": [
    {
     "name": "stderr",
     "output_type": "stream",
     "text": [
      "100%|███████████████████████████████████████████| 15/15 [00:00<00:00, 89.22it/s]\n"
     ]
    }
   ],
   "source": [
    "model.fit(train_matrix, show_progress=True)"
   ]
  },
  {
   "cell_type": "code",
   "execution_count": 165,
   "id": "5fde694c",
   "metadata": {},
   "outputs": [],
   "source": [
    "items_map_inv = {val:key for key, val in items_map.items()}"
   ]
  },
  {
   "cell_type": "code",
   "execution_count": 166,
   "id": "e6c6de92",
   "metadata": {},
   "outputs": [],
   "source": [
    "def recommend_articles_mf(model, original_user_id, users_map, items_map, k=5):\n",
    "    \n",
    "    user_id = users_map[original_user_id]\n",
    "    recos = set(model.recommend(user_id, train_matrix[user_id], N=k)[0])\n",
    "    \n",
    "    return [items_map[r] for r in recos]"
   ]
  },
  {
   "cell_type": "code",
   "execution_count": 167,
   "id": "40c76945",
   "metadata": {},
   "outputs": [],
   "source": [
    "user_id = 74"
   ]
  },
  {
   "cell_type": "code",
   "execution_count": 168,
   "id": "c38daffd",
   "metadata": {},
   "outputs": [
    {
     "data": {
      "text/plain": [
       "[1299, 2524, 5129, 5199, 5395]"
      ]
     },
     "execution_count": 168,
     "metadata": {},
     "output_type": "execute_result"
    }
   ],
   "source": [
    "recommended_articles_mf = recommend_articles_mf(model, user_id, users_map, items_map_inv)\n",
    "recommended_articles_mf"
   ]
  },
  {
   "cell_type": "code",
   "execution_count": 169,
   "id": "bfd90ee5",
   "metadata": {},
   "outputs": [
    {
     "data": {
      "text/html": [
       "<div>\n",
       "<style scoped>\n",
       "    .dataframe tbody tr th:only-of-type {\n",
       "        vertical-align: middle;\n",
       "    }\n",
       "\n",
       "    .dataframe tbody tr th {\n",
       "        vertical-align: top;\n",
       "    }\n",
       "\n",
       "    .dataframe thead th {\n",
       "        text-align: right;\n",
       "    }\n",
       "</style>\n",
       "<table border=\"1\" class=\"dataframe\">\n",
       "  <thead>\n",
       "    <tr style=\"text-align: right;\">\n",
       "      <th></th>\n",
       "      <th>user_id</th>\n",
       "      <th>article_id</th>\n",
       "      <th>rating</th>\n",
       "    </tr>\n",
       "  </thead>\n",
       "  <tbody>\n",
       "    <tr>\n",
       "      <th>379822</th>\n",
       "      <td>127</td>\n",
       "      <td>1047</td>\n",
       "      <td>3</td>\n",
       "    </tr>\n",
       "    <tr>\n",
       "      <th>621877</th>\n",
       "      <td>208</td>\n",
       "      <td>57</td>\n",
       "      <td>5</td>\n",
       "    </tr>\n",
       "    <tr>\n",
       "      <th>857185</th>\n",
       "      <td>286</td>\n",
       "      <td>1958</td>\n",
       "      <td>5</td>\n",
       "    </tr>\n",
       "    <tr>\n",
       "      <th>894788</th>\n",
       "      <td>299</td>\n",
       "      <td>37</td>\n",
       "      <td>5</td>\n",
       "    </tr>\n",
       "    <tr>\n",
       "      <th>255164</th>\n",
       "      <td>86</td>\n",
       "      <td>8436</td>\n",
       "      <td>5</td>\n",
       "    </tr>\n",
       "  </tbody>\n",
       "</table>\n",
       "</div>"
      ],
      "text/plain": [
       "        user_id  article_id  rating\n",
       "379822      127        1047       3\n",
       "621877      208          57       5\n",
       "857185      286        1958       5\n",
       "894788      299          37       5\n",
       "255164       86        8436       5"
      ]
     },
     "execution_count": 169,
     "metadata": {},
     "output_type": "execute_result"
    }
   ],
   "source": [
    "train.head()"
   ]
  },
  {
   "cell_type": "markdown",
   "id": "41b46b30",
   "metadata": {},
   "source": [
    "### 'Manual' evaluation\n",
    "\n",
    "Below we will list the articles that the context user has actually read, and compare this list to the lists generated by our two models"
   ]
  },
  {
   "cell_type": "code",
   "execution_count": 170,
   "id": "3058ebcb",
   "metadata": {},
   "outputs": [],
   "source": [
    "def get_seen_articles_by_user(df, user_id):\n",
    "    \n",
    "    return df[df['user_id'] == user_id]['article_id'].tolist()"
   ]
  },
  {
   "cell_type": "code",
   "execution_count": 171,
   "id": "e1fe7122",
   "metadata": {},
   "outputs": [
    {
     "data": {
      "text/plain": [
       "7"
      ]
     },
     "execution_count": 171,
     "metadata": {},
     "output_type": "execute_result"
    }
   ],
   "source": [
    "seen_articles = get_seen_articles_by_user(test, user_id)\n",
    "len(seen_articles)"
   ]
  },
  {
   "cell_type": "code",
   "execution_count": 172,
   "id": "ba9d3aee",
   "metadata": {},
   "outputs": [
    {
     "data": {
      "text/plain": [
       "{'TRAVEL'}"
      ]
     },
     "execution_count": 172,
     "metadata": {},
     "output_type": "execute_result"
    }
   ],
   "source": [
    "set([news_articles.loc[id_]['category'] for id_ in seen_articles])"
   ]
  },
  {
   "cell_type": "code",
   "execution_count": 173,
   "id": "702ed340",
   "metadata": {},
   "outputs": [
    {
     "data": {
      "text/plain": [
       "{'TRAVEL'}"
      ]
     },
     "execution_count": 173,
     "metadata": {},
     "output_type": "execute_result"
    }
   ],
   "source": [
    "set([news_articles.loc[id_]['category'] for id_ in recommended_articles_sv])"
   ]
  },
  {
   "cell_type": "code",
   "execution_count": 174,
   "id": "9895db5c",
   "metadata": {},
   "outputs": [
    {
     "data": {
      "text/plain": [
       "{'TRAVEL'}"
      ]
     },
     "execution_count": 174,
     "metadata": {},
     "output_type": "execute_result"
    }
   ],
   "source": [
    "set([news_articles.loc[id_]['category'] for id_ in recommended_articles_mf])"
   ]
  },
  {
   "cell_type": "markdown",
   "id": "c07276b4",
   "metadata": {},
   "source": [
    "We see that both of our models recommend items that belong to the 'travel' category, which means that both lists are relevant. Below we introduce evaluation metrics that can help us compare the models in a numerical fashion."
   ]
  },
  {
   "cell_type": "markdown",
   "id": "a6c81fd5",
   "metadata": {},
   "source": [
    "### Evaluation Metrics"
   ]
  },
  {
   "cell_type": "markdown",
   "id": "9794d3ca",
   "metadata": {},
   "source": [
    "Another, probably more effective way to measure the quality of a recommender is by measuring metrics values, such\n",
    "as precision and recall. These metrics evaluate the relevancy of the recommendations. Precision measures the proportion of recommended items that are relevant, while recall assesses the proportion of relevant items that are recommended. High precision means that most of the recommended items are relevant, and high recall means that most of the relevant items are recommended."
   ]
  },
  {
   "cell_type": "code",
   "execution_count": 175,
   "id": "32ed59ca",
   "metadata": {},
   "outputs": [],
   "source": [
    "def precision_and_recall_at_k(train, test, recommended, k):\n",
    "    \n",
    "    train_user_ids = train['user_id'].unique().tolist()\n",
    "    test_user_ids = test['user_id'].unique().tolist()\n",
    "    \n",
    "    common_user_ids = list(set(train_user_ids).intersection(set(test_user_ids)))\n",
    "    print('Number of common users: ', len(common_user_ids))\n",
    "\n",
    "    precision = 0\n",
    "    recall = 0\n",
    "    \n",
    "    for user_id in common_user_ids:\n",
    "        #recommended_articles = recommend_articles(user_id, user_article_matrix, user_similarity_df, top_n=k)\n",
    "        recommended_articles = recommended[user_id]\n",
    "        test_articles = get_seen_articles_by_user(test, user_id)\n",
    "        \n",
    "        intersection_count = len(list(set(recommended_articles).intersection(set(test_articles))))\n",
    "        \n",
    "        # precision\n",
    "        if k > 0:\n",
    "            precision += intersection_count / k\n",
    "        \n",
    "        # recall\n",
    "        if len(test_articles) > 0:\n",
    "            recall += intersection_count / len(test_articles)\n",
    "    \n",
    "    # division by zero is handled\n",
    "    if len(common_user_ids) > 0:\n",
    "        average_precision = precision / len(common_user_ids)\n",
    "        average_recall = recall / len(common_user_ids)\n",
    "    else:\n",
    "        average_precision = 0\n",
    "        average_recall = 0\n",
    "    \n",
    "    return average_precision, average_recall"
   ]
  },
  {
   "cell_type": "markdown",
   "id": "ca5481c2",
   "metadata": {},
   "source": [
    "We will first extract a list of users which appear both in the train and in the test set, because - as discussed in the Cold-start section - our models can generate recommendations only to users whose interactions they have\n",
    "been trained on."
   ]
  },
  {
   "cell_type": "code",
   "execution_count": 176,
   "id": "fba99333",
   "metadata": {},
   "outputs": [
    {
     "data": {
      "text/plain": [
       "284"
      ]
     },
     "execution_count": 176,
     "metadata": {},
     "output_type": "execute_result"
    }
   ],
   "source": [
    "train_user_ids = train['user_id'].unique().tolist()\n",
    "test_user_ids = test['user_id'].unique().tolist()\n",
    "    \n",
    "common_user_ids = list(set(train_user_ids).intersection(set(test_user_ids)))\n",
    "len(common_user_ids)"
   ]
  },
  {
   "cell_type": "code",
   "execution_count": 177,
   "id": "ed328d96",
   "metadata": {},
   "outputs": [
    {
     "data": {
      "text/plain": [
       "[1,\n",
       " 2,\n",
       " 3,\n",
       " 4,\n",
       " 5,\n",
       " 6,\n",
       " 7,\n",
       " 8,\n",
       " 9,\n",
       " 10,\n",
       " 11,\n",
       " 12,\n",
       " 13,\n",
       " 14,\n",
       " 15,\n",
       " 16,\n",
       " 18,\n",
       " 19,\n",
       " 20,\n",
       " 21,\n",
       " 22,\n",
       " 23,\n",
       " 24,\n",
       " 25,\n",
       " 26,\n",
       " 27,\n",
       " 28,\n",
       " 29,\n",
       " 30,\n",
       " 31,\n",
       " 32,\n",
       " 33,\n",
       " 34,\n",
       " 35,\n",
       " 36,\n",
       " 37,\n",
       " 38,\n",
       " 39,\n",
       " 40,\n",
       " 41,\n",
       " 42,\n",
       " 43,\n",
       " 44,\n",
       " 45,\n",
       " 46,\n",
       " 47,\n",
       " 48,\n",
       " 49,\n",
       " 50,\n",
       " 51,\n",
       " 52,\n",
       " 53,\n",
       " 54,\n",
       " 55,\n",
       " 56,\n",
       " 57,\n",
       " 58,\n",
       " 59,\n",
       " 60,\n",
       " 62,\n",
       " 63,\n",
       " 64,\n",
       " 65,\n",
       " 66,\n",
       " 67,\n",
       " 68,\n",
       " 69,\n",
       " 70,\n",
       " 71,\n",
       " 72,\n",
       " 73,\n",
       " 74,\n",
       " 75,\n",
       " 76,\n",
       " 77,\n",
       " 78,\n",
       " 79,\n",
       " 80,\n",
       " 81,\n",
       " 84,\n",
       " 85,\n",
       " 86,\n",
       " 87,\n",
       " 88,\n",
       " 89,\n",
       " 90,\n",
       " 91,\n",
       " 92,\n",
       " 93,\n",
       " 94,\n",
       " 95,\n",
       " 96,\n",
       " 98,\n",
       " 99,\n",
       " 100,\n",
       " 101,\n",
       " 102,\n",
       " 103,\n",
       " 104,\n",
       " 105,\n",
       " 106,\n",
       " 107,\n",
       " 108,\n",
       " 109,\n",
       " 110,\n",
       " 111,\n",
       " 112,\n",
       " 113,\n",
       " 114,\n",
       " 115,\n",
       " 116,\n",
       " 117,\n",
       " 118,\n",
       " 119,\n",
       " 121,\n",
       " 122,\n",
       " 123,\n",
       " 124,\n",
       " 125,\n",
       " 126,\n",
       " 127,\n",
       " 128,\n",
       " 129,\n",
       " 131,\n",
       " 132,\n",
       " 133,\n",
       " 134,\n",
       " 135,\n",
       " 136,\n",
       " 137,\n",
       " 138,\n",
       " 139,\n",
       " 140,\n",
       " 141,\n",
       " 142,\n",
       " 143,\n",
       " 144,\n",
       " 145,\n",
       " 146,\n",
       " 147,\n",
       " 148,\n",
       " 149,\n",
       " 151,\n",
       " 152,\n",
       " 153,\n",
       " 154,\n",
       " 155,\n",
       " 156,\n",
       " 157,\n",
       " 158,\n",
       " 159,\n",
       " 160,\n",
       " 161,\n",
       " 162,\n",
       " 163,\n",
       " 164,\n",
       " 165,\n",
       " 166,\n",
       " 167,\n",
       " 168,\n",
       " 169,\n",
       " 170,\n",
       " 171,\n",
       " 172,\n",
       " 173,\n",
       " 174,\n",
       " 175,\n",
       " 176,\n",
       " 177,\n",
       " 178,\n",
       " 179,\n",
       " 180,\n",
       " 181,\n",
       " 182,\n",
       " 183,\n",
       " 184,\n",
       " 185,\n",
       " 186,\n",
       " 187,\n",
       " 188,\n",
       " 189,\n",
       " 190,\n",
       " 191,\n",
       " 192,\n",
       " 194,\n",
       " 195,\n",
       " 196,\n",
       " 197,\n",
       " 198,\n",
       " 199,\n",
       " 200,\n",
       " 201,\n",
       " 203,\n",
       " 204,\n",
       " 205,\n",
       " 206,\n",
       " 207,\n",
       " 208,\n",
       " 209,\n",
       " 210,\n",
       " 211,\n",
       " 213,\n",
       " 214,\n",
       " 215,\n",
       " 216,\n",
       " 217,\n",
       " 218,\n",
       " 219,\n",
       " 220,\n",
       " 221,\n",
       " 222,\n",
       " 223,\n",
       " 224,\n",
       " 226,\n",
       " 227,\n",
       " 228,\n",
       " 229,\n",
       " 230,\n",
       " 231,\n",
       " 232,\n",
       " 233,\n",
       " 234,\n",
       " 235,\n",
       " 236,\n",
       " 237,\n",
       " 238,\n",
       " 239,\n",
       " 240,\n",
       " 241,\n",
       " 242,\n",
       " 243,\n",
       " 244,\n",
       " 245,\n",
       " 246,\n",
       " 247,\n",
       " 248,\n",
       " 249,\n",
       " 250,\n",
       " 251,\n",
       " 252,\n",
       " 253,\n",
       " 254,\n",
       " 255,\n",
       " 256,\n",
       " 257,\n",
       " 258,\n",
       " 259,\n",
       " 260,\n",
       " 261,\n",
       " 262,\n",
       " 263,\n",
       " 264,\n",
       " 265,\n",
       " 266,\n",
       " 267,\n",
       " 268,\n",
       " 269,\n",
       " 270,\n",
       " 271,\n",
       " 273,\n",
       " 274,\n",
       " 275,\n",
       " 276,\n",
       " 277,\n",
       " 278,\n",
       " 279,\n",
       " 280,\n",
       " 281,\n",
       " 282,\n",
       " 283,\n",
       " 284,\n",
       " 285,\n",
       " 286,\n",
       " 287,\n",
       " 289,\n",
       " 290,\n",
       " 291,\n",
       " 292,\n",
       " 293,\n",
       " 294,\n",
       " 295,\n",
       " 297,\n",
       " 299,\n",
       " 300]"
      ]
     },
     "execution_count": 177,
     "metadata": {},
     "output_type": "execute_result"
    }
   ],
   "source": [
    "common_user_ids"
   ]
  },
  {
   "cell_type": "code",
   "execution_count": 178,
   "id": "8bbbcc84",
   "metadata": {},
   "outputs": [
    {
     "name": "stdout",
     "output_type": "stream",
     "text": [
      "52 14\n",
      "10 3\n",
      "430 136\n",
      "58 17\n",
      "66 23\n",
      "19 6\n",
      "158 47\n",
      "36 8\n",
      "329 104\n",
      "67 20\n",
      "40 15\n",
      "177 56\n",
      "23 8\n",
      "57 18\n",
      "36 12\n",
      "293 100\n",
      "111 36\n",
      "63 17\n",
      "1031 346\n",
      "39 13\n",
      "25 8\n",
      "40 10\n",
      "10 1\n",
      "201 65\n",
      "179 57\n",
      "430 133\n",
      "86 18\n",
      "88 22\n",
      "329 105\n",
      "325 113\n",
      "22 6\n",
      "470 157\n",
      "40 11\n",
      "44 12\n",
      "36 10\n",
      "60 19\n",
      "156 53\n",
      "301 91\n",
      "311 94\n",
      "114 36\n",
      "197 54\n",
      "325 97\n",
      "67 19\n",
      "44 15\n",
      "87 27\n",
      "14 4\n",
      "105 26\n",
      "200 66\n",
      "62 20\n",
      "61 17\n",
      "326 110\n",
      "437 143\n",
      "42 13\n",
      "20 6\n",
      "469 160\n",
      "103 29\n",
      "42 12\n",
      "56 16\n",
      "43 15\n",
      "38 10\n",
      "60 21\n",
      "10 3\n",
      "35 10\n",
      "9 3\n",
      "114 36\n",
      "92 24\n",
      "307 99\n",
      "183 57\n",
      "1017 345\n",
      "38 12\n",
      "180 62\n",
      "63 18\n",
      "28 7\n",
      "39 13\n",
      "25 8\n",
      "14 4\n",
      "333 110\n",
      "36 12\n",
      "10 2\n",
      "473 150\n",
      "40 13\n",
      "24 5\n",
      "37 11\n",
      "34 10\n",
      "478 152\n",
      "40 10\n",
      "430 138\n",
      "21 6\n",
      "55 17\n",
      "36 11\n",
      "64 22\n",
      "65 17\n",
      "41 13\n",
      "36 13\n",
      "114 39\n",
      "23 7\n",
      "38 11\n",
      "53 17\n",
      "66 20\n",
      "60 17\n",
      "39 11\n",
      "11 3\n",
      "298 103\n",
      "181 56\n",
      "67 22\n",
      "35 11\n",
      "36 10\n",
      "60 22\n",
      "1017 341\n",
      "318 99\n",
      "35 11\n",
      "26 6\n",
      "155 46\n",
      "290 99\n",
      "183 59\n",
      "183 61\n",
      "41 10\n",
      "327 105\n",
      "34 8\n",
      "35 11\n",
      "321 88\n",
      "182 55\n",
      "332 108\n",
      "182 59\n",
      "87 27\n",
      "39 10\n",
      "37 12\n",
      "25 6\n",
      "3055 1000\n",
      "67 20\n",
      "323 110\n",
      "301 96\n",
      "477 138\n",
      "11 4\n",
      "114 39\n",
      "97 34\n",
      "102 28\n",
      "1027 335\n",
      "35 11\n",
      "101 36\n",
      "1036 336\n",
      "293 90\n",
      "159 50\n",
      "87 23\n",
      "10 2\n",
      "38 11\n",
      "4 1\n",
      "67 22\n",
      "37 12\n",
      "42 14\n",
      "12 4\n",
      "3022 1043\n",
      "426 138\n",
      "423 133\n",
      "329 101\n",
      "25 8\n",
      "332 114\n",
      "92 28\n",
      "35 8\n",
      "3055 1010\n",
      "36 10\n",
      "332 104\n",
      "436 144\n",
      "26 8\n",
      "3055 1002\n",
      "197 69\n",
      "24 7\n",
      "37 12\n",
      "180 52\n",
      "1022 341\n",
      "87 21\n",
      "42 12\n",
      "111 36\n",
      "102 35\n",
      "41 14\n",
      "43 12\n",
      "64 19\n",
      "91 28\n",
      "10 3\n",
      "11 2\n",
      "41 14\n",
      "330 108\n",
      "38 12\n",
      "459 153\n",
      "9 2\n",
      "103 32\n",
      "156 45\n",
      "425 143\n",
      "94 29\n",
      "63 18\n",
      "1023 349\n",
      "25 7\n",
      "12 4\n",
      "60 16\n",
      "473 152\n",
      "56 16\n",
      "100 31\n",
      "426 137\n",
      "297 96\n",
      "101 32\n",
      "25 6\n",
      "467 156\n",
      "154 55\n",
      "431 149\n",
      "55 16\n",
      "64 18\n",
      "467 152\n",
      "36 12\n",
      "4 1\n",
      "430 144\n",
      "182 53\n",
      "53 16\n",
      "186 58\n",
      "67 18\n",
      "6 1\n",
      "303 98\n",
      "3055 1012\n",
      "67 22\n",
      "114 39\n",
      "36 12\n",
      "37 8\n",
      "26 6\n",
      "104 26\n",
      "87 32\n",
      "331 107\n",
      "3065 1008\n",
      "43 14\n",
      "154 50\n",
      "42 11\n",
      "64 22\n",
      "303 98\n",
      "36 13\n",
      "11 4\n",
      "42 13\n",
      "54 15\n",
      "40 12\n",
      "39 13\n",
      "1035 341\n",
      "315 91\n",
      "91 28\n",
      "43 12\n",
      "41 10\n",
      "35 10\n",
      "95 26\n",
      "200 66\n",
      "10 3\n",
      "181 58\n",
      "30 6\n",
      "4 1\n",
      "58 17\n",
      "327 106\n",
      "39 12\n",
      "39 9\n",
      "22 6\n",
      "37 11\n",
      "11 3\n",
      "101 34\n",
      "87 32\n",
      "332 114\n",
      "178 63\n",
      "25 8\n",
      "32 7\n",
      "35 8\n",
      "13 3\n",
      "99 29\n",
      "95 31\n",
      "311 101\n",
      "67 19\n",
      "59 19\n",
      "425 136\n",
      "99 25\n",
      "300 104\n",
      "41 14\n",
      "21 7\n",
      "67 18\n",
      "40 10\n",
      "158 51\n",
      "39 13\n",
      "1026 321\n",
      "43 12\n",
      "26 6\n",
      "26 8\n",
      "473 165\n",
      "87 27\n"
     ]
    }
   ],
   "source": [
    "recos_sv = {user_id: recommend_articles_sv(user_id, user_article_matrix, user_similarity_df, top_n=5) \n",
    "                         for user_id in common_user_ids}"
   ]
  },
  {
   "cell_type": "code",
   "execution_count": 179,
   "id": "d064ab0a",
   "metadata": {},
   "outputs": [],
   "source": [
    "recos_mf = {user_id: recommend_articles_mf(model, user_id, users_map, items_map_inv) \n",
    "                         for user_id in common_user_ids}"
   ]
  },
  {
   "cell_type": "code",
   "execution_count": 180,
   "id": "9cf80910",
   "metadata": {},
   "outputs": [
    {
     "data": {
      "text/plain": [
       "{1: [1472, 6913, 4834, 6793, 7121],\n",
       " 2: [8310],\n",
       " 3: [4098, 3075, 5891, 7686, 3078],\n",
       " 4: [7809, 6793, 6699, 6357, 1693],\n",
       " 5: [3457, 4420],\n",
       " 6: [7962, 8287],\n",
       " 7: [6920, 8201, 4754, 275, 4505],\n",
       " 8: [774, 7756, 1202, 146, 7032],\n",
       " 9: [8577, 7810, 5763, 2437, 5904],\n",
       " 10: [5344, 8448, 999, 4146, 2715],\n",
       " 11: [568],\n",
       " 12: [3264, 7618, 8451, 7302, 3527],\n",
       " 13: [8066],\n",
       " 14: [4834, 6699, 3115, 5579, 8505],\n",
       " 15: [4792, 2666, 3029],\n",
       " 16: [7812, 4742, 6407, 1032, 649],\n",
       " 18: [7648, 7073, 835, 7144, 6999],\n",
       " 19: [6252, 8084, 8505, 1693, 6110],\n",
       " 20: [1, 1027, 4615, 1545, 2570],\n",
       " 21: [7756],\n",
       " 22: [7755],\n",
       " 23: [7032, 958, 774, 7756],\n",
       " 24: [8064, 8148, 8310],\n",
       " 25: [2436, 3845, 2696, 6154, 6176],\n",
       " 26: [5050, 673, 8450, 6403, 2082],\n",
       " 27: [8326, 3078, 2314, 6796, 6415],\n",
       " 28: [4667, 1572, 8452, 3110, 7112],\n",
       " 29: [1156, 3110, 7112, 361, 7346],\n",
       " 30: [5762, 5898, 5132, 1939, 5909],\n",
       " 31: [4737, 131, 2437, 4361, 6672],\n",
       " 32: [8066, 7766, 8166],\n",
       " 33: [7301, 4231, 6540, 6158, 7055],\n",
       " 34: [1416, 138, 4882, 499, 7380],\n",
       " 35: [568, 5863, 8435, 3583],\n",
       " 36: [3576, 5539, 3669, 8381],\n",
       " 37: [6699, 5579, 8084, 6847],\n",
       " 38: [8256, 2309, 7718, 3591, 4904],\n",
       " 39: [768, 2306, 4485, 3719, 1160],\n",
       " 40: [8577, 7810, 2950, 4487, 1800],\n",
       " 41: [8195, 7556, 2149, 2894, 1423],\n",
       " 42: [8578, 5520, 3860, 6554, 6176],\n",
       " 43: [8577, 7298, 2437, 4487, 267],\n",
       " 44: [5344, 5129, 5199, 1718, 1500],\n",
       " 45: [1416],\n",
       " 46: [8258, 455, 361, 1100, 4078],\n",
       " 47: [8454],\n",
       " 48: [3140, 5125, 4934, 2695, 4842],\n",
       " 49: [6176, 6592, 1570, 6626, 7779],\n",
       " 50: [6699, 6252, 6847],\n",
       " 51: [6913, 7041, 5579, 6699, 7319],\n",
       " 52: [5505, 5762, 136, 5131, 5899],\n",
       " 53: [7424, 4994, 6796, 6415, 4114],\n",
       " 54: [5112, 568, 3583],\n",
       " 55: [7945, 7755],\n",
       " 56: [5124, 5252, 4744, 3850, 7570],\n",
       " 57: [3138, 6761, 3916, 3533, 6348],\n",
       " 58: [568, 2762, 7380, 138],\n",
       " 59: [4834, 3115, 6252, 5579, 7121],\n",
       " 60: [499],\n",
       " 62: [449, 3589, 3975, 1777, 155],\n",
       " 63: [6606, 6110],\n",
       " 64: [8310],\n",
       " 65: [3576, 7756, 8381, 3207],\n",
       " 66: [8544],\n",
       " 67: [7648, 4324, 4774, 556, 734],\n",
       " 68: [416, 1156, 3110, 12, 1100],\n",
       " 69: [1664, 7812, 649, 3729, 280],\n",
       " 70: [2848, 4481, 7618, 7559, 7564],\n",
       " 71: [1, 2567, 2573, 2577, 4117],\n",
       " 72: [2295, 1028, 7900, 1111],\n",
       " 73: [7618, 1926, 7239, 141, 1169],\n",
       " 74: [5129, 5199, 4146, 5395, 1299],\n",
       " 75: [8257, 8041, 8215, 7963, 7543],\n",
       " 76: [146],\n",
       " 77: [8371],\n",
       " 78: [8353],\n",
       " 79: [5132, 4111, 1301, 5909, 7190],\n",
       " 80: [4792, 6084, 4798],\n",
       " 81: [8544, 7934, 8454],\n",
       " 84: [899, 4744, 526, 7058, 7570],\n",
       " 85: [8354, 3589],\n",
       " 86: [8472, 8066, 7766, 7855],\n",
       " 87: [5092, 2666, 1980, 7778],\n",
       " 88: [7954, 8455],\n",
       " 89: [1920, 7301, 3850, 7307, 3218],\n",
       " 90: [1958, 3975, 3965, 2844, 285],\n",
       " 91: [4096, 8325, 8326, 3081, 11],\n",
       " 92: [7945, 8370, 8287],\n",
       " 93: [4834, 6252, 7440, 8505, 8092],\n",
       " 94: [8497, 155, 2844, 3975],\n",
       " 95: [4146, 1299, 4006],\n",
       " 96: [5344, 3457, 8448, 615, 5129],\n",
       " 98: [3763, 285],\n",
       " 99: [7778],\n",
       " 100: [32, 3596, 3600, 2801, 3317],\n",
       " 101: [7962, 7755],\n",
       " 102: [2666, 6084, 1346, 2965],\n",
       " 103: [1472, 6793, 6252, 7440, 6357],\n",
       " 104: [5344, 7465, 5395, 1718, 2715],\n",
       " 105: [4329, 5199, 4146, 5395, 7388],\n",
       " 106: [5249, 3763, 1246, 8497],\n",
       " 107: [8148],\n",
       " 108: [3846, 280, 161, 4131, 3108],\n",
       " 109: [3264, 6403, 6631, 2313, 3210],\n",
       " 110: [7465, 4146, 4420],\n",
       " 111: [4792, 7778, 6084, 4798],\n",
       " 112: [5248, 6084, 1980, 4798],\n",
       " 113: [8505],\n",
       " 114: [1, 1027, 2570, 3083, 8203],\n",
       " 115: [8577, 3843, 132, 2950, 4361],\n",
       " 116: [8283],\n",
       " 117: [8370, 7755, 7628],\n",
       " 118: [6020, 3591, 1933, 275, 6811],\n",
       " 119: [7937, 514, 4485, 3846, 6407],\n",
       " 121: [8451, 6469, 998, 4326, 776],\n",
       " 122: [2913, 2519, 998, 4326, 776],\n",
       " 123: [5249, 3589, 1777, 2844, 1309],\n",
       " 124: [5505, 5132, 5780, 5909, 5914],\n",
       " 125: [8257, 6625, 7954, 8041],\n",
       " 126: [8215],\n",
       " 127: [8577, 7298, 5763, 132, 2181],\n",
       " 128: [2848, 673, 2082, 8450, 998],\n",
       " 129: [5505, 5762, 5509, 5898, 5660],\n",
       " 131: [7486, 2082, 1926, 3527, 7559],\n",
       " 132: [5383, 4905, 3146, 1100, 1869],\n",
       " 133: [7032, 5539, 7756, 3207],\n",
       " 134: [443, 4798],\n",
       " 135: [7962, 7628, 7293],\n",
       " 136: [2560, 2561, 8192, 2051, 5123],\n",
       " 137: [3680, 4420, 615, 5395, 2524],\n",
       " 138: [7810, 3843, 8342, 5274, 797],\n",
       " 139: [768, 7937, 1160, 6031, 528],\n",
       " 140: [1920, 7299, 4351, 7557, 5124],\n",
       " 141: [7578],\n",
       " 142: [2080, 0, 4774, 3596, 2801],\n",
       " 143: [3215, 4634, 1295],\n",
       " 144: [6052, 3142, 2982, 4934, 6348],\n",
       " 145: [2570, 3083, 2577, 4117, 4633],\n",
       " 146: [6084, 1980, 443],\n",
       " 147: [7363, 5125, 2982],\n",
       " 148: [8204, 1037, 527, 7696, 4628],\n",
       " 149: [1664, 2306, 4485, 3846, 6407],\n",
       " 151: [2849, 67, 707, 2309, 7718],\n",
       " 152: [1156, 1572, 5383, 7112, 1100],\n",
       " 153: [8544, 7934],\n",
       " 154: [4105, 5539, 607],\n",
       " 155: [8102],\n",
       " 156: [5344, 4329, 4006],\n",
       " 157: [4105, 5539],\n",
       " 158: [7900, 2350],\n",
       " 159: [8353],\n",
       " 160: [2563, 5635, 7171, 3076, 3594],\n",
       " 161: [3075, 8326, 3081, 6415, 4630],\n",
       " 162: [143, 4624, 276, 6424, 3867],\n",
       " 163: [132, 4359, 5640, 3344, 7699],\n",
       " 164: [8509],\n",
       " 165: [4998, 6665, 4111, 5780, 5915],\n",
       " 166: [1156, 4078, 6449, 6772, 6297],\n",
       " 167: [7954, 7963, 8215, 7543],\n",
       " 168: [5123, 3076, 7687, 8208, 5649],\n",
       " 169: [5539, 8381, 774, 3207],\n",
       " 170: [4998, 5898, 6288, 1939, 1301],\n",
       " 171: [3075, 8326, 2314, 2316, 143],\n",
       " 172: [8436],\n",
       " 173: [7168, 2563, 518, 521, 3594],\n",
       " 174: [5668, 7337, 1003, 4331, 5582],\n",
       " 175: [7945, 7628],\n",
       " 176: [8354, 155, 1246],\n",
       " 177: [1926, 7559, 3853, 142, 273],\n",
       " 178: [6656, 4104, 1037, 2577, 21],\n",
       " 179: [8258, 3257, 1572, 8452, 5383],\n",
       " 180: [138, 7380, 7900, 2295],\n",
       " 181: [5856, 835, 1541, 7144, 3317],\n",
       " 182: [4934, 3138, 3510, 87],\n",
       " 183: [1777],\n",
       " 184: [5112, 5863, 7380, 2295],\n",
       " 185: [4006, 7465, 1718, 2072, 1500],\n",
       " 186: [361, 6772, 5877, 3257, 4667],\n",
       " 187: [7578, 7934],\n",
       " 188: [8064, 8259],\n",
       " 189: [8497],\n",
       " 190: [7298, 3843, 7810, 1800, 7433],\n",
       " 191: [8497, 2844, 1958],\n",
       " 192: [899, 7301, 2824, 7307, 6158],\n",
       " 194: [8259],\n",
       " 195: [3140, 3142, 3916, 4634, 87],\n",
       " 196: [7184, 275, 7062, 1435, 1313],\n",
       " 197: [4096, 4994, 7686, 789, 1944],\n",
       " 198: [3140, 6052, 4934, 2695, 6794],\n",
       " 199: [6913, 7041, 6606, 6357, 6110],\n",
       " 200: [2567, 4104, 2570, 3083, 2573],\n",
       " 201: [8289, 7877],\n",
       " 203: [7934],\n",
       " 204: [1472, 6913, 7809, 6793, 5579],\n",
       " 205: [1920, 1672, 7307, 6540, 7058],\n",
       " 206: [7041, 7809, 6793, 6606, 7440],\n",
       " 207: [6052, 3142, 4842, 6794, 3215],\n",
       " 208: [4994, 4623, 4624, 6415, 6416],\n",
       " 209: [768, 7937, 1160, 649, 1032],\n",
       " 210: [3140, 5125, 4842, 3312, 3992],\n",
       " 211: [8066, 8436, 8166],\n",
       " 213: [7299, 1672, 2824, 2191, 7445],\n",
       " 214: [6982, 839, 4904, 6920, 3305],\n",
       " 215: [4098, 3078, 2314, 11, 4500],\n",
       " 216: [1472, 6913, 3115, 8084, 6357],\n",
       " 217: [5344, 3680, 999, 615, 4329],\n",
       " 218: [1920, 899, 7299, 5252, 6024],\n",
       " 219: [7778, 4891, 443],\n",
       " 220: [8102],\n",
       " 221: [7424, 6147, 7686, 6796, 4498],\n",
       " 222: [6403, 8451, 1926, 7561, 1421],\n",
       " 223: [4834, 6793, 5579, 6699, 8092],\n",
       " 224: [4255, 2082, 998, 4326, 7561],\n",
       " 226: [3457, 4420, 4329, 7465, 1718],\n",
       " 227: [8464],\n",
       " 228: [768, 2306, 3846, 6407, 1160],\n",
       " 229: [5634, 5123, 2052, 7171, 518],\n",
       " 230: [8448, 5129, 2454],\n",
       " 231: [0, 3596, 2063, 2801, 6390],\n",
       " 232: [5539, 3669],\n",
       " 233: [5249, 449, 3589, 1777, 3763],\n",
       " 234: [8370, 7293, 8279],\n",
       " 235: [7363, 5125, 3916, 5933, 5998],\n",
       " 236: [4667, 286],\n",
       " 237: [2437, 2950, 3093, 1562, 797],\n",
       " 238: [7168, 8192, 4099, 2052, 3076],\n",
       " 239: [2762, 138],\n",
       " 240: [8256, 2849, 3652, 486, 839],\n",
       " 241: [1416, 4882, 8435, 5112, 7900],\n",
       " 242: [7465, 1299, 3678],\n",
       " 243: [1160, 3737, 921, 3099, 2719],\n",
       " 244: [1346],\n",
       " 245: [8544],\n",
       " 246: [2762, 7380, 5863],\n",
       " 247: [6793, 5579, 6606, 7440, 7121],\n",
       " 248: [3576, 7032],\n",
       " 249: [138, 7380, 3583],\n",
       " 250: [3588, 6156, 5657, 3098, 5658],\n",
       " 251: [3843, 132, 2181, 5763, 7433],\n",
       " 252: [8258, 1156, 3185, 7061, 2903],\n",
       " 253: [5112, 2762, 568, 7900],\n",
       " 254: [449, 1777, 2844, 285, 1246],\n",
       " 255: [8283, 7963],\n",
       " 256: [3138, 2982, 4934, 6761, 4842],\n",
       " 257: [3040, 1570, 2947, 5693, 997],\n",
       " 258: [8310],\n",
       " 259: [673, 2082, 6406, 6631, 776],\n",
       " 260: [6625, 7553, 8455, 8041, 7954],\n",
       " 261: [8102],\n",
       " 262: [1472, 7809, 5579, 6801, 7121],\n",
       " 263: [7810, 131, 4487, 3344, 5904],\n",
       " 264: [5112, 4882, 7380, 138],\n",
       " 265: [1028, 5863, 1416, 1111, 5112],\n",
       " 266: [7945, 8370, 7962],\n",
       " 267: [5240, 2666, 5248, 4792],\n",
       " 268: [8148],\n",
       " 269: [3140, 3142, 6794, 5933, 2714],\n",
       " 270: [1371, 125],\n",
       " 271: [5509, 4999, 6665, 5916, 2976],\n",
       " 273: [673, 7239, 7561, 7564, 141],\n",
       " 274: [7877],\n",
       " 275: [6625, 7624, 8041, 7963, 6524],\n",
       " 276: [8257, 7553, 7963, 8215],\n",
       " 277: [8544, 8353],\n",
       " 278: [2982, 2695, 5624, 6453, 3510],\n",
       " 279: [6052, 4934, 6348, 5998, 2129],\n",
       " 280: [131, 6668, 1529, 5534, 3360],\n",
       " 281: [4329, 5129, 7088, 7388, 2524],\n",
       " 282: [8056, 6801, 6793, 1693],\n",
       " 283: [3075, 5891, 7686, 3081, 4624],\n",
       " 284: [2982, 5624, 4842, 3916, 3533],\n",
       " 285: [768, 7937, 7812, 8081, 4902],\n",
       " 286: [1309],\n",
       " 287: [7945, 7962],\n",
       " 289: [5344, 4329, 7088, 4146, 2454],\n",
       " 290: [449, 8354, 5249, 155, 1246],\n",
       " 291: [486, 3591, 6982, 4041, 3305],\n",
       " 292: [155, 3763],\n",
       " 293: [6656, 2567, 4615, 3083, 8203],\n",
       " 294: [4882, 7900, 2350, 5863],\n",
       " 295: [8371, 8287, 8279],\n",
       " 297: [8289],\n",
       " 299: [4739, 7299, 4744, 3850, 3218],\n",
       " 300: [1572, 455, 7112, 361, 1100]}"
      ]
     },
     "execution_count": 180,
     "metadata": {},
     "output_type": "execute_result"
    }
   ],
   "source": [
    "recos_sv"
   ]
  },
  {
   "cell_type": "code",
   "execution_count": 181,
   "id": "e37e98d8",
   "metadata": {},
   "outputs": [
    {
     "name": "stdout",
     "output_type": "stream",
     "text": [
      "Number of common users:  284\n"
     ]
    },
    {
     "data": {
      "text/plain": [
       "(0.784507042253521, 0.6387401993297399)"
      ]
     },
     "execution_count": 181,
     "metadata": {},
     "output_type": "execute_result"
    }
   ],
   "source": [
    "precision_and_recall_at_k(train, test, recos_sv, k=5)"
   ]
  },
  {
   "cell_type": "code",
   "execution_count": 182,
   "id": "dae859de",
   "metadata": {},
   "outputs": [
    {
     "name": "stdout",
     "output_type": "stream",
     "text": [
      "Number of common users:  284\n"
     ]
    },
    {
     "data": {
      "text/plain": [
       "(0.6542253521126759, 0.635305934716874)"
      ]
     },
     "execution_count": 182,
     "metadata": {},
     "output_type": "execute_result"
    }
   ],
   "source": [
    "precision_and_recall_at_k(train, test, recos_mf, k=5)"
   ]
  },
  {
   "cell_type": "markdown",
   "id": "974fae58",
   "metadata": {},
   "source": [
    "#### Position-based metrics"
   ]
  },
  {
   "cell_type": "markdown",
   "id": "342d18b5",
   "metadata": {},
   "source": [
    "However, beside considering only the number of common items between the recommendations and the test set, there are also metrics that measure the position of the common items. Mean Reciprocal Rank (MRR) is one of these\n",
    "metrics.\n",
    "\n",
    "MRR is calculated as the average of the reciprocal ranks of the first correct answer for a set of queries or users. The reciprocal rank is the inverse of the rank at which the first relevant item appears; for example, if the first relevant item appears in the third position, the reciprocal rank is 1/3.\n",
    "\n",
    "MRR is particularly useful when the position of the first relevant recommendation is more significant than the presence of other relevant items in the list. It's a way to quantify how effectively a system can provide the most relevant result as quickly as possible. High MRR values indicate that the system often ranks the most relevant items higher, which is crucial for user satisfaction in scenarios where users are likely to consider only the top few recommendations or answers."
   ]
  },
  {
   "cell_type": "code",
   "execution_count": 187,
   "id": "84983b6c",
   "metadata": {},
   "outputs": [],
   "source": [
    "def calculate_mrr(common_user_ids, recommended, k):\n",
    "    \n",
    "    reciprocal_ranks = []\n",
    "    \n",
    "    for user_id in common_user_ids:\n",
    "\n",
    "        #recommended_articles = recommend_articles(user_id, user_article_matrix, user_similarity_df, top_n=k) #recommend_to_user(user_id)\n",
    "        recommended_articles = recommended[user_id]\n",
    "        actual_articles = test[test['user_id'] == user_id]['article_id'].tolist()\n",
    "        \n",
    "        # find the rank of the first relevant (actual) article in the recommendations\n",
    "        rank = None\n",
    "        for i, article_id in enumerate(recommended_articles):\n",
    "            if article_id in actual_articles:\n",
    "                rank = i + 1  # adding 1 because index starts at 0, but ranks start at 1\n",
    "                break\n",
    "        \n",
    "        # if a relevant article was found in the recommendations, calculate its reciprocal rank\n",
    "        if rank:\n",
    "            reciprocal_ranks.append(1 / rank)\n",
    "    \n",
    "    #print(reciprocal_ranks)\n",
    "    # calculate MRR\n",
    "    mrr = sum(reciprocal_ranks) / len(reciprocal_ranks) if reciprocal_ranks else 0\n",
    "    return mrr"
   ]
  },
  {
   "cell_type": "code",
   "execution_count": 188,
   "id": "0a690d62",
   "metadata": {},
   "outputs": [
    {
     "data": {
      "text/plain": [
       "1.0"
      ]
     },
     "execution_count": 188,
     "metadata": {},
     "output_type": "execute_result"
    }
   ],
   "source": [
    "calculate_mrr(common_user_ids, recos_sv, k)"
   ]
  },
  {
   "cell_type": "code",
   "execution_count": 189,
   "id": "a7e54847",
   "metadata": {},
   "outputs": [
    {
     "data": {
      "text/plain": [
       "0.7596692111959288"
      ]
     },
     "execution_count": 189,
     "metadata": {},
     "output_type": "execute_result"
    }
   ],
   "source": [
    "calculate_mrr(common_user_ids, recos_mf, k)"
   ]
  },
  {
   "cell_type": "markdown",
   "id": "26008384",
   "metadata": {},
   "source": [
    "Both precision-recall and the MRR results indicate that the Similar Vector approach gives better recommendations. However, note that the results could be different with real-world data."
   ]
  },
  {
   "cell_type": "code",
   "execution_count": null,
   "id": "b3cbd47a",
   "metadata": {},
   "outputs": [],
   "source": []
  }
 ],
 "metadata": {
  "kernelspec": {
   "display_name": "stockfink-env",
   "language": "python",
   "name": "stockfink-env"
  },
  "language_info": {
   "codemirror_mode": {
    "name": "ipython",
    "version": 3
   },
   "file_extension": ".py",
   "mimetype": "text/x-python",
   "name": "python",
   "nbconvert_exporter": "python",
   "pygments_lexer": "ipython3",
   "version": "3.9.17"
  }
 },
 "nbformat": 4,
 "nbformat_minor": 5
}
