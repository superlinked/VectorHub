{
  "cells": [
    {
      "cell_type": "markdown",
      "metadata": {
        "id": "vrtY2tEN9fpY"
      },
      "source": [
        "# Custom RAG Retriever: Superlinked + LlamaIndex Integration\n",
        "\n",
        "This notebook demonstrates how to build a custom retriever by combining **Superlinked** (vector compute engine) with **LlamaIndex**'s retrieval framework for a Steam game recommendation system.\n",
        "\n",
        "## Key Features:\n",
        "- Custom domain-specific retriever\n",
        "- Semantic similarity using sentence transformers\n",
        "- Multi-field indexing and advanced query logic\n",
        "- Real-time recommendations with sub-millisecond latency\n",
        "\n",
        "## Architecture:\n",
        "```\n",
        "User Query → Custom Retriever → Superlinked Vector Search → LlamaIndex Nodes → LLM Response\n",
        "```"
      ]
    },
    {
      "cell_type": "markdown",
      "metadata": {
        "id": "FpJMiAPM9fpe"
      },
      "source": [
        "## 1. Install Dependencies\n",
        "\n",
        "We need to install Superlinked and LlamaIndex packages for our custom retriever implementation."
      ]
    },
    {
      "cell_type": "code",
      "execution_count": null,
      "metadata": {
        "id": "EEQb21F69fpf"
      },
      "outputs": [],
      "source": [
        "%%capture\n",
        "%pip install superlinked==23.7.0 llama-index llama-index-llms-openai pandas sentence-transformers huggingface_hub numpy"
      ]
    },
    {
      "cell_type": "markdown",
      "metadata": {
        "id": "TZNmr-_99fpl"
      },
      "source": [
        "## 2. Downloading the data and setting up Hugging face"
      ]
    },
    {
      "cell_type": "code",
      "execution_count": null,
      "metadata": {
        "colab": {
          "base_uri": "https://localhost:8080/"
        },
        "id": "Kp0C52Pj9fpl",
        "outputId": "bd0a29a7-8fbf-42cd-f102-2265d59ffc61"
      },
      "outputs": [
        {
          "name": "stdout",
          "output_type": "stream",
          "text": [
            "--2025-05-30 11:35:48--  https://drive.google.com/uc?export=download&id=1jgjcnxrjAikMrzHKKk5KsMf4lYaGWr9j\n",
            "Resolving drive.google.com (drive.google.com)... 173.194.194.101, 173.194.194.113, 173.194.194.138, ...\n",
            "Connecting to drive.google.com (drive.google.com)|173.194.194.101|:443... connected.\n",
            "HTTP request sent, awaiting response... 303 See Other\n",
            "Location: https://drive.usercontent.google.com/download?id=1jgjcnxrjAikMrzHKKk5KsMf4lYaGWr9j&export=download [following]\n",
            "--2025-05-30 11:35:48--  https://drive.usercontent.google.com/download?id=1jgjcnxrjAikMrzHKKk5KsMf4lYaGWr9j&export=download\n",
            "Resolving drive.usercontent.google.com (drive.usercontent.google.com)... 74.125.69.132, 2607:f8b0:4001:c6e::84\n",
            "Connecting to drive.usercontent.google.com (drive.usercontent.google.com)|74.125.69.132|:443... connected.\n",
            "HTTP request sent, awaiting response... 200 OK\n",
            "Length: 1696215 (1.6M) [application/octet-stream]\n",
            "Saving to: ‘data.csv’\n",
            "\n",
            "data.csv            100%[===================>]   1.62M  --.-KB/s    in 0.02s   \n",
            "\n",
            "2025-05-30 11:35:51 (104 MB/s) - ‘data.csv’ saved [1696215/1696215]\n",
            "\n"
          ]
        }
      ],
      "source": [
        "import pandas as pd\n",
        "\n",
        "!wget --no-check-certificate 'https://drive.google.com/uc?export=download&id=1jgjcnxrjAikMrzHKKk5KsMf4lYaGWr9j' -O data.csv"
      ]
    },
    {
      "cell_type": "code",
      "execution_count": null,
      "metadata": {
        "colab": {
          "base_uri": "https://localhost:8080/"
        },
        "id": "xEq62jPa9fpm",
        "outputId": "dfb22540-b17f-4d49-840f-3395fa99cfcc"
      },
      "outputs": [
        {
          "name": "stdout",
          "output_type": "stream",
          "text": [
            "\n",
            "    _|    _|  _|    _|    _|_|_|    _|_|_|  _|_|_|  _|      _|    _|_|_|      _|_|_|_|    _|_|      _|_|_|  _|_|_|_|\n",
            "    _|    _|  _|    _|  _|        _|          _|    _|_|    _|  _|            _|        _|    _|  _|        _|\n",
            "    _|_|_|_|  _|    _|  _|  _|_|  _|  _|_|    _|    _|  _|  _|  _|  _|_|      _|_|_|    _|_|_|_|  _|        _|_|_|\n",
            "    _|    _|  _|    _|  _|    _|  _|    _|    _|    _|    _|_|  _|    _|      _|        _|    _|  _|        _|\n",
            "    _|    _|    _|_|      _|_|_|    _|_|_|  _|_|_|  _|      _|    _|_|_|      _|        _|    _|    _|_|_|  _|_|_|_|\n",
            "\n",
            "    To log in, `huggingface_hub` requires a token generated from https://huggingface.co/settings/tokens .\n",
            "Enter your token (input will not be visible): \n",
            "Add token as git credential? (Y/n) n\n",
            "Token is valid (permission: write).\n",
            "The token `custom-retriever` has been saved to /root/.cache/huggingface/stored_tokens\n",
            "Your token has been saved to /root/.cache/huggingface/token\n",
            "Login successful.\n",
            "The current active token is: `custom-retriever`\n"
          ]
        }
      ],
      "source": [
        "!huggingface-cli login"
      ]
    },
    {
      "cell_type": "markdown",
      "metadata": {
        "id": "4ImmwEfg9fpn"
      },
      "source": [
        "## 2. Import Required Libraries\n",
        "\n",
        "Setting up all necessary imports for our Retrieval pipeline:\n",
        "- **LlamaIndex Core**: Provides retrieval abstraction layer\n",
        "- **Superlinked Framework**: Handles vector computation and semantic search  "
      ]
    },
    {
      "cell_type": "code",
      "execution_count": null,
      "metadata": {
        "colab": {
          "base_uri": "https://localhost:8080/"
        },
        "id": "e4eO0IZp9fpn",
        "outputId": "a4d038d2-dd67-4fd6-f651-52bde176a481"
      },
      "outputs": [
        {
          "name": "stdout",
          "output_type": "stream",
          "text": [
            "✅ All libraries imported successfully!\n"
          ]
        }
      ],
      "source": [
        "import time\n",
        "import logging\n",
        "import pandas as pd\n",
        "from typing import List\n",
        "from llama_index.core.retrievers import BaseRetriever\n",
        "from llama_index.core.schema import NodeWithScore, QueryBundle, TextNode\n",
        "from llama_index.core.query_engine import RetrieverQueryEngine\n",
        "from llama_index.core.response_synthesizers import get_response_synthesizer\n",
        "from llama_index.core import Settings\n",
        "from llama_index.llms.openai import OpenAI\n",
        "import superlinked.framework as sl\n",
        "\n",
        "print(\"✅ All libraries imported successfully!\")"
      ]
    },
    {
      "cell_type": "markdown",
      "metadata": {
        "id": "Hkq52x0K9fpo"
      },
      "source": [
        "## 3. Understanding LlamaIndex Custom Retrievers\n",
        "\n",
        "LlamaIndex provides an abstract `BaseRetriever` class that serves as the foundation for all retrieval operations. The power lies in its simplicity—any custom retriever only needs to implement one core method:\n",
        "\n",
        "### The Retrieval Protocol:\n",
        "1. **Input**: `QueryBundle` - Contains user query and optional metadata\n",
        "2. **Output**: `List[NodeWithScore]` - Retrieved content chunks with relevance scores\n",
        "3. **Processing**: Backend-agnostic - Use any search strategy you want\n",
        "\n",
        "This abstraction allows you to:\n",
        "- Combine multiple search strategies\n",
        "- Run A/B tests easily\n",
        "- Plug into any agent or tool system"
      ]
    },
    {
      "cell_type": "markdown",
      "metadata": {
        "id": "aigj7_tn9fpp"
      },
      "source": [
        "## 4. Custom Superlinked Steam Games Retriever\n",
        "\n",
        "Our custom retriever inherits from `BaseRetriever` and integrates Superlinked's vector computation capabilities. Key components:\n",
        "\n",
        "- **Schema Definition**: Type-safe data structure for games\n",
        "- **Text Similarity Space**: Semantic search using sentence transformers\n",
        "- **Combined Text Field**: Concatenates multiple fields for richer semantic matching\n",
        "- **In-Memory Execution**: Lightning-fast queries for real-time recommendations"
      ]
    },
    {
      "cell_type": "code",
      "execution_count": null,
      "metadata": {
        "colab": {
          "base_uri": "https://localhost:8080/"
        },
        "id": "EG7gLl1X9fpp",
        "outputId": "af32ef18-7341-49a1-bb9a-bb8e5abc5507"
      },
      "outputs": [
        {
          "name": "stdout",
          "output_type": "stream",
          "text": [
            "✅ SuperlinkedSteamGamesRetriever class defined successfully!\n"
          ]
        }
      ],
      "source": [
        "class SuperlinkedSteamGamesRetriever(BaseRetriever):\n",
        "    \"\"\"A custom LlamaIndex retriever using Superlinked for Steam games data.\"\"\"\n",
        "\n",
        "    def __init__(self, csv_file: str, top_k: int = 10):\n",
        "        \"\"\"\n",
        "        Initialize the retriever with a CSV file path and top_k parameter.\n",
        "\n",
        "        Args:\n",
        "            csv_file (str): Path to games_data.csv\n",
        "            top_k (int): Number of results to return (default: 10)\n",
        "        \"\"\"\n",
        "        self.top_k = top_k\n",
        "        # Load the dataset and ensure all required columns are present\n",
        "        self.df = pd.read_csv(csv_file)\n",
        "        print(f\"Loaded dataset with {len(self.df)} games\")\n",
        "        print(\"DataFrame Columns:\", list(self.df.columns))\n",
        "\n",
        "        required_columns = [\n",
        "            'game_number', 'name', 'desc_snippet', 'game_details', 'languages',\n",
        "            'genre', 'game_description', 'original_price', 'discount_price'\n",
        "        ]\n",
        "        for col in required_columns:\n",
        "            if col not in self.df.columns:\n",
        "                raise ValueError(f\"Missing required column: {col}\")\n",
        "\n",
        "        # Combine relevant columns into a single field for text similarity\n",
        "        self.df['combined_text'] = (\n",
        "            self.df['name'].astype(str) + \" \" +\n",
        "            self.df['desc_snippet'].astype(str) + \" \" +\n",
        "            self.df['genre'].astype(str) + \" \" +\n",
        "            self.df['game_details'].astype(str) + \" \" +\n",
        "            self.df['game_description'].astype(str)\n",
        "        )\n",
        "\n",
        "        self._setup_superlinked()\n",
        "\n",
        "    def _setup_superlinked(self):\n",
        "        \"\"\"Set up Superlinked schema, space, index, and executor.\"\"\"\n",
        "        # Define schema\n",
        "        class GameSchema(sl.Schema):\n",
        "            game_number: sl.IdField\n",
        "            name: sl.String\n",
        "            desc_snippet: sl.String\n",
        "            game_details: sl.String\n",
        "            languages: sl.String\n",
        "            genre: sl.String\n",
        "            game_description: sl.String\n",
        "            original_price: sl.Float\n",
        "            discount_price: sl.Float\n",
        "            combined_text: sl.String  # New field for combined text\n",
        "\n",
        "        self.game = GameSchema()\n",
        "\n",
        "        # Create text similarity space using the combined_text field\n",
        "        self.text_space = sl.TextSimilaritySpace(\n",
        "            text=self.game.combined_text,\n",
        "            model=\"sentence-transformers/all-mpnet-base-v2\"\n",
        "        )\n",
        "\n",
        "        # Create index\n",
        "        self.index = sl.Index([self.text_space])\n",
        "\n",
        "        # Map DataFrame columns to schema\n",
        "        parser = sl.DataFrameParser(\n",
        "            self.game,\n",
        "            mapping={\n",
        "                self.game.game_number: \"game_number\",\n",
        "                self.game.name: \"name\",\n",
        "                self.game.desc_snippet: \"desc_snippet\",\n",
        "                self.game.game_details: \"game_details\",\n",
        "                self.game.languages: \"languages\",\n",
        "                self.game.genre: \"genre\",\n",
        "                self.game.game_description: \"game_description\",\n",
        "                self.game.original_price: \"original_price\",\n",
        "                self.game.discount_price: \"discount_price\",\n",
        "                self.game.combined_text: \"combined_text\"\n",
        "            }\n",
        "        )\n",
        "\n",
        "        # Set up in-memory source and executor\n",
        "        source = sl.InMemorySource(self.game, parser=parser)\n",
        "        self.executor = sl.InMemoryExecutor(sources=[source], indices=[self.index])\n",
        "        self.app = self.executor.run()\n",
        "\n",
        "        # Load data\n",
        "        source.put([self.df])\n",
        "        print(f\"Initialized Superlinked retriever with {len(self.df)} games\")\n",
        "\n",
        "    def _retrieve(self, query_bundle: QueryBundle) -> List[NodeWithScore]:\n",
        "        \"\"\"\n",
        "        Retrieve top-k games based on the query string.\n",
        "\n",
        "        Args:\n",
        "            query_bundle (QueryBundle): Contains the query string\n",
        "\n",
        "        Returns:\n",
        "            List[NodeWithScore]: List of retrieved games with scores\n",
        "        \"\"\"\n",
        "        query_text = query_bundle.query_str\n",
        "\n",
        "        # Define Superlinked query with explicit field selection\n",
        "        query = (\n",
        "            sl.Query(self.index)\n",
        "            .find(self.game)\n",
        "            .similar(self.text_space, query_text)\n",
        "            .select([\n",
        "                self.game.game_number,\n",
        "                self.game.name,\n",
        "                self.game.desc_snippet,\n",
        "                self.game.game_details,\n",
        "                self.game.languages,\n",
        "                self.game.genre,\n",
        "                self.game.game_description,\n",
        "                self.game.original_price,\n",
        "                self.game.discount_price\n",
        "            ])\n",
        "            .limit(self.top_k)\n",
        "        )\n",
        "\n",
        "        # Execute query\n",
        "        result = self.app.query(query)\n",
        "        df_result = sl.PandasConverter.to_pandas(result)\n",
        "\n",
        "        # Convert results to NodeWithScore objects\n",
        "        nodes_with_scores = []\n",
        "        for i, row in df_result.iterrows():\n",
        "            text = f\"{row['name']}: {row['desc_snippet']}\"\n",
        "            metadata = {\n",
        "                \"game_number\": row[\"id\"],\n",
        "                \"name\": row[\"name\"],\n",
        "                \"desc_snippet\": row[\"desc_snippet\"],\n",
        "                \"game_details\": row[\"game_details\"],\n",
        "                \"languages\": row[\"languages\"],\n",
        "                \"genre\": row[\"genre\"],\n",
        "                \"game_description\": row[\"game_description\"],\n",
        "                \"original_price\": row[\"original_price\"],\n",
        "                \"discount_price\": row[\"discount_price\"]\n",
        "            }\n",
        "            score = 1.0 - (i / self.top_k)\n",
        "            node = TextNode(text=text, metadata=metadata)\n",
        "            nodes_with_scores.append(NodeWithScore(node=node, score=score))\n",
        "\n",
        "        return nodes_with_scores\n",
        "\n",
        "print(\"✅ SuperlinkedSteamGamesRetriever class defined successfully!\")"
      ]
    },
    {
      "cell_type": "markdown",
      "metadata": {
        "id": "lMcb1Plz9fpq"
      },
      "source": [
        "## 5. Enhanced Retriever with Monitoring\n",
        "\n",
        "Adding monitoring capabilities to track query performance and results. This wrapper logs:\n",
        "- Query processing latency\n",
        "- Number of results returned\n",
        "- Query text for debugging\n",
        "- Error handling for failed retrievals\n",
        "\n",
        "This is essential for production systems where you need to monitor retriever performance."
      ]
    },
    {
      "cell_type": "code",
      "execution_count": null,
      "metadata": {
        "colab": {
          "base_uri": "https://localhost:8080/"
        },
        "id": "8m6Hjsp09fpr",
        "outputId": "731fac7f-b5df-4053-9923-fdf66b1bec68"
      },
      "outputs": [
        {
          "name": "stdout",
          "output_type": "stream",
          "text": [
            "✅ MonitoredRetriever class defined successfully!\n"
          ]
        }
      ],
      "source": [
        "class MonitoredRetriever(SuperlinkedSteamGamesRetriever):\n",
        "    def _retrieve(self, query_bundle: QueryBundle) -> List[NodeWithScore]:\n",
        "        start_time = time.time()\n",
        "\n",
        "        try:\n",
        "            results = super()._retrieve(query_bundle)\n",
        "            latency = time.time() - start_time\n",
        "\n",
        "            print(f\"Query: '{query_bundle.query_str}'\")\n",
        "            print(f\"Latency: {latency:.3f}s\")\n",
        "            print(f\"Results: {len(results)}\")\n",
        "            print(\"-\" * 50)\n",
        "\n",
        "            return results\n",
        "        except Exception as e:\n",
        "            print(f\"Retrieval failed: {str(e)}\")\n",
        "            raise\n",
        "\n",
        "print(\"✅ MonitoredRetriever class defined successfully!\")"
      ]
    },
    {
      "cell_type": "markdown",
      "metadata": {
        "id": "Cfh5sRyP9fpr"
      },
      "source": [
        "## 6. Configure OpenAI API for LLM initialization\n",
        "\n",
        "Set up your OpenAI API key for the LLM component. Replace `\"your-openai-api-key-here\"` with your actual API key."
      ]
    },
    {
      "cell_type": "code",
      "execution_count": null,
      "metadata": {
        "colab": {
          "base_uri": "https://localhost:8080/"
        },
        "id": "yEVjShbM9fpr",
        "outputId": "e961da4b-0f0e-4565-b3fe-210c14ff7669"
      },
      "outputs": [
        {
          "name": "stdout",
          "output_type": "stream",
          "text": [
            "✅ OpenAI API configured successfully!\n"
          ]
        }
      ],
      "source": [
        "import os\n",
        "\n",
        "# Replace with your actual OpenAI API key\n",
        "api_key = \"your-openai-api-key-here\"\n",
        "\n",
        "try:\n",
        "    if not api_key:\n",
        "        raise ValueError(\"OpenAI API key is not set.\")\n",
        "    Settings.llm = OpenAI(api_key=api_key, model=\"gpt-3.5-turbo\")\n",
        "    print(\"✅ OpenAI API configured successfully!\")\n",
        "except ValueError as e:\n",
        "    print(f\"Error: {e}\")\n",
        "    print(\"Please replace 'your-openai-api-key-here' with your actual OpenAI API key.\")\n",
        "except Exception as e:\n",
        "    print(f\"An unexpected error occurred during OpenAI configuration: {e}\")"
      ]
    },
    {
      "cell_type": "markdown",
      "metadata": {
        "id": "eK7yUIoz9fps"
      },
      "source": [
        "## 7. Initialize Custom Retriever\n",
        "\n",
        "Create an instance of our monitored retriever and test it with sample queries. This demonstrates:\n",
        "\n",
        "- **Retriever Initialization**: Loading the dataset and setting up Superlinked\n",
        "- **Semantic Search**: Testing queries like \"party game\" and \"magic game with spells\"\n",
        "- **Performance Monitoring**: Tracking query latency and result count\n",
        "- **Result Quality**: Examining retrieved games and relevance scores"
      ]
    },
    {
      "cell_type": "code",
      "execution_count": null,
      "metadata": {
        "colab": {
          "base_uri": "https://localhost:8080/",
          "height": 650,
          "referenced_widgets": [
            "c6e128678c044443b32155169852fba0",
            "c055bbff73ce40368a0636d2a28b395e",
            "94ad4b3a002c4389a9ac7d47a5b2f55c",
            "5c2fea06bdf5427c9379cf91cde4bf96",
            "7d68baaf93e04394beea871f86476052",
            "e2d1cdad870244acbdac9d8398fd9d19",
            "09bd2c81575c4186b5001f47f62535c9",
            "c43592b30c1a4b2db59771c219700c38",
            "84d36c92e86645dba21352c30180b338",
            "2093c883f4084248b2b79733398825d4",
            "601aaee11737489e9478b2d06d0c232d",
            "bd1452d7b0154c3d8bd5ee2c692da7db",
            "b668f782dd4f4be7b474c4694fc0bf8c",
            "eb693222380742f89e0fc06b49800b5f",
            "a6f5cfc876e14df681b1bec7610dbfeb",
            "24fc6005ec7441a8b60118cc00a1f129",
            "6a494e2c30a14b70aa7dbc8a52b84bbe",
            "03db6b17628e442c8bb37e0403aff998",
            "fd3eed4675ed471199c6fa00f7b039a6",
            "5daac983b34b4a11933cf275afd53004",
            "f198ba43aad6488396ee63eae6579b19",
            "0daf8946c53c43d8bdb3395dfa626062",
            "ee1d5e283eae4ccd8203bca37d1b1dee",
            "87cc0f6548714f43af6d25541e6bede1",
            "6eb304c8eff14434ab9ec32ae826c4fd",
            "5b447db61e2b477c921a969506d4b75b",
            "c19701e946e648049d3570e02c70fd0f",
            "847c73b85fd04354a31e201893a8453a",
            "315b636aa98b4a2ab71b75ac08529280",
            "d56c772bb2ad47bf807cfb8d32baad56",
            "adba8ec824a548809722e726dc534a41"
          ]
        },
        "id": "IZewNr1-9fps",
        "outputId": "fb63c664-97dc-47e4-9cb1-52d84042c7f3"
      },
      "outputs": [
        {
          "name": "stdout",
          "output_type": "stream",
          "text": [
            "Initializing Custom Retriever...\n",
            "Loaded dataset with 1000 games\n",
            "DataFrame Columns: ['game_number', 'name', 'desc_snippet', 'game_details', 'languages', 'genre', 'game_description', 'original_price', 'discount_price']\n"
          ]
        },
        {
          "data": {
            "application/vnd.jupyter.widget-view+json": {
              "model_id": "c6e128678c044443b32155169852fba0",
              "version_major": 2,
              "version_minor": 0
            },
            "text/plain": [
              "Fetching 28 files:   0%|          | 0/28 [00:00<?, ?it/s]"
            ]
          },
          "metadata": {},
          "output_type": "display_data"
        },
        {
          "name": "stderr",
          "output_type": "stream",
          "text": [
            "Xet Storage is enabled for this repo, but the 'hf_xet' package is not installed. Falling back to regular HTTP download. For better performance, install the package with: `pip install huggingface_hub[hf_xet]` or `pip install hf_xet`\n"
          ]
        },
        {
          "name": "stdout",
          "output_type": "stream",
          "text": [
            "11:53:56 huggingface_hub.file_download WARNING   Xet Storage is enabled for this repo, but the 'hf_xet' package is not installed. Falling back to regular HTTP download. For better performance, install the package with: `pip install huggingface_hub[hf_xet]` or `pip install hf_xet`\n"
          ]
        },
        {
          "data": {
            "application/vnd.jupyter.widget-view+json": {
              "model_id": "c055bbff73ce40368a0636d2a28b395e",
              "version_major": 2,
              "version_minor": 0
            },
            "text/plain": [
              "config.json:   0%|          | 0.00/571 [00:00<?, ?B/s]"
            ]
          },
          "metadata": {},
          "output_type": "display_data"
        },
        {
          "data": {
            "application/vnd.jupyter.widget-view+json": {
              "model_id": "94ad4b3a002c4389a9ac7d47a5b2f55c",
              "version_major": 2,
              "version_minor": 0
            },
            "text/plain": [
              "README.md:   0%|          | 0.00/10.4k [00:00<?, ?B/s]"
            ]
          },
          "metadata": {},
          "output_type": "display_data"
        },
        {
          "data": {
            "application/vnd.jupyter.widget-view+json": {
              "model_id": "5c2fea06bdf5427c9379cf91cde4bf96",
              "version_major": 2,
              "version_minor": 0
            },
            "text/plain": [
              "data_config.json:   0%|          | 0.00/39.3k [00:00<?, ?B/s]"
            ]
          },
          "metadata": {},
          "output_type": "display_data"
        },
        {
          "data": {
            "application/vnd.jupyter.widget-view+json": {
              "model_id": "7d68baaf93e04394beea871f86476052",
              "version_major": 2,
              "version_minor": 0
            },
            "text/plain": [
              "config_sentence_transformers.json:   0%|          | 0.00/116 [00:00<?, ?B/s]"
            ]
          },
          "metadata": {},
          "output_type": "display_data"
        },
        {
          "data": {
            "application/vnd.jupyter.widget-view+json": {
              "model_id": "e2d1cdad870244acbdac9d8398fd9d19",
              "version_major": 2,
              "version_minor": 0
            },
            "text/plain": [
              "modules.json:   0%|          | 0.00/349 [00:00<?, ?B/s]"
            ]
          },
          "metadata": {},
          "output_type": "display_data"
        },
        {
          "data": {
            "application/vnd.jupyter.widget-view+json": {
              "model_id": "09bd2c81575c4186b5001f47f62535c9",
              "version_major": 2,
              "version_minor": 0
            },
            "text/plain": [
              ".gitattributes:   0%|          | 0.00/1.23k [00:00<?, ?B/s]"
            ]
          },
          "metadata": {},
          "output_type": "display_data"
        },
        {
          "name": "stderr",
          "output_type": "stream",
          "text": [
            "Xet Storage is enabled for this repo, but the 'hf_xet' package is not installed. Falling back to regular HTTP download. For better performance, install the package with: `pip install huggingface_hub[hf_xet]` or `pip install hf_xet`\n"
          ]
        },
        {
          "name": "stdout",
          "output_type": "stream",
          "text": [
            "11:53:56 huggingface_hub.file_download WARNING   Xet Storage is enabled for this repo, but the 'hf_xet' package is not installed. Falling back to regular HTTP download. For better performance, install the package with: `pip install huggingface_hub[hf_xet]` or `pip install hf_xet`\n"
          ]
        },
        {
          "name": "stderr",
          "output_type": "stream",
          "text": [
            "Xet Storage is enabled for this repo, but the 'hf_xet' package is not installed. Falling back to regular HTTP download. For better performance, install the package with: `pip install huggingface_hub[hf_xet]` or `pip install hf_xet`\n",
            "Xet Storage is enabled for this repo, but the 'hf_xet' package is not installed. Falling back to regular HTTP download. For better performance, install the package with: `pip install huggingface_hub[hf_xet]` or `pip install hf_xet`\n"
          ]
        },
        {
          "name": "stdout",
          "output_type": "stream",
          "text": [
            "11:53:56 huggingface_hub.file_download WARNING   Xet Storage is enabled for this repo, but the 'hf_xet' package is not installed. Falling back to regular HTTP download. For better performance, install the package with: `pip install huggingface_hub[hf_xet]` or `pip install hf_xet`\n"
          ]
        },
        {
          "data": {
            "application/vnd.jupyter.widget-view+json": {
              "model_id": "c43592b30c1a4b2db59771c219700c38",
              "version_major": 2,
              "version_minor": 0
            },
            "text/plain": [
              "config.json:   0%|          | 0.00/190 [00:00<?, ?B/s]"
            ]
          },
          "metadata": {},
          "output_type": "display_data"
        },
        {
          "name": "stderr",
          "output_type": "stream",
          "text": [
            "Xet Storage is enabled for this repo, but the 'hf_xet' package is not installed. Falling back to regular HTTP download. For better performance, install the package with: `pip install huggingface_hub[hf_xet]` or `pip install hf_xet`\n"
          ]
        },
        {
          "name": "stdout",
          "output_type": "stream",
          "text": [
            "11:53:56 huggingface_hub.file_download WARNING   Xet Storage is enabled for this repo, but the 'hf_xet' package is not installed. Falling back to regular HTTP download. For better performance, install the package with: `pip install huggingface_hub[hf_xet]` or `pip install hf_xet`\n",
            "11:53:56 huggingface_hub.file_download WARNING   Xet Storage is enabled for this repo, but the 'hf_xet' package is not installed. Falling back to regular HTTP download. For better performance, install the package with: `pip install huggingface_hub[hf_xet]` or `pip install hf_xet`\n"
          ]
        },
        {
          "name": "stderr",
          "output_type": "stream",
          "text": [
            "Xet Storage is enabled for this repo, but the 'hf_xet' package is not installed. Falling back to regular HTTP download. For better performance, install the package with: `pip install huggingface_hub[hf_xet]` or `pip install hf_xet`\n"
          ]
        },
        {
          "name": "stdout",
          "output_type": "stream",
          "text": [
            "11:53:56 huggingface_hub.file_download WARNING   Xet Storage is enabled for this repo, but the 'hf_xet' package is not installed. Falling back to regular HTTP download. For better performance, install the package with: `pip install huggingface_hub[hf_xet]` or `pip install hf_xet`\n"
          ]
        },
        {
          "name": "stderr",
          "output_type": "stream",
          "text": [
            "Xet Storage is enabled for this repo, but the 'hf_xet' package is not installed. Falling back to regular HTTP download. For better performance, install the package with: `pip install huggingface_hub[hf_xet]` or `pip install hf_xet`\n"
          ]
        },
        {
          "name": "stdout",
          "output_type": "stream",
          "text": [
            "11:53:56 huggingface_hub.file_download WARNING   Xet Storage is enabled for this repo, but the 'hf_xet' package is not installed. Falling back to regular HTTP download. For better performance, install the package with: `pip install huggingface_hub[hf_xet]` or `pip install hf_xet`\n"
          ]
        },
        {
          "data": {
            "application/vnd.jupyter.widget-view+json": {
              "model_id": "84d36c92e86645dba21352c30180b338",
              "version_major": 2,
              "version_minor": 0
            },
            "text/plain": [
              "model.safetensors:   0%|          | 0.00/438M [00:00<?, ?B/s]"
            ]
          },
          "metadata": {},
          "output_type": "display_data"
        },
        {
          "data": {
            "application/vnd.jupyter.widget-view+json": {
              "model_id": "2093c883f4084248b2b79733398825d4",
              "version_major": 2,
              "version_minor": 0
            },
            "text/plain": [
              "model.onnx:   0%|          | 0.00/436M [00:00<?, ?B/s]"
            ]
          },
          "metadata": {},
          "output_type": "display_data"
        },
        {
          "data": {
            "application/vnd.jupyter.widget-view+json": {
              "model_id": "601aaee11737489e9478b2d06d0c232d",
              "version_major": 2,
              "version_minor": 0
            },
            "text/plain": [
              "model_O1.onnx:   0%|          | 0.00/436M [00:00<?, ?B/s]"
            ]
          },
          "metadata": {},
          "output_type": "display_data"
        },
        {
          "data": {
            "application/vnd.jupyter.widget-view+json": {
              "model_id": "bd1452d7b0154c3d8bd5ee2c692da7db",
              "version_major": 2,
              "version_minor": 0
            },
            "text/plain": [
              "model_O2.onnx:   0%|          | 0.00/436M [00:00<?, ?B/s]"
            ]
          },
          "metadata": {},
          "output_type": "display_data"
        },
        {
          "data": {
            "application/vnd.jupyter.widget-view+json": {
              "model_id": "b668f782dd4f4be7b474c4694fc0bf8c",
              "version_major": 2,
              "version_minor": 0
            },
            "text/plain": [
              "model_qint8_arm64.onnx:   0%|          | 0.00/110M [00:00<?, ?B/s]"
            ]
          },
          "metadata": {},
          "output_type": "display_data"
        },
        {
          "data": {
            "application/vnd.jupyter.widget-view+json": {
              "model_id": "eb693222380742f89e0fc06b49800b5f",
              "version_major": 2,
              "version_minor": 0
            },
            "text/plain": [
              "model_O3.onnx:   0%|          | 0.00/436M [00:00<?, ?B/s]"
            ]
          },
          "metadata": {},
          "output_type": "display_data"
        },
        {
          "data": {
            "application/vnd.jupyter.widget-view+json": {
              "model_id": "a6f5cfc876e14df681b1bec7610dbfeb",
              "version_major": 2,
              "version_minor": 0
            },
            "text/plain": [
              "model_O4.onnx:   0%|          | 0.00/218M [00:00<?, ?B/s]"
            ]
          },
          "metadata": {},
          "output_type": "display_data"
        },
        {
          "name": "stderr",
          "output_type": "stream",
          "text": [
            "Xet Storage is enabled for this repo, but the 'hf_xet' package is not installed. Falling back to regular HTTP download. For better performance, install the package with: `pip install huggingface_hub[hf_xet]` or `pip install hf_xet`\n"
          ]
        },
        {
          "name": "stdout",
          "output_type": "stream",
          "text": [
            "11:53:59 huggingface_hub.file_download WARNING   Xet Storage is enabled for this repo, but the 'hf_xet' package is not installed. Falling back to regular HTTP download. For better performance, install the package with: `pip install huggingface_hub[hf_xet]` or `pip install hf_xet`\n"
          ]
        },
        {
          "name": "stderr",
          "output_type": "stream",
          "text": [
            "Xet Storage is enabled for this repo, but the 'hf_xet' package is not installed. Falling back to regular HTTP download. For better performance, install the package with: `pip install huggingface_hub[hf_xet]` or `pip install hf_xet`\n"
          ]
        },
        {
          "name": "stdout",
          "output_type": "stream",
          "text": [
            "11:53:59 huggingface_hub.file_download WARNING   Xet Storage is enabled for this repo, but the 'hf_xet' package is not installed. Falling back to regular HTTP download. For better performance, install the package with: `pip install huggingface_hub[hf_xet]` or `pip install hf_xet`\n"
          ]
        },
        {
          "data": {
            "application/vnd.jupyter.widget-view+json": {
              "model_id": "24fc6005ec7441a8b60118cc00a1f129",
              "version_major": 2,
              "version_minor": 0
            },
            "text/plain": [
              "model_quint8_avx2.onnx:   0%|          | 0.00/110M [00:00<?, ?B/s]"
            ]
          },
          "metadata": {},
          "output_type": "display_data"
        },
        {
          "data": {
            "application/vnd.jupyter.widget-view+json": {
              "model_id": "6a494e2c30a14b70aa7dbc8a52b84bbe",
              "version_major": 2,
              "version_minor": 0
            },
            "text/plain": [
              "openvino_model.bin:   0%|          | 0.00/436M [00:00<?, ?B/s]"
            ]
          },
          "metadata": {},
          "output_type": "display_data"
        },
        {
          "data": {
            "application/vnd.jupyter.widget-view+json": {
              "model_id": "03db6b17628e442c8bb37e0403aff998",
              "version_major": 2,
              "version_minor": 0
            },
            "text/plain": [
              "openvino_model.xml:   0%|          | 0.00/433k [00:00<?, ?B/s]"
            ]
          },
          "metadata": {},
          "output_type": "display_data"
        },
        {
          "name": "stderr",
          "output_type": "stream",
          "text": [
            "Xet Storage is enabled for this repo, but the 'hf_xet' package is not installed. Falling back to regular HTTP download. For better performance, install the package with: `pip install huggingface_hub[hf_xet]` or `pip install hf_xet`\n"
          ]
        },
        {
          "name": "stdout",
          "output_type": "stream",
          "text": [
            "11:54:02 huggingface_hub.file_download WARNING   Xet Storage is enabled for this repo, but the 'hf_xet' package is not installed. Falling back to regular HTTP download. For better performance, install the package with: `pip install huggingface_hub[hf_xet]` or `pip install hf_xet`\n"
          ]
        },
        {
          "data": {
            "application/vnd.jupyter.widget-view+json": {
              "model_id": "fd3eed4675ed471199c6fa00f7b039a6",
              "version_major": 2,
              "version_minor": 0
            },
            "text/plain": [
              "openvino_model_qint8_quantized.bin:   0%|          | 0.00/110M [00:00<?, ?B/s]"
            ]
          },
          "metadata": {},
          "output_type": "display_data"
        },
        {
          "data": {
            "application/vnd.jupyter.widget-view+json": {
              "model_id": "5daac983b34b4a11933cf275afd53004",
              "version_major": 2,
              "version_minor": 0
            },
            "text/plain": [
              "openvino_model_qint8_quantized.xml:   0%|          | 0.00/742k [00:00<?, ?B/s]"
            ]
          },
          "metadata": {},
          "output_type": "display_data"
        },
        {
          "name": "stderr",
          "output_type": "stream",
          "text": [
            "Xet Storage is enabled for this repo, but the 'hf_xet' package is not installed. Falling back to regular HTTP download. For better performance, install the package with: `pip install huggingface_hub[hf_xet]` or `pip install hf_xet`\n"
          ]
        },
        {
          "name": "stdout",
          "output_type": "stream",
          "text": [
            "11:54:02 huggingface_hub.file_download WARNING   Xet Storage is enabled for this repo, but the 'hf_xet' package is not installed. Falling back to regular HTTP download. For better performance, install the package with: `pip install huggingface_hub[hf_xet]` or `pip install hf_xet`\n"
          ]
        },
        {
          "data": {
            "application/vnd.jupyter.widget-view+json": {
              "model_id": "f198ba43aad6488396ee63eae6579b19",
              "version_major": 2,
              "version_minor": 0
            },
            "text/plain": [
              "pytorch_model.bin:   0%|          | 0.00/438M [00:00<?, ?B/s]"
            ]
          },
          "metadata": {},
          "output_type": "display_data"
        },
        {
          "data": {
            "application/vnd.jupyter.widget-view+json": {
              "model_id": "0daf8946c53c43d8bdb3395dfa626062",
              "version_major": 2,
              "version_minor": 0
            },
            "text/plain": [
              "sentence_bert_config.json:   0%|          | 0.00/53.0 [00:00<?, ?B/s]"
            ]
          },
          "metadata": {},
          "output_type": "display_data"
        },
        {
          "data": {
            "application/vnd.jupyter.widget-view+json": {
              "model_id": "ee1d5e283eae4ccd8203bca37d1b1dee",
              "version_major": 2,
              "version_minor": 0
            },
            "text/plain": [
              "special_tokens_map.json:   0%|          | 0.00/239 [00:00<?, ?B/s]"
            ]
          },
          "metadata": {},
          "output_type": "display_data"
        },
        {
          "data": {
            "application/vnd.jupyter.widget-view+json": {
              "model_id": "87cc0f6548714f43af6d25541e6bede1",
              "version_major": 2,
              "version_minor": 0
            },
            "text/plain": [
              "tokenizer.json:   0%|          | 0.00/466k [00:00<?, ?B/s]"
            ]
          },
          "metadata": {},
          "output_type": "display_data"
        },
        {
          "data": {
            "application/vnd.jupyter.widget-view+json": {
              "model_id": "6eb304c8eff14434ab9ec32ae826c4fd",
              "version_major": 2,
              "version_minor": 0
            },
            "text/plain": [
              "tokenizer_config.json:   0%|          | 0.00/363 [00:00<?, ?B/s]"
            ]
          },
          "metadata": {},
          "output_type": "display_data"
        },
        {
          "data": {
            "application/vnd.jupyter.widget-view+json": {
              "model_id": "5b447db61e2b477c921a969506d4b75b",
              "version_major": 2,
              "version_minor": 0
            },
            "text/plain": [
              "train_script.py:   0%|          | 0.00/13.1k [00:00<?, ?B/s]"
            ]
          },
          "metadata": {},
          "output_type": "display_data"
        },
        {
          "data": {
            "application/vnd.jupyter.widget-view+json": {
              "model_id": "c19701e946e648049d3570e02c70fd0f",
              "version_major": 2,
              "version_minor": 0
            },
            "text/plain": [
              "vocab.txt:   0%|          | 0.00/232k [00:00<?, ?B/s]"
            ]
          },
          "metadata": {},
          "output_type": "display_data"
        },
        {
          "name": "stdout",
          "output_type": "stream",
          "text": [
            "11:54:08 superlinked.framework.dsl.index.index INFO   initialized index\n",
            "11:54:08 superlinked.framework.query.query_dag_evaluator INFO   initialized query dag\n",
            "11:54:08 superlinked.framework.online.online_dag_evaluator INFO   initialized entity dag\n",
            "11:54:08 superlinked.framework.dsl.executor.interactive.interactive_executor INFO   started in-memory app\n",
            "11:54:08 sentence_transformers.SentenceTransformer INFO   Load pretrained SentenceTransformer: sentence-transformers/all-mpnet-base-v2\n"
          ]
        },
        {
          "data": {
            "application/vnd.jupyter.widget-view+json": {
              "model_id": "847c73b85fd04354a31e201893a8453a",
              "version_major": 2,
              "version_minor": 0
            },
            "text/plain": [
              "Batches:   0%|          | 0/32 [00:00<?, ?it/s]"
            ]
          },
          "metadata": {},
          "output_type": "display_data"
        },
        {
          "name": "stdout",
          "output_type": "stream",
          "text": [
            "12:03:37 superlinked.framework.online.online_dag_evaluator INFO   evaluated entities\n",
            "12:03:37 superlinked.framework.online.source.online_data_processor INFO   stored input data\n",
            "Initialized Superlinked retriever with 1000 games\n",
            "\n",
            "============================================================\n",
            "TESTING RETRIEVAL FUNCTIONALITY\n",
            "============================================================\n",
            "\n",
            "Testing Query: 'party game'\n",
            "12:03:37 superlinked.framework.dsl.query.query_clause.select_clause INFO   The id field is automatically included - no need to specify it in the select clause.\n"
          ]
        },
        {
          "data": {
            "application/vnd.jupyter.widget-view+json": {
              "model_id": "315b636aa98b4a2ab71b75ac08529280",
              "version_major": 2,
              "version_minor": 0
            },
            "text/plain": [
              "Batches:   0%|          | 0/1 [00:00<?, ?it/s]"
            ]
          },
          "metadata": {},
          "output_type": "display_data"
        },
        {
          "name": "stdout",
          "output_type": "stream",
          "text": [
            "12:03:37 superlinked.framework.query.query_dag_evaluator INFO   evaluated query\n",
            "12:03:37 superlinked.framework.dsl.executor.query.query_executor INFO   executed query\n",
            "Query: 'party game'\n",
            "Latency: 0.376s\n",
            "Results: 3\n",
            "--------------------------------------------------\n",
            "   1. snake party: snake party is the ultimate party game enabling up to six players to quickly arrange a snake race on the same computer! they can choose their own colors, type in their names and the game party is ready to go. (Score: 1.00)\n",
            "   2. battleblock theater®: welcome to battleblock theater! you’ve got no where to go but up...on stage. play single player or co-op to free your friends and save hatty hattington! jump, solve and battle your way through a mysterious theater inhabited by highly technological felines. (Score: 0.67)\n",
            "   3. xmas shooting - scramble!!: help aru save christmas in this humoristic, action-packed shooter set in the universe of qp shooting - dangerous!! (Score: 0.33)\n",
            "\n",
            "Testing Query: 'magic game with spells'\n",
            "12:03:37 superlinked.framework.dsl.query.query_clause.select_clause INFO   The id field is automatically included - no need to specify it in the select clause.\n"
          ]
        },
        {
          "data": {
            "application/vnd.jupyter.widget-view+json": {
              "model_id": "d56c772bb2ad47bf807cfb8d32baad56",
              "version_major": 2,
              "version_minor": 0
            },
            "text/plain": [
              "Batches:   0%|          | 0/1 [00:00<?, ?it/s]"
            ]
          },
          "metadata": {},
          "output_type": "display_data"
        },
        {
          "name": "stdout",
          "output_type": "stream",
          "text": [
            "12:03:37 superlinked.framework.query.query_dag_evaluator INFO   evaluated query\n",
            "12:03:37 superlinked.framework.dsl.executor.query.query_executor INFO   executed query\n",
            "Query: 'magic game with spells'\n",
            "Latency: 0.087s\n",
            "Results: 3\n",
            "--------------------------------------------------\n",
            "   1. lords of magic: special edition: urak, once peaceful, is now a land of darkness, chaos and death. the people yearn for a champion to drive away the forces of evil. that champion is you. (Score: 1.00)\n",
            "   2. merlin soccer: a simple arcade game in which you have to play magic football. control the balls and score them into the goal, which is guarded by a terrible troll. (Score: 0.67)\n",
            "   3. magical battle festa: teos, an agency of holy mages, holds a tournament to find the best magic users in the world to take on a dark threat looming on the horizon. choose your mage and take to the arena in this fast-paced competitive fighting game that mixes troop formations and fast action. (Score: 0.33)\n",
            "\n",
            "Testing Query: 'strategy space exploration'\n",
            "12:03:37 superlinked.framework.dsl.query.query_clause.select_clause INFO   The id field is automatically included - no need to specify it in the select clause.\n"
          ]
        },
        {
          "data": {
            "application/vnd.jupyter.widget-view+json": {
              "model_id": "adba8ec824a548809722e726dc534a41",
              "version_major": 2,
              "version_minor": 0
            },
            "text/plain": [
              "Batches:   0%|          | 0/1 [00:00<?, ?it/s]"
            ]
          },
          "metadata": {},
          "output_type": "display_data"
        },
        {
          "name": "stdout",
          "output_type": "stream",
          "text": [
            "12:03:38 superlinked.framework.query.query_dag_evaluator INFO   evaluated query\n",
            "12:03:38 superlinked.framework.dsl.executor.query.query_executor INFO   executed query\n",
            "Query: 'strategy space exploration'\n",
            "Latency: 0.079s\n",
            "Results: 3\n",
            "--------------------------------------------------\n",
            "   1. stellaris: explore and discover a spectacular and ever-changing universe! paradox development studio, makers of the europa universalis and crusader kings series, and publishers of the best-selling cities: skylines, presents stellaris, advancing the genre of grand strategy to the very edges of the universe. (Score: 1.00)\n",
            "   2. space empires v: space empires v is the latest edition in the space empires series. this new chapter completely updates the ui and takes the player into a real-time rendered 3d universe. watch space battles played out in glorious detail and realistic effects. expand, explore, exploit, and exterminate in a huge living breathing galaxy. (Score: 0.67)\n",
            "   3. space engineers: space engineers is a sandbox game about engineering, construction, exploration and survival in space and on planets. players build space ships, space stations, planetary outposts of various sizes and uses, pilot ships and travel through space to explore planets and gather resources to survive. (Score: 0.33)\n",
            "\n",
            "✅ Retriever testing completed!\n"
          ]
        }
      ],
      "source": [
        "print(\"Initializing Custom Retriever...\")\n",
        "retriever = MonitoredRetriever(\"data.csv\", top_k=3)\n",
        "\n",
        "print(\"\\n\" + \"=\"*60)\n",
        "print(\"TESTING RETRIEVAL FUNCTIONALITY\")\n",
        "print(\"=\"*60)\n",
        "\n",
        "# Test query 1: Party games\n",
        "print(\"\\nTesting Query: 'party game'\")\n",
        "results = retriever.retrieve(\"party game\")\n",
        "for i, res in enumerate(results, 1):\n",
        "    print(f\"   {i}. {res.node.text} (Score: {res.score:.2f})\")\n",
        "\n",
        "# Test query 2: Magic games\n",
        "print(\"\\nTesting Query: 'magic game with spells'\")\n",
        "results = retriever.retrieve(\"magic game with spells\")\n",
        "for i, res in enumerate(results, 1):\n",
        "    print(f\"   {i}. {res.node.text} (Score: {res.score:.2f})\")\n",
        "\n",
        "# Test query 3: Strategy games\n",
        "print(\"\\nTesting Query: 'strategy space exploration'\")\n",
        "results = retriever.retrieve(\"strategy space exploration\")\n",
        "for i, res in enumerate(results, 1):\n",
        "    print(f\"   {i}. {res.node.text} (Score: {res.score:.2f})\")\n",
        "\n",
        "print(\"\\n✅ Retriever testing completed!\")"
      ]
    },
    {
      "cell_type": "markdown",
      "metadata": {
        "id": "CzzXfgy49fps"
      },
      "source": [
        "## 8. Complete Retrieval Pipeline Integration\n",
        "\n",
        "Now we combine our custom retriever with LlamaIndex's query engine to create a full RAG system. This integration:\n",
        "\n",
        "- **Retriever**: Our custom Superlinked-powered semantic search\n",
        "- **Response Synthesizer**: LlamaIndex component that formats retrieved content\n",
        "- **Query Engine**: Orchestrates retrieval + LLM response generation\n",
        "- **LLM**: OpenAI model that generates final responses based on retrieved context\n",
        "\n",
        "The pipeline flow: `User Query → Semantic Retrieval → Context Assembly → LLM Response`"
      ]
    },
    {
      "cell_type": "code",
      "execution_count": null,
      "metadata": {
        "id": "6TOJUG_E9fpt",
        "outputId": "d3cdbaf9-b2c3-4a4c-9fc2-683984619b22"
      },
      "outputs": [
        {
          "name": "stdout",
          "output_type": "stream",
          "text": [
            "Setting up complete Retrieval pipeline...\n",
            "✅ RAG pipeline configured successfully!\n",
            "\n",
            "============================================================\n",
            "FULL RAG PIPELINE DEMONSTRATION\n",
            "============================================================\n",
            "\n",
            "Query 1: 'I want to find a magic game with spells and wizards'\n",
            "--------------------------------------------------\n",
            "12:13:20 superlinked.framework.dsl.query.query_clause.select_clause INFO   The id field is automatically included - no need to specify it in the select clause.\n",
            "12:13:20 superlinked.framework.query.query_dag_evaluator INFO   evaluated query\n",
            "12:13:20 superlinked.framework.dsl.executor.query.query_executor INFO   executed query\n",
            "Query: 'I want to find a magic game with spells and wizards'\n",
            "Latency: 0.018s\n",
            "Results: 3\n",
            "--------------------------------------------------\n",
            "12:13:21 httpx INFO   HTTP Request: POST https://api.openai.com/v1/chat/completions \"HTTP/1.1 200 OK\"\n",
            "Response: Lords of Magic: Special Edition blends classic fantasy role-playing with real-time strategy combat, allowing players to wield fantastic sorcery, explore lands, develop abilities, and form powerful alliances.\n",
            "\n",
            "==================================================\n",
            "\n",
            "Query 2: 'Recommend a fun party game for friends'\n",
            "--------------------------------------------------\n",
            "12:13:21 superlinked.framework.dsl.query.query_clause.select_clause INFO   The id field is automatically included - no need to specify it in the select clause.\n",
            "12:13:21 superlinked.framework.query.query_dag_evaluator INFO   evaluated query\n",
            "12:13:21 superlinked.framework.dsl.executor.query.query_executor INFO   executed query\n",
            "Query: 'Recommend a fun party game for friends'\n",
            "Latency: 0.013s\n",
            "Results: 3\n",
            "--------------------------------------------------\n",
            "12:13:21 httpx INFO   HTTP Request: POST https://api.openai.com/v1/chat/completions \"HTTP/1.1 200 OK\"\n",
            "Response: splody\n",
            "\n",
            "==================================================\n",
            "\n",
            "Query 3: 'I'm looking for a strategic sci-fi game'\n",
            "--------------------------------------------------\n",
            "12:13:21 superlinked.framework.dsl.query.query_clause.select_clause INFO   The id field is automatically included - no need to specify it in the select clause.\n",
            "12:13:21 superlinked.framework.query.query_dag_evaluator INFO   evaluated query\n",
            "12:13:21 superlinked.framework.dsl.executor.query.query_executor INFO   executed query\n",
            "Query: 'I'm looking for a strategic sci-fi game'\n",
            "Latency: 0.016s\n",
            "Results: 3\n",
            "--------------------------------------------------\n",
            "12:13:23 httpx INFO   HTTP Request: POST https://api.openai.com/v1/chat/completions \"HTTP/1.1 200 OK\"\n",
            "Response: Stellaris is a strategic sci-fi game that allows players to explore and interact with various species as they journey among the stars. Players can forge a galactic empire, engage in diplomacy, and partake in interstellar warfare while customizing their empire and ships. The game offers deep exploration, stunning space visuals, and infinite variation of species, making it a compelling choice for those seeking a strategic sci-fi experience.\n",
            "\n",
            "==================================================\n",
            "\n",
            "Query 4: 'What's a good cooperative game for teamwork?'\n",
            "--------------------------------------------------\n",
            "12:13:24 superlinked.framework.dsl.query.query_clause.select_clause INFO   The id field is automatically included - no need to specify it in the select clause.\n",
            "12:13:24 superlinked.framework.query.query_dag_evaluator INFO   evaluated query\n",
            "12:13:24 superlinked.framework.dsl.executor.query.query_executor INFO   executed query\n",
            "Query: 'What's a good cooperative game for teamwork?'\n",
            "Latency: 0.015s\n",
            "Results: 3\n",
            "--------------------------------------------------\n",
            "12:13:24 httpx INFO   HTTP Request: POST https://api.openai.com/v1/chat/completions \"HTTP/1.1 200 OK\"\n",
            "Response: Grimmwood - They Come at Night is a good cooperative game for teamwork.\n",
            "\n",
            "==================================================\n"
          ]
        }
      ],
      "source": [
        "print(\"Setting up complete Retrieval pipeline...\")\n",
        "\n",
        "# Create response synthesizer and query engine\n",
        "response_synthesizer = get_response_synthesizer()\n",
        "query_engine = RetrieverQueryEngine(\n",
        "    retriever=retriever,\n",
        "    response_synthesizer=response_synthesizer\n",
        ")\n",
        "\n",
        "print(\"✅ RAG pipeline configured successfully!\")\n",
        "\n",
        "print(\"\\n\" + \"=\"*60)\n",
        "print(\"FULL RAG PIPELINE DEMONSTRATION\")\n",
        "print(\"=\"*60)\n",
        "\n",
        "# Test queries with full RAG responses\n",
        "test_queries = [\n",
        "    \"I want to find a magic game with spells and wizards\",\n",
        "    \"Recommend a fun party game for friends\",\n",
        "    \"I'm looking for a strategic sci-fi game\",\n",
        "    \"What's a good cooperative game for teamwork?\"\n",
        "]\n",
        "\n",
        "for i, query in enumerate(test_queries, 1):\n",
        "    print(f\"\\nQuery {i}: '{query}'\")\n",
        "    print(\"-\" * 50)\n",
        "\n",
        "    response = query_engine.query(query)\n",
        "    print(f\"Response: {response}\")\n",
        "    print(\"\\n\" + \"=\"*50)"
      ]
    },
    {
      "cell_type": "markdown",
      "metadata": {
        "id": "WLXL2rtG9fpt"
      },
      "source": [
        "## 9. Performance Analysis and Insights\n",
        "\n",
        "Let's analyze the performance characteristics of our custom retriever and compare different query types.\n",
        "\n",
        "**Key Metrics:**\n",
        "- **Latency**: Time taken for retrieval operations\n",
        "- **Relevance**: Quality of retrieved results\n",
        "- **Semantic Understanding**: How well it handles natural language queries\n",
        "- **Scalability**: Performance with different dataset sizes"
      ]
    },
    {
      "cell_type": "code",
      "execution_count": null,
      "metadata": {
        "id": "8SWLSJqI9fpt",
        "colab": {
          "referenced_widgets": [
            "6d10db118484466697b3d3fb40491698",
            "feba7ee538e2434288f88f913e2a1998",
            "884cfcfb722f4feb8450a16a3cf5d325",
            "b4f3574fc017424b974ab886807b7f3f",
            "34bc57aa15a24d4eb35d8ba693f9c933"
          ]
        },
        "outputId": "ae997060-ba1d-4e6d-a10d-0cfad630c471"
      },
      "outputs": [
        {
          "name": "stdout",
          "output_type": "stream",
          "text": [
            "PERFORMANCE ANALYSIS\n",
            "==================================================\n",
            "12:13:28 superlinked.framework.dsl.query.query_clause.select_clause INFO   The id field is automatically included - no need to specify it in the select clause.\n"
          ]
        },
        {
          "data": {
            "application/vnd.jupyter.widget-view+json": {
              "model_id": "6d10db118484466697b3d3fb40491698",
              "version_major": 2,
              "version_minor": 0
            },
            "text/plain": [
              "Batches:   0%|          | 0/1 [00:00<?, ?it/s]"
            ]
          },
          "metadata": {},
          "output_type": "display_data"
        },
        {
          "name": "stdout",
          "output_type": "stream",
          "text": [
            "12:13:28 superlinked.framework.query.query_dag_evaluator INFO   evaluated query\n",
            "12:13:28 superlinked.framework.dsl.executor.query.query_executor INFO   executed query\n",
            "Query: 'magic'\n",
            "Latency: 0.104s\n",
            "Results: 3\n",
            "--------------------------------------------------\n",
            "Simple   | 0.1045s | 3 results | 'magic'\n",
            "12:13:28 superlinked.framework.dsl.query.query_clause.select_clause INFO   The id field is automatically included - no need to specify it in the select clause.\n"
          ]
        },
        {
          "data": {
            "application/vnd.jupyter.widget-view+json": {
              "model_id": "feba7ee538e2434288f88f913e2a1998",
              "version_major": 2,
              "version_minor": 0
            },
            "text/plain": [
              "Batches:   0%|          | 0/1 [00:00<?, ?it/s]"
            ]
          },
          "metadata": {},
          "output_type": "display_data"
        },
        {
          "name": "stdout",
          "output_type": "stream",
          "text": [
            "12:13:28 superlinked.framework.query.query_dag_evaluator INFO   evaluated query\n",
            "12:13:28 superlinked.framework.dsl.executor.query.query_executor INFO   executed query\n",
            "Query: 'party game for friends'\n",
            "Latency: 0.091s\n",
            "Results: 3\n",
            "--------------------------------------------------\n",
            "Medium   | 0.0912s | 3 results | 'party game for friends'\n",
            "12:13:28 superlinked.framework.dsl.query.query_clause.select_clause INFO   The id field is automatically included - no need to specify it in the select clause.\n"
          ]
        },
        {
          "data": {
            "application/vnd.jupyter.widget-view+json": {
              "model_id": "884cfcfb722f4feb8450a16a3cf5d325",
              "version_major": 2,
              "version_minor": 0
            },
            "text/plain": [
              "Batches:   0%|          | 0/1 [00:00<?, ?it/s]"
            ]
          },
          "metadata": {},
          "output_type": "display_data"
        },
        {
          "name": "stdout",
          "output_type": "stream",
          "text": [
            "12:13:28 superlinked.framework.query.query_dag_evaluator INFO   evaluated query\n",
            "12:13:28 superlinked.framework.dsl.executor.query.query_executor INFO   executed query\n",
            "Query: 'strategic cooperative space exploration with teamwork'\n",
            "Latency: 0.104s\n",
            "Results: 3\n",
            "--------------------------------------------------\n",
            "Complex  | 0.1046s | 3 results | 'strategic cooperative space exploration with teamwork'\n",
            "12:13:28 superlinked.framework.dsl.query.query_clause.select_clause INFO   The id field is automatically included - no need to specify it in the select clause.\n"
          ]
        },
        {
          "data": {
            "application/vnd.jupyter.widget-view+json": {
              "model_id": "b4f3574fc017424b974ab886807b7f3f",
              "version_major": 2,
              "version_minor": 0
            },
            "text/plain": [
              "Batches:   0%|          | 0/1 [00:00<?, ?it/s]"
            ]
          },
          "metadata": {},
          "output_type": "display_data"
        },
        {
          "name": "stdout",
          "output_type": "stream",
          "text": [
            "12:13:28 superlinked.framework.query.query_dag_evaluator INFO   evaluated query\n",
            "12:13:28 superlinked.framework.dsl.executor.query.query_executor INFO   executed query\n",
            "Query: 'medieval battle tactics with historical accuracy'\n",
            "Latency: 0.092s\n",
            "Results: 3\n",
            "--------------------------------------------------\n",
            "Specific | 0.0924s | 3 results | 'medieval battle tactics with historical accuracy'\n",
            "12:13:28 superlinked.framework.dsl.query.query_clause.select_clause INFO   The id field is automatically included - no need to specify it in the select clause.\n"
          ]
        },
        {
          "data": {
            "application/vnd.jupyter.widget-view+json": {
              "model_id": "34bc57aa15a24d4eb35d8ba693f9c933",
              "version_major": 2,
              "version_minor": 0
            },
            "text/plain": [
              "Batches:   0%|          | 0/1 [00:00<?, ?it/s]"
            ]
          },
          "metadata": {},
          "output_type": "display_data"
        },
        {
          "name": "stdout",
          "output_type": "stream",
          "text": [
            "12:13:28 superlinked.framework.query.query_dag_evaluator INFO   evaluated query\n",
            "12:13:28 superlinked.framework.dsl.executor.query.query_executor INFO   executed query\n",
            "Query: 'fun social experience with puzzles and challenges'\n",
            "Latency: 0.108s\n",
            "Results: 3\n",
            "--------------------------------------------------\n",
            "Abstract | 0.1093s | 3 results | 'fun social experience with puzzles and challenges'\n",
            "\n",
            "Average latency: 0.1004s\n",
            "✅ Performance analysis completed!\n"
          ]
        }
      ],
      "source": [
        "import time\n",
        "\n",
        "print(\"PERFORMANCE ANALYSIS\")\n",
        "print(\"=\"*50)\n",
        "\n",
        "# Test different query complexities\n",
        "performance_queries = [\n",
        "    (\"Simple\", \"magic\"),\n",
        "    (\"Medium\", \"party game for friends\"),\n",
        "    (\"Complex\", \"strategic cooperative space exploration with teamwork\"),\n",
        "    (\"Specific\", \"medieval battle tactics with historical accuracy\"),\n",
        "    (\"Abstract\", \"fun social experience with puzzles and challenges\")\n",
        "]\n",
        "\n",
        "performance_results = []\n",
        "\n",
        "for complexity, query in performance_queries:\n",
        "    start_time = time.time()\n",
        "    results = retriever.retrieve(query)\n",
        "    end_time = time.time()\n",
        "\n",
        "    latency = end_time - start_time\n",
        "    performance_results.append({\n",
        "        'complexity': complexity,\n",
        "        'query': query,\n",
        "        'latency': latency,\n",
        "        'results_count': len(results)\n",
        "    })\n",
        "\n",
        "    print(f\"{complexity:8} | {latency:.4f}s | {len(results)} results | '{query}'\")\n",
        "\n",
        "print(f\"\\nAverage latency: {sum(r['latency'] for r in performance_results) / len(performance_results):.4f}s\")\n",
        "print(\"✅ Performance analysis completed!\")"
      ]
    }
  ],
  "metadata": {
    "colab": {
      "provenance": []
    },
    "kernelspec": {
      "display_name": "custom-retriever",
      "language": "python",
      "name": "python3"
    },
    "language_info": {
      "codemirror_mode": {
        "name": "ipython",
        "version": 3
      },
      "file_extension": ".py",
      "mimetype": "text/x-python",
      "name": "python",
      "nbconvert_exporter": "python",
      "pygments_lexer": "ipython3",
      "version": "3.11.9"
    }
  },
  "nbformat": 4,
  "nbformat_minor": 0
}